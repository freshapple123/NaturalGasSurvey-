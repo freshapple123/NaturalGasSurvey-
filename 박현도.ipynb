{
 "cells": [
  {
   "cell_type": "code",
   "execution_count": 26,
   "metadata": {},
   "outputs": [
    {
     "name": "stdout",
     "output_type": "stream",
     "text": [
      "<class 'pandas.core.frame.DataFrame'>\n",
      "RangeIndex: 1239 entries, 0 to 1238\n",
      "Data columns (total 23 columns):\n",
      " #   Column                 Non-Null Count  Dtype  \n",
      "---  ------                 --------------  -----  \n",
      " 0   District               1239 non-null   object \n",
      " 1   API Number             1239 non-null   int64  \n",
      " 2   Field Name             1198 non-null   object \n",
      " 3   Field Number           1198 non-null   float64\n",
      " 4   Lease/Gas ID           1235 non-null   float64\n",
      " 5   Lease Name             1239 non-null   object \n",
      " 6   Well Number            1200 non-null   object \n",
      " 7   Operator Name          1239 non-null   object \n",
      " 8   County Name            1239 non-null   object \n",
      " 9   County Number          1239 non-null   int64  \n",
      " 10  Survey Name            1239 non-null   object \n",
      " 11  Survey Section Number  956 non-null    float64\n",
      " 12  Alternate Survey Name  0 non-null      float64\n",
      " 13  Abstract Number        1190 non-null   object \n",
      " 14  Block                  782 non-null    object \n",
      " 15  O/G/D code             1239 non-null   object \n",
      " 16  Top Log Interval       1239 non-null   int64  \n",
      " 17  Bottom Total Depth     1239 non-null   int64  \n",
      " 18  Document Date          1239 non-null   object \n",
      " 19  Image Size             1239 non-null   object \n",
      " 20  Scan Date              1239 non-null   object \n",
      " 21  Log Description        1239 non-null   object \n",
      " 22  Image path             1239 non-null   object \n",
      "dtypes: float64(4), int64(4), object(15)\n",
      "memory usage: 222.8+ KB\n"
     ]
    }
   ],
   "source": [
    "import pandas as pd\n",
    "\n",
    "df_01 = pd.read_excel('텍사스주_우물정보_25_02.xls', sheet_name= '01')\n",
    "df_02 = pd.read_excel('텍사스주_우물정보_25_02.xls', sheet_name= '02')\n",
    "df_03 = pd.read_excel('텍사스주_우물정보_25_02.xls', sheet_name= '03')\n",
    "df_04 = pd.read_excel('텍사스주_우물정보_25_02.xls', sheet_name= '04')\n",
    "df_05 = pd.read_excel('텍사스주_우물정보_25_02.xls', sheet_name= '05')\n",
    "df_06 = pd.read_excel('텍사스주_우물정보_25_02.xls', sheet_name= '06')\n",
    "df_08 = pd.read_excel('텍사스주_우물정보_25_02.xls', sheet_name= '08')\n",
    "df_09 = pd.read_excel('텍사스주_우물정보_25_02.xls', sheet_name= '09')\n",
    "df_10 = pd.read_excel('텍사스주_우물정보_25_02.xls', sheet_name= '10')\n",
    "df_11 = pd.read_excel('텍사스주_우물정보_25_02.xls', sheet_name= '7B')\n",
    "df_12 = pd.read_excel('텍사스주_우물정보_25_02.xls', sheet_name= '7C')\n",
    "df_13 = pd.read_excel('텍사스주_우물정보_25_02.xls', sheet_name= '8A')\n",
    "\n",
    "# Combine all the dataframes into one\n",
    "df = pd.concat([df_01, df_02, df_03, df_04, df_05, df_06, df_08, df_09, df_10, df_11, df_12, df_13], ignore_index=True)\n",
    "\n",
    "df.info()\n"
   ]
  },
  {
   "cell_type": "code",
   "execution_count": null,
   "metadata": {
    "vscode": {
     "languageId": "ini"
    }
   },
   "outputs": [
    {
     "data": {
      "application/vnd.microsoft.datawrangler.viewer.v0+json": {
       "columns": [
        {
         "name": "index",
         "rawType": "int64",
         "type": "integer"
        },
        {
         "name": "API Number",
         "rawType": "int64",
         "type": "integer"
        },
        {
         "name": "County Name",
         "rawType": "object",
         "type": "string"
        },
        {
         "name": "County Number",
         "rawType": "int64",
         "type": "integer"
        },
        {
         "name": "Bottom Total Depth",
         "rawType": "int64",
         "type": "integer"
        }
       ],
       "conversionMethod": "pd.DataFrame",
       "ref": "29f30662-5b95-49e4-8926-e7a8fee9346c",
       "rows": [
        [
         "0",
         "1335890",
         "ATASCOSA",
         "13",
         "17409"
        ],
        [
         "1",
         "47944500",
         "WEBB",
         "479",
         "20012"
        ],
        [
         "2",
         "47944499",
         "WEBB",
         "479",
         "19340"
        ],
        [
         "3",
         "12738440",
         "DIMMIT",
         "127",
         "17485"
        ],
        [
         "4",
         "12738426",
         "DIMMIT",
         "127",
         "15622"
        ]
       ],
       "shape": {
        "columns": 4,
        "rows": 5
       }
      },
      "text/html": [
       "<div>\n",
       "<style scoped>\n",
       "    .dataframe tbody tr th:only-of-type {\n",
       "        vertical-align: middle;\n",
       "    }\n",
       "\n",
       "    .dataframe tbody tr th {\n",
       "        vertical-align: top;\n",
       "    }\n",
       "\n",
       "    .dataframe thead th {\n",
       "        text-align: right;\n",
       "    }\n",
       "</style>\n",
       "<table border=\"1\" class=\"dataframe\">\n",
       "  <thead>\n",
       "    <tr style=\"text-align: right;\">\n",
       "      <th></th>\n",
       "      <th>API Number</th>\n",
       "      <th>County Name</th>\n",
       "      <th>County Number</th>\n",
       "      <th>Bottom Total Depth</th>\n",
       "    </tr>\n",
       "  </thead>\n",
       "  <tbody>\n",
       "    <tr>\n",
       "      <th>0</th>\n",
       "      <td>1335890</td>\n",
       "      <td>ATASCOSA</td>\n",
       "      <td>13</td>\n",
       "      <td>17409</td>\n",
       "    </tr>\n",
       "    <tr>\n",
       "      <th>1</th>\n",
       "      <td>47944500</td>\n",
       "      <td>WEBB</td>\n",
       "      <td>479</td>\n",
       "      <td>20012</td>\n",
       "    </tr>\n",
       "    <tr>\n",
       "      <th>2</th>\n",
       "      <td>47944499</td>\n",
       "      <td>WEBB</td>\n",
       "      <td>479</td>\n",
       "      <td>19340</td>\n",
       "    </tr>\n",
       "    <tr>\n",
       "      <th>3</th>\n",
       "      <td>12738440</td>\n",
       "      <td>DIMMIT</td>\n",
       "      <td>127</td>\n",
       "      <td>17485</td>\n",
       "    </tr>\n",
       "    <tr>\n",
       "      <th>4</th>\n",
       "      <td>12738426</td>\n",
       "      <td>DIMMIT</td>\n",
       "      <td>127</td>\n",
       "      <td>15622</td>\n",
       "    </tr>\n",
       "  </tbody>\n",
       "</table>\n",
       "</div>"
      ],
      "text/plain": [
       "   API Number County Name  County Number  Bottom Total Depth\n",
       "0     1335890    ATASCOSA             13               17409\n",
       "1    47944500        WEBB            479               20012\n",
       "2    47944499        WEBB            479               19340\n",
       "3    12738440      DIMMIT            127               17485\n",
       "4    12738426      DIMMIT            127               15622"
      ]
     },
     "execution_count": 6,
     "metadata": {},
     "output_type": "execute_result"
    }
   ],
   "source": [
    "# 데이터 열 고르기\n",
    "selected_columns = df[['API Number', 'County Name', 'County Number', 'Bottom Total Depth']]\n",
    "selected_columns.head()"
   ]
  },
  {
   "cell_type": "code",
   "execution_count": 27,
   "metadata": {},
   "outputs": [
    {
     "data": {
      "text/plain": [
       "County Name\n",
       "MIDLAND       88\n",
       "REEVES        82\n",
       "MARTIN        79\n",
       "HOWARD        78\n",
       "COCHRAN       65\n",
       "              ..\n",
       "PALO PINTO     1\n",
       "DENTON         1\n",
       "COTTLE         1\n",
       "FOARD          1\n",
       "CROSBY         1\n",
       "Name: count, Length: 95, dtype: int64"
      ]
     },
     "execution_count": 27,
     "metadata": {},
     "output_type": "execute_result"
    }
   ],
   "source": [
    "# county 값 갯수 카운트\n",
    "selected_columns['County Name'].value_counts()"
   ]
  },
  {
   "cell_type": "code",
   "execution_count": 29,
   "metadata": {},
   "outputs": [
    {
     "data": {
      "application/vnd.microsoft.datawrangler.viewer.v0+json": {
       "columns": [
        {
         "name": "index",
         "rawType": "int64",
         "type": "integer"
        },
        {
         "name": "API Number",
         "rawType": "int64",
         "type": "integer"
        },
        {
         "name": "County Name",
         "rawType": "object",
         "type": "string"
        },
        {
         "name": "County Number",
         "rawType": "int64",
         "type": "integer"
        },
        {
         "name": "Bottom Total Depth",
         "rawType": "int64",
         "type": "integer"
        }
       ],
       "conversionMethod": "pd.DataFrame",
       "ref": "aea725fd-eb16-4e70-80d7-f8ce0c51cfe5",
       "rows": [
        [
         "193",
         "132842",
         "ANDERSON",
         "1",
         "12064"
        ],
        [
         "194",
         "132842",
         "ANDERSON",
         "1",
         "12064"
        ],
        [
         "191",
         "132854",
         "ANDERSON",
         "1",
         "9342"
        ],
        [
         "192",
         "132854",
         "ANDERSON",
         "1",
         "9342"
        ],
        [
         "734",
         "348418",
         "ANDREWS",
         "3",
         "20419"
        ]
       ],
       "shape": {
        "columns": 4,
        "rows": 5
       }
      },
      "text/html": [
       "<div>\n",
       "<style scoped>\n",
       "    .dataframe tbody tr th:only-of-type {\n",
       "        vertical-align: middle;\n",
       "    }\n",
       "\n",
       "    .dataframe tbody tr th {\n",
       "        vertical-align: top;\n",
       "    }\n",
       "\n",
       "    .dataframe thead th {\n",
       "        text-align: right;\n",
       "    }\n",
       "</style>\n",
       "<table border=\"1\" class=\"dataframe\">\n",
       "  <thead>\n",
       "    <tr style=\"text-align: right;\">\n",
       "      <th></th>\n",
       "      <th>API Number</th>\n",
       "      <th>County Name</th>\n",
       "      <th>County Number</th>\n",
       "      <th>Bottom Total Depth</th>\n",
       "    </tr>\n",
       "  </thead>\n",
       "  <tbody>\n",
       "    <tr>\n",
       "      <th>193</th>\n",
       "      <td>132842</td>\n",
       "      <td>ANDERSON</td>\n",
       "      <td>1</td>\n",
       "      <td>12064</td>\n",
       "    </tr>\n",
       "    <tr>\n",
       "      <th>194</th>\n",
       "      <td>132842</td>\n",
       "      <td>ANDERSON</td>\n",
       "      <td>1</td>\n",
       "      <td>12064</td>\n",
       "    </tr>\n",
       "    <tr>\n",
       "      <th>191</th>\n",
       "      <td>132854</td>\n",
       "      <td>ANDERSON</td>\n",
       "      <td>1</td>\n",
       "      <td>9342</td>\n",
       "    </tr>\n",
       "    <tr>\n",
       "      <th>192</th>\n",
       "      <td>132854</td>\n",
       "      <td>ANDERSON</td>\n",
       "      <td>1</td>\n",
       "      <td>9342</td>\n",
       "    </tr>\n",
       "    <tr>\n",
       "      <th>734</th>\n",
       "      <td>348418</td>\n",
       "      <td>ANDREWS</td>\n",
       "      <td>3</td>\n",
       "      <td>20419</td>\n",
       "    </tr>\n",
       "  </tbody>\n",
       "</table>\n",
       "</div>"
      ],
      "text/plain": [
       "     API Number County Name  County Number  Bottom Total Depth\n",
       "193      132842    ANDERSON              1               12064\n",
       "194      132842    ANDERSON              1               12064\n",
       "191      132854    ANDERSON              1                9342\n",
       "192      132854    ANDERSON              1                9342\n",
       "734      348418     ANDREWS              3               20419"
      ]
     },
     "execution_count": 29,
     "metadata": {},
     "output_type": "execute_result"
    }
   ],
   "source": [
    "# county 기준으로 내림차순 정렬\n",
    "sorted_selected_columns = selected_columns.sort_values(by=['County Name', 'Bottom Total Depth'], ascending=[True, False])\n",
    "sorted_selected_columns.head()\n"
   ]
  },
  {
   "cell_type": "code",
   "execution_count": null,
   "metadata": {
    "vscode": {
     "languageId": "ini"
    }
   },
   "outputs": [
    {
     "data": {
      "text/plain": [
       "County Name\n",
       "ANDERSON    10703.000000\n",
       "ANDREWS     11747.500000\n",
       "ARCHER       4506.333333\n",
       "ATASCOSA    17589.714286\n",
       "BEE         23334.000000\n",
       "                ...     \n",
       "WINKLER      9490.846154\n",
       "WISE        14551.125000\n",
       "YOAKUM       8151.222222\n",
       "YOUNG        2731.538462\n",
       "ZAVALA       1855.000000\n",
       "Name: Bottom Total Depth, Length: 95, dtype: float64"
      ]
     },
     "execution_count": 30,
     "metadata": {},
     "output_type": "execute_result"
    }
   ],
   "source": [
    "# county 마다 평균 깊이\n",
    "county_avg_depth = sorted_selected_columns.groupby('County Name')['Bottom Total Depth'].mean()\n"
   ]
  },
  {
   "cell_type": "code",
   "execution_count": null,
   "metadata": {
    "vscode": {
     "languageId": "ini"
    }
   },
   "outputs": [
    {
     "data": {
      "application/vnd.microsoft.datawrangler.viewer.v0+json": {
       "columns": [
        {
         "name": "index",
         "rawType": "int64",
         "type": "integer"
        },
        {
         "name": "County Name",
         "rawType": "object",
         "type": "string"
        },
        {
         "name": "County Number",
         "rawType": "int64",
         "type": "integer"
        },
        {
         "name": "County_Count",
         "rawType": "int64",
         "type": "integer"
        },
        {
         "name": "County_Avg_Depth",
         "rawType": "float64",
         "type": "float"
        }
       ],
       "conversionMethod": "pd.DataFrame",
       "ref": "59dd7f97-88d8-4431-a554-e4657c5e6f0e",
       "rows": [
        [
         "0",
         "ANDERSON",
         "1",
         "4",
         "10703.0"
        ],
        [
         "1",
         "ANDREWS",
         "3",
         "16",
         "11747.5"
        ],
        [
         "2",
         "ARCHER",
         "9",
         "18",
         "4506.333333333333"
        ],
        [
         "3",
         "ATASCOSA",
         "13",
         "14",
         "17589.714285714286"
        ],
        [
         "4",
         "BEE",
         "25",
         "2",
         "23334.0"
        ],
        [
         "5",
         "BORDEN",
         "33",
         "2",
         "6718.0"
        ],
        [
         "6",
         "BRAZOS",
         "41",
         "10",
         "17872.2"
        ],
        [
         "7",
         "BURLESON",
         "51",
         "3",
         "18307.666666666668"
        ],
        [
         "8",
         "CASS",
         "67",
         "1",
         "12102.0"
        ],
        [
         "9",
         "CHAMBERS",
         "71",
         "3",
         "1935.0"
        ],
        [
         "10",
         "CLAY",
         "77",
         "3",
         "5033.0"
        ],
        [
         "11",
         "COCHRAN",
         "79",
         "65",
         "11176.846153846154"
        ],
        [
         "12",
         "COKE",
         "81",
         "1",
         "4600.0"
        ],
        [
         "13",
         "COLORADO",
         "89",
         "1",
         "10750.0"
        ],
        [
         "14",
         "COOKE",
         "97",
         "5",
         "2251.6"
        ],
        [
         "15",
         "COTTLE",
         "101",
         "1",
         "3676.0"
        ],
        [
         "16",
         "CRANE",
         "103",
         "56",
         "5194.125"
        ],
        [
         "17",
         "CROCKETT",
         "105",
         "2",
         "5653.0"
        ],
        [
         "18",
         "CROSBY",
         "107",
         "1",
         "4187.0"
        ],
        [
         "19",
         "CULBERSON",
         "109",
         "22",
         "16720.68181818182"
        ],
        [
         "20",
         "DALLAS",
         "113",
         "10",
         "14930.0"
        ],
        [
         "21",
         "DAWSON",
         "115",
         "4",
         "7961.75"
        ],
        [
         "22",
         "DE WITT",
         "123",
         "8",
         "16917.25"
        ],
        [
         "23",
         "DENTON",
         "121",
         "1",
         "16288.0"
        ],
        [
         "24",
         "DIMMIT",
         "127",
         "6",
         "16480.5"
        ],
        [
         "25",
         "DUVAL",
         "131",
         "2",
         "5899.0"
        ],
        [
         "26",
         "ECTOR",
         "135",
         "6",
         "9776.166666666666"
        ],
        [
         "27",
         "FAYETTE",
         "149",
         "2",
         "19951.0"
        ],
        [
         "28",
         "FISHER",
         "151",
         "3",
         "11516.0"
        ],
        [
         "29",
         "FLOYD",
         "153",
         "6",
         "10080.0"
        ],
        [
         "30",
         "FOARD",
         "155",
         "1",
         "5024.0"
        ],
        [
         "31",
         "FRIO",
         "163",
         "16",
         "18987.1875"
        ],
        [
         "32",
         "GAINES",
         "165",
         "34",
         "9279.0"
        ],
        [
         "33",
         "GARZA",
         "169",
         "2",
         "7353.5"
        ],
        [
         "34",
         "GLASSCOCK",
         "173",
         "17",
         "16545.823529411766"
        ],
        [
         "35",
         "GONZALES",
         "177",
         "11",
         "19920.81818181818"
        ],
        [
         "36",
         "HANSFORD",
         "195",
         "6",
         "10244.0"
        ],
        [
         "37",
         "HARDEMAN",
         "197",
         "11",
         "9449.0"
        ],
        [
         "38",
         "HARTLEY",
         "205",
         "2",
         "6480.0"
        ],
        [
         "39",
         "HEMPHILL",
         "211",
         "20",
         "16581.25"
        ],
        [
         "40",
         "HOWARD",
         "227",
         "78",
         "13772.102564102564"
        ],
        [
         "41",
         "HUTCHINSON",
         "233",
         "9",
         "3251.6666666666665"
        ],
        [
         "42",
         "IRION",
         "235",
         "6",
         "16408.5"
        ],
        [
         "43",
         "JACK",
         "237",
         "16",
         "4740.1875"
        ],
        [
         "44",
         "JONES",
         "253",
         "2",
         "5069.0"
        ],
        [
         "45",
         "KARNES",
         "255",
         "39",
         "19536.897435897437"
        ],
        [
         "46",
         "KNOX",
         "275",
         "4",
         "2117.0"
        ],
        [
         "47",
         "LA SALLE",
         "283",
         "8",
         "20597.75"
        ],
        [
         "48",
         "LAVACA",
         "285",
         "6",
         "17763.0"
        ],
        [
         "49",
         "LEE",
         "287",
         "3",
         "16503.666666666668"
        ]
       ],
       "shape": {
        "columns": 4,
        "rows": 95
       }
      },
      "text/html": [
       "<div>\n",
       "<style scoped>\n",
       "    .dataframe tbody tr th:only-of-type {\n",
       "        vertical-align: middle;\n",
       "    }\n",
       "\n",
       "    .dataframe tbody tr th {\n",
       "        vertical-align: top;\n",
       "    }\n",
       "\n",
       "    .dataframe thead th {\n",
       "        text-align: right;\n",
       "    }\n",
       "</style>\n",
       "<table border=\"1\" class=\"dataframe\">\n",
       "  <thead>\n",
       "    <tr style=\"text-align: right;\">\n",
       "      <th></th>\n",
       "      <th>County Name</th>\n",
       "      <th>County Number</th>\n",
       "      <th>County_Count</th>\n",
       "      <th>County_Avg_Depth</th>\n",
       "    </tr>\n",
       "  </thead>\n",
       "  <tbody>\n",
       "    <tr>\n",
       "      <th>0</th>\n",
       "      <td>ANDERSON</td>\n",
       "      <td>1</td>\n",
       "      <td>4</td>\n",
       "      <td>10703.000000</td>\n",
       "    </tr>\n",
       "    <tr>\n",
       "      <th>1</th>\n",
       "      <td>ANDREWS</td>\n",
       "      <td>3</td>\n",
       "      <td>16</td>\n",
       "      <td>11747.500000</td>\n",
       "    </tr>\n",
       "    <tr>\n",
       "      <th>2</th>\n",
       "      <td>ARCHER</td>\n",
       "      <td>9</td>\n",
       "      <td>18</td>\n",
       "      <td>4506.333333</td>\n",
       "    </tr>\n",
       "    <tr>\n",
       "      <th>3</th>\n",
       "      <td>ATASCOSA</td>\n",
       "      <td>13</td>\n",
       "      <td>14</td>\n",
       "      <td>17589.714286</td>\n",
       "    </tr>\n",
       "    <tr>\n",
       "      <th>4</th>\n",
       "      <td>BEE</td>\n",
       "      <td>25</td>\n",
       "      <td>2</td>\n",
       "      <td>23334.000000</td>\n",
       "    </tr>\n",
       "    <tr>\n",
       "      <th>...</th>\n",
       "      <td>...</td>\n",
       "      <td>...</td>\n",
       "      <td>...</td>\n",
       "      <td>...</td>\n",
       "    </tr>\n",
       "    <tr>\n",
       "      <th>90</th>\n",
       "      <td>WINKLER</td>\n",
       "      <td>495</td>\n",
       "      <td>13</td>\n",
       "      <td>9490.846154</td>\n",
       "    </tr>\n",
       "    <tr>\n",
       "      <th>91</th>\n",
       "      <td>WISE</td>\n",
       "      <td>497</td>\n",
       "      <td>8</td>\n",
       "      <td>14551.125000</td>\n",
       "    </tr>\n",
       "    <tr>\n",
       "      <th>92</th>\n",
       "      <td>YOAKUM</td>\n",
       "      <td>501</td>\n",
       "      <td>9</td>\n",
       "      <td>8151.222222</td>\n",
       "    </tr>\n",
       "    <tr>\n",
       "      <th>93</th>\n",
       "      <td>YOUNG</td>\n",
       "      <td>503</td>\n",
       "      <td>13</td>\n",
       "      <td>2731.538462</td>\n",
       "    </tr>\n",
       "    <tr>\n",
       "      <th>94</th>\n",
       "      <td>ZAVALA</td>\n",
       "      <td>507</td>\n",
       "      <td>2</td>\n",
       "      <td>1855.000000</td>\n",
       "    </tr>\n",
       "  </tbody>\n",
       "</table>\n",
       "<p>95 rows × 4 columns</p>\n",
       "</div>"
      ],
      "text/plain": [
       "   County Name  County Number  County_Count  County_Avg_Depth\n",
       "0     ANDERSON              1             4      10703.000000\n",
       "1      ANDREWS              3            16      11747.500000\n",
       "2       ARCHER              9            18       4506.333333\n",
       "3     ATASCOSA             13            14      17589.714286\n",
       "4          BEE             25             2      23334.000000\n",
       "..         ...            ...           ...               ...\n",
       "90     WINKLER            495            13       9490.846154\n",
       "91        WISE            497             8      14551.125000\n",
       "92      YOAKUM            501             9       8151.222222\n",
       "93       YOUNG            503            13       2731.538462\n",
       "94      ZAVALA            507             2       1855.000000\n",
       "\n",
       "[95 rows x 4 columns]"
      ]
     },
     "execution_count": 31,
     "metadata": {},
     "output_type": "execute_result"
    }
   ],
   "source": [
    "# county 별 갯수와 평균 깊이를 계산(최종 데이터 프레임)\n",
    "county_stats = sorted_selected_columns.groupby(['County Name', 'County Number']).agg(\n",
    "    County_Count=('County Name', 'size'),\n",
    "    County_Avg_Depth=('Bottom Total Depth', 'mean')\n",
    ").reset_index()\n",
    "\n",
    "county_c_a = county_stats[['County Name', 'County_Count', 'County_Avg_Depth']]\n",
    " \n",
    "county_c_a"
   ]
  },
  {
   "cell_type": "code",
   "execution_count": 64,
   "metadata": {},
   "outputs": [
    {
     "data": {
      "application/vnd.microsoft.datawrangler.viewer.v0+json": {
       "columns": [
        {
         "name": "index",
         "rawType": "int64",
         "type": "integer"
        },
        {
         "name": "County Name",
         "rawType": "object",
         "type": "string"
        },
        {
         "name": "County_Count",
         "rawType": "int64",
         "type": "integer"
        },
        {
         "name": "County_Avg_Depth",
         "rawType": "float64",
         "type": "float"
        }
       ],
       "conversionMethod": "pd.DataFrame",
       "ref": "ef5faab3-9e9c-4496-8c2b-d32fd48026f9",
       "rows": [
        [
         "0",
         "ANDERSON",
         "4",
         "10703.0"
        ],
        [
         "1",
         "ANDREWS",
         "16",
         "11747.5"
        ],
        [
         "2",
         "ARCHER",
         "18",
         "4506.333333333333"
        ],
        [
         "3",
         "ATASCOSA",
         "14",
         "17589.714285714286"
        ],
        [
         "4",
         "BEE",
         "2",
         "23334.0"
        ],
        [
         "5",
         "BORDEN",
         "2",
         "6718.0"
        ],
        [
         "6",
         "BRAZOS",
         "10",
         "17872.2"
        ],
        [
         "7",
         "BURLESON",
         "3",
         "18307.666666666668"
        ],
        [
         "8",
         "CASS",
         "1",
         "12102.0"
        ],
        [
         "9",
         "CHAMBERS",
         "3",
         "1935.0"
        ],
        [
         "10",
         "CLAY",
         "3",
         "5033.0"
        ],
        [
         "11",
         "COCHRAN",
         "65",
         "11176.846153846154"
        ],
        [
         "12",
         "COKE",
         "1",
         "4600.0"
        ],
        [
         "13",
         "COLORADO",
         "1",
         "10750.0"
        ],
        [
         "14",
         "COOKE",
         "5",
         "2251.6"
        ],
        [
         "15",
         "COTTLE",
         "1",
         "3676.0"
        ],
        [
         "16",
         "CRANE",
         "56",
         "5194.125"
        ],
        [
         "17",
         "CROCKETT",
         "2",
         "5653.0"
        ],
        [
         "18",
         "CROSBY",
         "1",
         "4187.0"
        ],
        [
         "19",
         "CULBERSON",
         "22",
         "16720.68181818182"
        ],
        [
         "20",
         "DALLAS",
         "10",
         "14930.0"
        ],
        [
         "21",
         "DAWSON",
         "4",
         "7961.75"
        ],
        [
         "22",
         "DE WITT",
         "8",
         "16917.25"
        ],
        [
         "23",
         "DENTON",
         "1",
         "16288.0"
        ],
        [
         "24",
         "DIMMIT",
         "6",
         "16480.5"
        ],
        [
         "25",
         "DUVAL",
         "2",
         "5899.0"
        ],
        [
         "26",
         "ECTOR",
         "6",
         "9776.166666666666"
        ],
        [
         "27",
         "FAYETTE",
         "2",
         "19951.0"
        ],
        [
         "28",
         "FISHER",
         "3",
         "11516.0"
        ],
        [
         "29",
         "FLOYD",
         "6",
         "10080.0"
        ],
        [
         "30",
         "FOARD",
         "1",
         "5024.0"
        ],
        [
         "31",
         "FRIO",
         "16",
         "18987.1875"
        ],
        [
         "32",
         "GAINES",
         "34",
         "9279.0"
        ],
        [
         "33",
         "GARZA",
         "2",
         "7353.5"
        ],
        [
         "34",
         "GLASSCOCK",
         "17",
         "16545.823529411766"
        ],
        [
         "35",
         "GONZALES",
         "11",
         "19920.81818181818"
        ],
        [
         "36",
         "HANSFORD",
         "6",
         "10244.0"
        ],
        [
         "37",
         "HARDEMAN",
         "11",
         "9449.0"
        ],
        [
         "38",
         "HARTLEY",
         "2",
         "6480.0"
        ],
        [
         "39",
         "HEMPHILL",
         "20",
         "16581.25"
        ],
        [
         "40",
         "HOWARD",
         "78",
         "13772.102564102564"
        ],
        [
         "41",
         "HUTCHINSON",
         "9",
         "3251.6666666666665"
        ],
        [
         "42",
         "IRION",
         "6",
         "16408.5"
        ],
        [
         "43",
         "JACK",
         "16",
         "4740.1875"
        ],
        [
         "44",
         "JONES",
         "2",
         "5069.0"
        ],
        [
         "45",
         "KARNES",
         "39",
         "19536.897435897437"
        ],
        [
         "46",
         "KNOX",
         "4",
         "2117.0"
        ],
        [
         "47",
         "LA SALLE",
         "8",
         "20597.75"
        ],
        [
         "48",
         "LAVACA",
         "6",
         "17763.0"
        ],
        [
         "49",
         "LEE",
         "3",
         "16503.666666666668"
        ]
       ],
       "shape": {
        "columns": 3,
        "rows": 95
       }
      },
      "text/html": [
       "<div>\n",
       "<style scoped>\n",
       "    .dataframe tbody tr th:only-of-type {\n",
       "        vertical-align: middle;\n",
       "    }\n",
       "\n",
       "    .dataframe tbody tr th {\n",
       "        vertical-align: top;\n",
       "    }\n",
       "\n",
       "    .dataframe thead th {\n",
       "        text-align: right;\n",
       "    }\n",
       "</style>\n",
       "<table border=\"1\" class=\"dataframe\">\n",
       "  <thead>\n",
       "    <tr style=\"text-align: right;\">\n",
       "      <th></th>\n",
       "      <th>County Name</th>\n",
       "      <th>County_Count</th>\n",
       "      <th>County_Avg_Depth</th>\n",
       "    </tr>\n",
       "  </thead>\n",
       "  <tbody>\n",
       "    <tr>\n",
       "      <th>0</th>\n",
       "      <td>ANDERSON</td>\n",
       "      <td>4</td>\n",
       "      <td>10703.000000</td>\n",
       "    </tr>\n",
       "    <tr>\n",
       "      <th>1</th>\n",
       "      <td>ANDREWS</td>\n",
       "      <td>16</td>\n",
       "      <td>11747.500000</td>\n",
       "    </tr>\n",
       "    <tr>\n",
       "      <th>2</th>\n",
       "      <td>ARCHER</td>\n",
       "      <td>18</td>\n",
       "      <td>4506.333333</td>\n",
       "    </tr>\n",
       "    <tr>\n",
       "      <th>3</th>\n",
       "      <td>ATASCOSA</td>\n",
       "      <td>14</td>\n",
       "      <td>17589.714286</td>\n",
       "    </tr>\n",
       "    <tr>\n",
       "      <th>4</th>\n",
       "      <td>BEE</td>\n",
       "      <td>2</td>\n",
       "      <td>23334.000000</td>\n",
       "    </tr>\n",
       "    <tr>\n",
       "      <th>...</th>\n",
       "      <td>...</td>\n",
       "      <td>...</td>\n",
       "      <td>...</td>\n",
       "    </tr>\n",
       "    <tr>\n",
       "      <th>90</th>\n",
       "      <td>WINKLER</td>\n",
       "      <td>13</td>\n",
       "      <td>9490.846154</td>\n",
       "    </tr>\n",
       "    <tr>\n",
       "      <th>91</th>\n",
       "      <td>WISE</td>\n",
       "      <td>8</td>\n",
       "      <td>14551.125000</td>\n",
       "    </tr>\n",
       "    <tr>\n",
       "      <th>92</th>\n",
       "      <td>YOAKUM</td>\n",
       "      <td>9</td>\n",
       "      <td>8151.222222</td>\n",
       "    </tr>\n",
       "    <tr>\n",
       "      <th>93</th>\n",
       "      <td>YOUNG</td>\n",
       "      <td>13</td>\n",
       "      <td>2731.538462</td>\n",
       "    </tr>\n",
       "    <tr>\n",
       "      <th>94</th>\n",
       "      <td>ZAVALA</td>\n",
       "      <td>2</td>\n",
       "      <td>1855.000000</td>\n",
       "    </tr>\n",
       "  </tbody>\n",
       "</table>\n",
       "<p>95 rows × 3 columns</p>\n",
       "</div>"
      ],
      "text/plain": [
       "   County Name  County_Count  County_Avg_Depth\n",
       "0     ANDERSON             4      10703.000000\n",
       "1      ANDREWS            16      11747.500000\n",
       "2       ARCHER            18       4506.333333\n",
       "3     ATASCOSA            14      17589.714286\n",
       "4          BEE             2      23334.000000\n",
       "..         ...           ...               ...\n",
       "90     WINKLER            13       9490.846154\n",
       "91        WISE             8      14551.125000\n",
       "92      YOAKUM             9       8151.222222\n",
       "93       YOUNG            13       2731.538462\n",
       "94      ZAVALA             2       1855.000000\n",
       "\n",
       "[95 rows x 3 columns]"
      ]
     },
     "execution_count": 64,
     "metadata": {},
     "output_type": "execute_result"
    }
   ],
   "source": [
    "county_c_a = county_stats[['County Name', 'County_Count', 'County_Avg_Depth']]\n",
    " \n",
    "county_c_a"
   ]
  },
  {
   "cell_type": "code",
   "execution_count": 36,
   "metadata": {},
   "outputs": [],
   "source": [
    "import geopandas as gpd\n",
    "import plotly.express as px"
   ]
  },
  {
   "cell_type": "code",
   "execution_count": 92,
   "metadata": {},
   "outputs": [
    {
     "data": {
      "application/vnd.microsoft.datawrangler.viewer.v0+json": {
       "columns": [
        {
         "name": "index",
         "rawType": "int64",
         "type": "integer"
        },
        {
         "name": "County Name",
         "rawType": "object",
         "type": "string"
        },
        {
         "name": "County_Count",
         "rawType": "int64",
         "type": "integer"
        },
        {
         "name": "County_Avg_Depth",
         "rawType": "float64",
         "type": "float"
        }
       ],
       "conversionMethod": "pd.DataFrame",
       "ref": "95cf5510-8c98-46a7-8068-d699b243768b",
       "rows": [
        [
         "0",
         "ANDERSON",
         "4",
         "10703.0"
        ],
        [
         "1",
         "ANDREWS",
         "16",
         "11747.5"
        ],
        [
         "2",
         "ARCHER",
         "18",
         "4506.333333333333"
        ],
        [
         "3",
         "ATASCOSA",
         "14",
         "17589.714285714286"
        ],
        [
         "4",
         "BEE",
         "2",
         "23334.0"
        ],
        [
         "5",
         "BORDEN",
         "2",
         "6718.0"
        ],
        [
         "6",
         "BRAZOS",
         "10",
         "17872.2"
        ],
        [
         "7",
         "BURLESON",
         "3",
         "18307.666666666668"
        ],
        [
         "8",
         "CASS",
         "1",
         "12102.0"
        ],
        [
         "9",
         "CHAMBERS",
         "3",
         "1935.0"
        ],
        [
         "10",
         "CLAY",
         "3",
         "5033.0"
        ],
        [
         "11",
         "COCHRAN",
         "65",
         "11176.846153846154"
        ],
        [
         "12",
         "COKE",
         "1",
         "4600.0"
        ],
        [
         "13",
         "COLORADO",
         "1",
         "10750.0"
        ],
        [
         "14",
         "COOKE",
         "5",
         "2251.6"
        ],
        [
         "15",
         "COTTLE",
         "1",
         "3676.0"
        ],
        [
         "16",
         "CRANE",
         "56",
         "5194.125"
        ],
        [
         "17",
         "CROCKETT",
         "2",
         "5653.0"
        ],
        [
         "18",
         "CROSBY",
         "1",
         "4187.0"
        ],
        [
         "19",
         "CULBERSON",
         "22",
         "16720.68181818182"
        ],
        [
         "20",
         "DALLAS",
         "10",
         "14930.0"
        ],
        [
         "21",
         "DAWSON",
         "4",
         "7961.75"
        ],
        [
         "22",
         "DE WITT",
         "8",
         "16917.25"
        ],
        [
         "23",
         "DENTON",
         "1",
         "16288.0"
        ],
        [
         "24",
         "DIMMIT",
         "6",
         "16480.5"
        ],
        [
         "25",
         "DUVAL",
         "2",
         "5899.0"
        ],
        [
         "26",
         "ECTOR",
         "6",
         "9776.166666666666"
        ],
        [
         "27",
         "FAYETTE",
         "2",
         "19951.0"
        ],
        [
         "28",
         "FISHER",
         "3",
         "11516.0"
        ],
        [
         "29",
         "FLOYD",
         "6",
         "10080.0"
        ],
        [
         "30",
         "FOARD",
         "1",
         "5024.0"
        ],
        [
         "31",
         "FRIO",
         "16",
         "18987.1875"
        ],
        [
         "32",
         "GAINES",
         "34",
         "9279.0"
        ],
        [
         "33",
         "GARZA",
         "2",
         "7353.5"
        ],
        [
         "34",
         "GLASSCOCK",
         "17",
         "16545.823529411766"
        ],
        [
         "35",
         "GONZALES",
         "11",
         "19920.81818181818"
        ],
        [
         "36",
         "HANSFORD",
         "6",
         "10244.0"
        ],
        [
         "37",
         "HARDEMAN",
         "11",
         "9449.0"
        ],
        [
         "38",
         "HARTLEY",
         "2",
         "6480.0"
        ],
        [
         "39",
         "HEMPHILL",
         "20",
         "16581.25"
        ],
        [
         "40",
         "HOWARD",
         "78",
         "13772.102564102564"
        ],
        [
         "41",
         "HUTCHINSON",
         "9",
         "3251.6666666666665"
        ],
        [
         "42",
         "IRION",
         "6",
         "16408.5"
        ],
        [
         "43",
         "JACK",
         "16",
         "4740.1875"
        ],
        [
         "44",
         "JONES",
         "2",
         "5069.0"
        ],
        [
         "45",
         "KARNES",
         "39",
         "19536.897435897437"
        ],
        [
         "46",
         "KNOX",
         "4",
         "2117.0"
        ],
        [
         "47",
         "LA SALLE",
         "8",
         "20597.75"
        ],
        [
         "48",
         "LAVACA",
         "6",
         "17763.0"
        ],
        [
         "49",
         "LEE",
         "3",
         "16503.666666666668"
        ]
       ],
       "shape": {
        "columns": 3,
        "rows": 95
       }
      },
      "text/html": [
       "<div>\n",
       "<style scoped>\n",
       "    .dataframe tbody tr th:only-of-type {\n",
       "        vertical-align: middle;\n",
       "    }\n",
       "\n",
       "    .dataframe tbody tr th {\n",
       "        vertical-align: top;\n",
       "    }\n",
       "\n",
       "    .dataframe thead th {\n",
       "        text-align: right;\n",
       "    }\n",
       "</style>\n",
       "<table border=\"1\" class=\"dataframe\">\n",
       "  <thead>\n",
       "    <tr style=\"text-align: right;\">\n",
       "      <th></th>\n",
       "      <th>County Name</th>\n",
       "      <th>County_Count</th>\n",
       "      <th>County_Avg_Depth</th>\n",
       "    </tr>\n",
       "  </thead>\n",
       "  <tbody>\n",
       "    <tr>\n",
       "      <th>0</th>\n",
       "      <td>ANDERSON</td>\n",
       "      <td>4</td>\n",
       "      <td>10703.000000</td>\n",
       "    </tr>\n",
       "    <tr>\n",
       "      <th>1</th>\n",
       "      <td>ANDREWS</td>\n",
       "      <td>16</td>\n",
       "      <td>11747.500000</td>\n",
       "    </tr>\n",
       "    <tr>\n",
       "      <th>2</th>\n",
       "      <td>ARCHER</td>\n",
       "      <td>18</td>\n",
       "      <td>4506.333333</td>\n",
       "    </tr>\n",
       "    <tr>\n",
       "      <th>3</th>\n",
       "      <td>ATASCOSA</td>\n",
       "      <td>14</td>\n",
       "      <td>17589.714286</td>\n",
       "    </tr>\n",
       "    <tr>\n",
       "      <th>4</th>\n",
       "      <td>BEE</td>\n",
       "      <td>2</td>\n",
       "      <td>23334.000000</td>\n",
       "    </tr>\n",
       "    <tr>\n",
       "      <th>...</th>\n",
       "      <td>...</td>\n",
       "      <td>...</td>\n",
       "      <td>...</td>\n",
       "    </tr>\n",
       "    <tr>\n",
       "      <th>90</th>\n",
       "      <td>WINKLER</td>\n",
       "      <td>13</td>\n",
       "      <td>9490.846154</td>\n",
       "    </tr>\n",
       "    <tr>\n",
       "      <th>91</th>\n",
       "      <td>WISE</td>\n",
       "      <td>8</td>\n",
       "      <td>14551.125000</td>\n",
       "    </tr>\n",
       "    <tr>\n",
       "      <th>92</th>\n",
       "      <td>YOAKUM</td>\n",
       "      <td>9</td>\n",
       "      <td>8151.222222</td>\n",
       "    </tr>\n",
       "    <tr>\n",
       "      <th>93</th>\n",
       "      <td>YOUNG</td>\n",
       "      <td>13</td>\n",
       "      <td>2731.538462</td>\n",
       "    </tr>\n",
       "    <tr>\n",
       "      <th>94</th>\n",
       "      <td>ZAVALA</td>\n",
       "      <td>2</td>\n",
       "      <td>1855.000000</td>\n",
       "    </tr>\n",
       "  </tbody>\n",
       "</table>\n",
       "<p>95 rows × 3 columns</p>\n",
       "</div>"
      ],
      "text/plain": [
       "   County Name  County_Count  County_Avg_Depth\n",
       "0     ANDERSON             4      10703.000000\n",
       "1      ANDREWS            16      11747.500000\n",
       "2       ARCHER            18       4506.333333\n",
       "3     ATASCOSA            14      17589.714286\n",
       "4          BEE             2      23334.000000\n",
       "..         ...           ...               ...\n",
       "90     WINKLER            13       9490.846154\n",
       "91        WISE             8      14551.125000\n",
       "92      YOAKUM             9       8151.222222\n",
       "93       YOUNG            13       2731.538462\n",
       "94      ZAVALA             2       1855.000000\n",
       "\n",
       "[95 rows x 3 columns]"
      ]
     },
     "execution_count": 92,
     "metadata": {},
     "output_type": "execute_result"
    }
   ],
   "source": [
    "county_c_a.loc[county_c_a['County Name'] == 'SAN AUGUSTINE', 'County_Avg_Depth'] = 21420\n",
    "county_c_a"
   ]
  },
  {
   "cell_type": "code",
   "execution_count": 95,
   "metadata": {},
   "outputs": [
    {
     "name": "stdout",
     "output_type": "stream",
     "text": [
      "0    ANDERSON\n",
      "1     ANDREWS\n",
      "2      ARCHER\n",
      "3    ATASCOSA\n",
      "4         BEE\n",
      "Name: County Name, dtype: object\n"
     ]
    },
    {
     "name": "stderr",
     "output_type": "stream",
     "text": [
      "C:\\Users\\qkrgu\\AppData\\Local\\Temp\\ipykernel_20216\\1205628008.py:3: SettingWithCopyWarning:\n",
      "\n",
      "\n",
      "A value is trying to be set on a copy of a slice from a DataFrame.\n",
      "Try using .loc[row_indexer,col_indexer] = value instead\n",
      "\n",
      "See the caveats in the documentation: https://pandas.pydata.org/pandas-docs/stable/user_guide/indexing.html#returning-a-view-versus-a-copy\n",
      "\n"
     ]
    }
   ],
   "source": [
    "print(county_c_a['County Name'].head())\n",
    "\n",
    "county_c_a['County Name'] = county_c_a['County Name'].str.upper()"
   ]
  },
  {
   "cell_type": "code",
   "execution_count": 97,
   "metadata": {},
   "outputs": [
    {
     "name": "stdout",
     "output_type": "stream",
     "text": [
      "병합 결과 상위 5행:\n",
      "      COUNTY County Name  County_Count  County_Avg_Depth        lat  \\\n",
      "0    SHERMAN     SHERMAN           1.0          3350.000  36.277721   \n",
      "1   HANSFORD    HANSFORD           6.0         10244.000  36.277409   \n",
      "2     DALLAM         NaN           0.0             0.000  36.277872   \n",
      "3  OCHILTREE   OCHILTREE           8.0         12416.125  36.278337   \n",
      "4   LIPSCOMB    LIPSCOMB           2.0         11530.500  36.277648   \n",
      "\n",
      "          lon  \n",
      "0 -101.893445  \n",
      "1 -101.354548  \n",
      "2 -102.602198  \n",
      "3 -100.815632  \n",
      "4 -100.273127  \n"
     ]
    },
    {
     "name": "stderr",
     "output_type": "stream",
     "text": [
      "C:\\Users\\qkrgu\\AppData\\Local\\Temp\\ipykernel_20216\\3521316983.py:4: UserWarning:\n",
      "\n",
      "Geometry is in a geographic CRS. Results from 'centroid' are likely incorrect. Use 'GeoSeries.to_crs()' to re-project geometries to a projected CRS before this operation.\n",
      "\n",
      "\n"
     ]
    }
   ],
   "source": [
    "texas_counties = gpd.read_file('tx_counties.geojson')  \n",
    "\n",
    "# 3. 중심점 계산\n",
    "texas_counties['centroid'] = texas_counties.geometry.centroid\n",
    "texas_counties['lat'] = texas_counties['centroid'].y\n",
    "texas_counties['lon'] = texas_counties['centroid'].x\n",
    "\n",
    "# 4. GeoJSON의 COUNTY 이름 조정\n",
    "# \"Sherman County\" -> \"SHERMAN\"으로 변환 (대문자)\n",
    "texas_counties['COUNTY'] = texas_counties['COUNTY'].str.replace(' County', '').str.upper()\n",
    "\n",
    "# 병합\n",
    "map_data = texas_counties.merge(county_c_a, how='left', left_on='COUNTY', right_on='County Name')\n",
    "\n",
    "# 5. NaN 값 처리\n",
    "map_data['County_Count'] = map_data['County_Count'].fillna(0)\n",
    "map_data['County_Avg_Depth'] = map_data['County_Avg_Depth'].fillna(0)\n",
    "\n",
    "# 6. 병합 결과 확인\n",
    "print(\"병합 결과 상위 5행:\")\n",
    "print(map_data[['COUNTY', 'County Name', 'County_Count', 'County_Avg_Depth', 'lat', 'lon']].head())"
   ]
  },
  {
   "cell_type": "code",
   "execution_count": 98,
   "metadata": {},
   "outputs": [
    {
     "data": {
      "application/vnd.plotly.v1+json": {
       "config": {
        "plotlyServerURL": "https://plot.ly"
       },
       "data": [
        {
         "customdata": [
          [
           1,
           3350,
           36.27772064254926,
           -101.89344519559279
          ],
          [
           6,
           10244,
           36.27740882214887,
           -101.35454777501758
          ],
          [
           0,
           0,
           36.277872229533614,
           -102.60219780151566
          ],
          [
           8,
           12416.125,
           36.27833723068607,
           -100.81563219457425
          ],
          [
           2,
           11530.5,
           36.277648067274704,
           -100.273126853763
          ],
          [
           12,
           9091.166666666666,
           35.83848468708467,
           -100.81343352511429
          ],
          [
           20,
           16581.25,
           35.83756405802801,
           -100.27046337334559
          ],
          [
           9,
           3251.6666666666665,
           35.84001993123012,
           -101.35469044681673
          ],
          [
           2,
           6480,
           35.84001974190831,
           -102.6028575521253
          ],
          [
           4,
           2468.5,
           35.83768149472372,
           -101.89291437721035
          ],
          [
           4,
           13183.5,
           35.40502444192478,
           -102.60282732918263
          ],
          [
           0,
           0,
           35.403502425302975,
           -101.35417359385328
          ],
          [
           0,
           0,
           35.40115324958771,
           -100.8125452013709
          ],
          [
           6,
           15242.833333333334,
           35.40125834516354,
           -100.2697156816839
          ],
          [
           14,
           15059.857142857143,
           35.401266940592386,
           -101.89399463861182
          ],
          [
           0,
           0,
           34.96602348732266,
           -102.60488379787152
          ],
          [
           0,
           0,
           34.96540798564612,
           -100.81397417258535
          ],
          [
           0,
           0,
           34.96487743686346,
           -100.27004482968357
          ],
          [
           0,
           0,
           34.96584947521485,
           -101.8969372429815
          ],
          [
           0,
           0,
           34.964920710334034,
           -101.35739593362298
          ],
          [
           0,
           0,
           34.53038174680658,
           -101.7350247221378
          ],
          [
           0,
           0,
           34.53025816843086,
           -101.20858771612808
          ],
          [
           0,
           0,
           34.529952511078655,
           -102.26165780161591
          ],
          [
           0,
           0,
           34.53077417039206,
           -100.68111698852553
          ],
          [
           0,
           0,
           34.52919876101057,
           -100.20754747872057
          ],
          [
           0,
           0,
           34.53008241423847,
           -102.78443717243866
          ],
          [
           11,
           9449,
           34.29028620349664,
           -99.7456946035974
          ],
          [
           27,
           3597.4444444444443,
           34.080847521774,
           -99.24105336122794
          ],
          [
           0,
           0,
           34.07408977695485,
           -100.77982086047041
          ],
          [
           1,
           3676,
           34.07764366319683,
           -100.2787342391127
          ],
          [
           6,
           10080,
           34.07241896570992,
           -101.30322616432173
          ],
          [
           0,
           0,
           34.07050641828157,
           -101.82687204177844
          ],
          [
           0,
           0,
           34.068616832482036,
           -102.35170206195092
          ],
          [
           0,
           0,
           34.06852958374724,
           -102.8299147417849
          ],
          [
           1,
           5024,
           33.97460047521905,
           -99.77798056271936
          ],
          [
           29,
           2807.4827586206898,
           33.98798455457661,
           -98.70358668723618
          ],
          [
           3,
           5033,
           33.78565077952044,
           -98.20845377301373
          ],
          [
           1,
           3500,
           33.67569496970561,
           -97.72465155892371
          ],
          [
           0,
           0,
           33.6211188199389,
           -95.05035205006408
          ],
          [
           0,
           0,
           33.627579734910945,
           -96.67791112896232
          ],
          [
           5,
           2251.6,
           33.63934629454218,
           -97.212626254085
          ],
          [
           0,
           0,
           33.668586090443014,
           -95.57076247066176
          ],
          [
           0,
           0,
           33.59386126955548,
           -96.10671506400551
          ],
          [
           0,
           0,
           33.61647000924924,
           -100.25584113541636
          ],
          [
           4,
           2117,
           33.606123297607034,
           -99.74142427042798
          ],
          [
           18,
           4506.333333333333,
           33.615246997523435,
           -98.68764118983952
          ],
          [
           0,
           0,
           33.61660662304442,
           -100.77885213970205
          ],
          [
           1,
           4187,
           33.61461951889329,
           -101.2999499616907
          ],
          [
           0,
           0,
           33.61648419508928,
           -99.21350648700086
          ],
          [
           0,
           0,
           33.61019845860972,
           -101.8205395447552
          ],
          [
           65,
           11176.846153846154,
           33.60410908626818,
           -102.82842863709895
          ],
          [
           0,
           0,
           33.60763891671067,
           -102.34319106197154
          ],
          [
           0,
           0,
           33.4463734693127,
           -94.42337730515031
          ],
          [
           0,
           0,
           33.387197629982005,
           -95.67202797787297
          ],
          [
           16,
           4740.1875,
           33.23345509830478,
           -98.17245039923583
          ],
          [
           8,
           14551.125,
           33.21587772511901,
           -97.65439285196942
          ],
          [
           1,
           16288,
           33.20419135130295,
           -97.11717829353584
          ],
          [
           0,
           0,
           33.123591396604645,
           -96.08544588379691
          ],
          [
           0,
           0,
           33.18789984286339,
           -96.57236785884932
          ],
          [
           0,
           0,
           33.18140942507503,
           -100.77756016093255
          ],
          [
           2,
           15874,
           33.17911901220277,
           -100.25329724712095
          ],
          [
           0,
           0,
           33.21640155496338,
           -94.96560614616567
          ],
          [
           2,
           7353.5,
           33.17987058938889,
           -101.2984166288498
          ],
          [
           2,
           2917,
           33.17748470511736,
           -99.2123619189936
          ],
          [
           13,
           2731.5384615384614,
           33.17669013869049,
           -98.68775859763662
          ],
          [
           0,
           0,
           33.17822646607918,
           -99.73029230527814
          ],
          [
           1,
           6595,
           33.176819653115366,
           -101.81611692970874
          ],
          [
           9,
           8151.222222222223,
           33.173028494835314,
           -102.8276257065968
          ],
          [
           0,
           0,
           33.17380443313053,
           -102.33518752251378
          ],
          [
           0,
           0,
           33.175180442660164,
           -95.2182866920834
          ],
          [
           0,
           0,
           33.1496188363437,
           -95.56393237131923
          ],
          [
           2,
           12134,
           33.113542683999505,
           -94.73262933864784
          ],
          [
           1,
           12102,
           33.07764103379007,
           -94.34354051007605
          ],
          [
           0,
           0,
           32.973201608867,
           -94.97839537172585
          ],
          [
           0,
           0,
           32.78636034982204,
           -95.38210365606804
          ],
          [
           1,
           5377,
           32.75317454010157,
           -98.3130138274727
          ],
          [
           0,
           0,
           32.777641394524835,
           -97.80508989432644
          ],
          [
           30,
           14989.233333333334,
           32.77038890647459,
           -97.29187193088983
          ],
          [
           10,
           14930,
           32.76662571924873,
           -96.77786443665265
          ],
          [
           0,
           0,
           32.89772895857808,
           -96.40776266400265
          ],
          [
           0,
           0,
           32.87019135194341,
           -95.79334559278276
          ],
          [
           7,
           5220.285714285715,
           32.74630982971969,
           -100.91639873880789
          ],
          [
           3,
           11516,
           32.7428147263958,
           -100.40215975746005
          ],
          [
           2,
           6718,
           32.74368913529247,
           -101.4317402958057
          ],
          [
           4,
           7961.75,
           32.742522185387095,
           -101.94767394444229
          ],
          [
           34,
           9279,
           32.740718002286215,
           -102.63513450030321
          ],
          [
           2,
           5069,
           32.73990088312261,
           -99.87873475826531
          ],
          [
           0,
           0,
           32.73596791346262,
           -99.35405933475451
          ],
          [
           0,
           0,
           32.73586092863707,
           -98.83616448067976
          ],
          [
           0,
           0,
           32.736193369980974,
           -94.94129704150546
          ],
          [
           0,
           0,
           32.79792148375388,
           -94.35708006810341
          ],
          [
           0,
           0,
           32.59954335551889,
           -96.2878543384353
          ],
          [
           0,
           0,
           32.563630922907606,
           -95.83658100330992
          ],
          [
           0,
           0,
           32.54817057240068,
           -94.37144728709487
          ],
          [
           0,
           0,
           32.375058576141576,
           -95.26915295863716
          ],
          [
           0,
           0,
           32.4801474604346,
           -94.81709422640594
          ],
          [
           0,
           0,
           32.42992970205286,
           -97.83226418874345
          ],
          [
           0,
           0,
           32.37900663674971,
           -97.36632927385233
          ],
          [
           0,
           0,
           32.34842640969714,
           -96.79448027809359
          ],
          [
           78,
           13772.102564102564,
           32.30616517947248,
           -101.43549623031068
          ],
          [
           2,
           21262,
           32.306206321298035,
           -100.92121988280435
          ],
          [
           0,
           0,
           32.3034830143401,
           -100.40604464960003
          ],
          [
           79,
           15242.632911392406,
           32.30602535787068,
           -101.9512082682286
          ],
          [
           16,
           11747.5,
           32.305036826001874,
           -102.63772925033513
          ],
          [
           0,
           0,
           32.301470555056184,
           -99.89011620880797
          ],
          [
           0,
           0,
           32.32706957568791,
           -98.83231428079564
          ],
          [
           0,
           0,
           32.23625367093707,
           -98.217958647101
          ],
          [
           0,
           0,
           32.29764999687122,
           -99.37347997103296
          ],
          [
           0,
           0,
           32.10780809584437,
           -94.76181355745152
          ],
          [
           16,
           20488.375,
           32.16238494223157,
           -94.3056351641623
          ],
          [
           0,
           0,
           32.21198312213106,
           -95.85374886349808
          ],
          [
           0,
           0,
           32.046951897616005,
           -96.47244304844577
          ],
          [
           0,
           0,
           32.222288757012436,
           -97.7743360505185
          ],
          [
           0,
           0,
           31.990688973396338,
           -97.13241027257399
          ],
          [
           0,
           0,
           31.947973448969798,
           -98.55825001167706
          ],
          [
           0,
           0,
           31.900392309209607,
           -97.63432536714335
          ],
          [
           0,
           0,
           31.836959307934944,
           -95.16516480129422
          ],
          [
           0,
           0,
           31.827875945356148,
           -101.05000010240302
          ],
          [
           17,
           16545.823529411766,
           31.869457651369466,
           -101.52079350167456
          ],
          [
           88,
           17022.69318181818,
           31.869163662453094,
           -102.03161489264419
          ],
          [
           6,
           9776.166666666666,
           31.869158501298035,
           -102.54275455707821
          ],
          [
           13,
           9490.846153846154,
           31.850036522409113,
           -103.0481568508142
          ],
          [
           1,
           4600,
           31.888525489632865,
           -100.52990196521708
          ],
          [
           4,
           10703,
           31.813331102603993,
           -95.6524930093844
          ],
          [
           0,
           0,
           31.773189090271572,
           -99.45362620426921
          ],
          [
           2,
           4789,
           31.83108583928078,
           -99.97622732727936
          ],
          [
           0,
           0,
           31.77425221440482,
           -98.99978967087571
          ],
          [
           0,
           0,
           31.704798025153025,
           -98.11071835532962
          ],
          [
           0,
           0,
           31.704900899829283,
           -96.14904511300922
          ],
          [
           22,
           16720.68181818182,
           31.446883473042845,
           -104.51765962331685
          ],
          [
           0,
           0,
           31.456709982458808,
           -105.38673020685034
          ],
          [
           0,
           0,
           31.768604056296173,
           -106.23562833677548
          ],
          [
           54,
           15423.388888888889,
           31.849177593525905,
           -103.57993694296557
          ],
          [
           82,
           17247.01219512195,
           31.32314636507844,
           -103.69312483882723
          ],
          [
           0,
           0,
           31.792405703806953,
           -94.14496624600979
          ],
          [
           0,
           0,
           31.552371581593412,
           -97.20178238477592
          ],
          [
           0,
           0,
           31.615994347652574,
           -94.61582865942032
          ],
          [
           0,
           0,
           31.545459890619966,
           -96.58052305052121
          ],
          [
           0,
           0,
           31.495170448221565,
           -98.59547607038803
          ],
          [
           0,
           0,
           31.390907438472937,
           -97.79919621076066
          ],
          [
           0,
           0,
           31.404390946035978,
           -100.46207232054141
          ],
          [
           0,
           0,
           31.29648605556999,
           -95.99570766132442
          ],
          [
           21,
           17147.619047619046,
           31.36872467180481,
           -102.04302638659395
          ],
          [
           56,
           5194.125,
           31.428517873949566,
           -102.51554991838188
          ],
          [
           4,
           21420,
           31.394186928683084,
           -94.16816990046938
          ],
          [
           7,
           19729.85714285714,
           31.366184724811937,
           -101.52300134277702
          ],
          [
           30,
           18805.2,
           31.509502903752495,
           -103.10244737133551
          ],
          [
           0,
           0,
           31.343199462002612,
           -93.8517853905912
          ],
          [
           0,
           0,
           31.317753058045913,
           -95.42266682518104
          ],
          [
           0,
           0,
           31.326492099403616,
           -99.86395429379048
          ],
          [
           6,
           16408.5,
           31.30392097072442,
           -100.9824134891619
          ],
          [
           0,
           0,
           31.254801522023918,
           -94.61181440504878
          ],
          [
           0,
           0,
           31.25327490863958,
           -96.93583960850992
          ],
          [
           0,
           0,
           31.198852468229138,
           -99.3474706481015
          ],
          [
           0,
           0,
           31.155171125121747,
           -98.81758705243702
          ],
          [
           0,
           0,
           31.196183472630825,
           -98.24145408811738
          ],
          [
           0,
           0,
           31.08881893992439,
           -95.13547992059776
          ],
          [
           30,
           14270.666666666666,
           30.78106985219998,
           -102.7235798337019
          ],
          [
           1,
           21471,
           31.027007843517662,
           -96.51280234672349
          ],
          [
           0,
           0,
           31.037664824909406,
           -97.47823100188766
          ],
          [
           0,
           0,
           30.78628314677712,
           -93.74477730545921
          ],
          [
           0,
           0,
           30.74394882503668,
           -94.02505363153081
          ],
          [
           1,
           19967,
           30.792756830332802,
           -94.83000761831568
          ],
          [
           0,
           0,
           30.786330472042952,
           -96.97685815302839
          ],
          [
           0,
           0,
           30.71547259908971,
           -104.14001381793197
          ],
          [
           1,
           11705,
           30.965524231912916,
           -95.92838801392553
          ],
          [
           0,
           0,
           30.889726690568924,
           -99.82062322474266
          ],
          [
           0,
           0,
           30.89744822367759,
           -100.538539460424
          ],
          [
           2,
           5653,
           30.722976996074998,
           -101.41215490566947
          ],
          [
           2,
           14880.5,
           30.771255016061794,
           -94.37659352190077
          ],
          [
           2,
           11752.5,
           30.73902936326563,
           -95.57226675926387
          ],
          [
           0,
           0,
           30.788264913888174,
           -98.18246479040003
          ],
          [
           10,
           17872.2,
           30.660677164598006,
           -96.30236895634907
          ],
          [
           0,
           0,
           30.717712960500293,
           -99.22611647060495
          ],
          [
           0,
           0,
           30.70562813580012,
           -98.68396350704093
          ],
          [
           0,
           0,
           30.648134535411298,
           -97.60091330176097
          ],
          [
           0,
           0,
           30.579521453192612,
           -95.16690831701449
          ],
          [
           0,
           0,
           30.543477022972873,
           -95.98547910699675
          ],
          [
           3,
           18307.666666666668,
           30.492420392495255,
           -96.62143611451401
          ],
          [
           0,
           0,
           30.486729390208634,
           -99.7486758209211
          ],
          [
           0,
           0,
           30.498287822273046,
           -100.53817982037206
          ],
          [
           0,
           0,
           29.811929371445178,
           -103.25173810775102
          ],
          [
           0,
           0,
           30.225002571378155,
           -102.07648866331289
          ],
          [
           0,
           0,
           29.99979496655864,
           -104.24047050916288
          ],
          [
           0,
           0,
           30.300180423378503,
           -95.50300521502905
          ],
          [
           0,
           0,
           30.334639821126068,
           -97.78181562053229
          ],
          [
           3,
           16503.666666666668,
           30.310715384140693,
           -96.96583910234054
          ],
          [
           0,
           0,
           30.33236725598527,
           -94.39020914207705
          ],
          [
           0,
           0,
           30.31805041257086,
           -98.94647121472084
          ],
          [
           0,
           0,
           30.266370762657914,
           -98.39985855294927
          ],
          [
           0,
           0,
           30.151628025786746,
           -94.81219455930892
          ],
          [
           0,
           0,
           30.10328659050891,
           -97.31166267280656
          ],
          [
           8,
           18244.875,
           30.214482448346278,
           -96.40363136109916
          ],
          [
           0,
           0,
           30.058144330342234,
           -98.03105995072238
          ],
          [
           0,
           0,
           29.892981250758258,
           -101.1517376868876
          ],
          [
           0,
           0,
           29.98261426426911,
           -100.30471663523919
          ],
          [
           0,
           0,
           30.061480383860577,
           -99.35015336471984
          ],
          [
           0,
           0,
           30.12133195311486,
           -93.89390265081626
          ],
          [
           0,
           0,
           30.01087843156631,
           -95.98770449483119
          ],
          [
           0,
           0,
           29.883562940871577,
           -94.16285314040672
          ],
          [
           0,
           0,
           29.858853621274964,
           -95.39695566790472
          ],
          [
           2,
           19951,
           29.876665478095553,
           -96.91934058925996
          ],
          [
           0,
           0,
           29.94468880722018,
           -98.71154787345102
          ],
          [
           0,
           0,
           29.887068018711574,
           -96.27797417855585
          ],
          [
           0,
           0,
           29.831757087745533,
           -99.82211086260934
          ],
          [
           0,
           0,
           29.83711630623886,
           -97.62002006688714
          ],
          [
           0,
           0,
           29.808213924761212,
           -98.27816737187167
          ],
          [
           1,
           10750,
           29.620835220067857,
           -96.52627985970258
          ],
          [
           0,
           0,
           29.74719354075345,
           -99.24622128163803
          ],
          [
           3,
           1935,
           29.73856002895471,
           -94.6066402822074
          ],
          [
           0,
           0,
           29.583111010741067,
           -97.94843167942089
          ],
          [
           0,
           0,
           29.527516504545286,
           -95.770899193604
          ],
          [
           11,
           19920.81818181818,
           29.45673240737779,
           -97.4925157533339
          ],
          [
           0,
           0,
           29.449006848337877,
           -98.51984449062192
          ],
          [
           0,
           0,
           29.355725226131543,
           -99.11008496585262
          ],
          [
           0,
           0,
           29.277870028096824,
           -96.22210101575033
          ],
          [
           6,
           17763,
           29.384359781979136,
           -96.93014443279802
          ],
          [
           0,
           0,
           29.357334484862424,
           -99.76219761023317
          ],
          [
           0,
           0,
           29.350220106903947,
           -100.41790776063822
          ],
          [
           0,
           0,
           29.396579829693117,
           -94.96631839613138
          ],
          [
           0,
           0,
           29.19104548286703,
           -95.45545662032144
          ],
          [
           0,
           0,
           29.174034971419704,
           -98.08657157896491
          ],
          [
           0,
           0,
           29.082078213802134,
           -97.35676744781905
          ],
          [
           0,
           0,
           28.95563224447204,
           -96.57866304408121
          ],
          [
           14,
           17589.714285714286,
           28.89351731267051,
           -98.52712277383257
          ],
          [
           0,
           0,
           28.86590248827791,
           -95.98564193200396
          ],
          [
           39,
           19536.897435897437,
           28.905720238788717,
           -97.85939561584505
          ],
          [
           5,
           5486,
           28.796422702379125,
           -96.97178090884456
          ],
          [
           16,
           18987.1875,
           28.867818167816665,
           -99.10825754401297
          ],
          [
           2,
           1855,
           28.8662083017337,
           -99.76058965322632
          ],
          [
           0,
           0,
           28.74255234624389,
           -100.31445726229062
          ],
          [
           0,
           0,
           28.65709577248522,
           -97.42647249531413
          ],
          [
           4,
           20733.5,
           28.351366221065426,
           -98.12477499389452
          ],
          [
           0,
           0,
           28.48882976217114,
           -96.64649364670915
          ],
          [
           2,
           23334,
           28.417395077623706,
           -97.74118428156373
          ],
          [
           8,
           20597.75,
           28.345070818845485,
           -99.09965558753638
          ],
          [
           4,
           19215,
           28.352680015258603,
           -98.56783289294822
          ],
          [
           6,
           16480.5,
           28.422531594914094,
           -99.75671472913469
          ],
          [
           0,
           0,
           28.32683114310961,
           -97.1654536835842
          ],
          [
           0,
           0,
           28.134732597184428,
           -96.99672724366971
          ],
          [
           29,
           18982.827586206895,
           27.761066217142698,
           -99.33152499992286
          ],
          [
           0,
           0,
           28.008927882779563,
           -97.51889193340712
          ],
          [
           2,
           5899,
           27.681330945297063,
           -98.5088971185725
          ],
          [
           0,
           0,
           27.731276324689503,
           -98.08993843808788
          ],
          [
           0,
           0,
           27.72373870823909,
           -97.62977104725385
          ],
          [
           0,
           0,
           27.434164349824076,
           -97.7337945717022
          ],
          [
           0,
           0,
           27.04338660195355,
           -98.69729714723762
          ],
          [
           0,
           0,
           27.00080074057888,
           -99.16863313377414
          ],
          [
           0,
           0,
           26.92810596556412,
           -97.71844716037424
          ],
          [
           0,
           0,
           27.031568362237657,
           -98.21871119336454
          ],
          [
           0,
           0,
           26.562109146346792,
           -98.738389371033
          ],
          [
           0,
           0,
           26.39672156286457,
           -98.18106617364637
          ],
          [
           0,
           0,
           26.470597077517333,
           -97.67203792509119
          ],
          [
           0,
           0,
           26.12957340985572,
           -97.53207650754943
          ]
         ],
         "geo": "geo",
         "hovertemplate": "<b>%{hovertext}</b><br><br>County_Count=%{customdata[0]}<br>County_Avg_Depth=%{marker.color}<extra></extra>",
         "hovertext": [
          "SHERMAN",
          "HANSFORD",
          null,
          "OCHILTREE",
          "LIPSCOMB",
          "ROBERTS",
          "HEMPHILL",
          "HUTCHINSON",
          "HARTLEY",
          "MOORE",
          "OLDHAM",
          null,
          null,
          "WHEELER",
          "POTTER",
          null,
          null,
          null,
          null,
          null,
          null,
          null,
          null,
          null,
          null,
          null,
          "HARDEMAN",
          "WILBARGER",
          null,
          "COTTLE",
          "FLOYD",
          null,
          null,
          null,
          "FOARD",
          "WICHITA",
          "CLAY",
          "MONTAGUE",
          null,
          null,
          "COOKE",
          null,
          null,
          null,
          "KNOX",
          "ARCHER",
          null,
          "CROSBY",
          null,
          null,
          "COCHRAN",
          null,
          null,
          null,
          "JACK",
          "WISE",
          "DENTON",
          null,
          null,
          null,
          "STONEWALL",
          null,
          "GARZA",
          "THROCKMORTON",
          "YOUNG",
          null,
          "LYNN",
          "YOAKUM",
          null,
          null,
          null,
          "MORRIS",
          "CASS",
          null,
          null,
          "PALO PINTO",
          null,
          "TARRANT",
          "DALLAS",
          null,
          null,
          "SCURRY",
          "FISHER",
          "BORDEN",
          "DAWSON",
          "GAINES",
          "JONES",
          null,
          null,
          null,
          null,
          null,
          null,
          null,
          null,
          null,
          null,
          null,
          null,
          "HOWARD",
          "MITCHELL",
          null,
          "MARTIN",
          "ANDREWS",
          null,
          null,
          null,
          null,
          null,
          "PANOLA",
          null,
          null,
          null,
          null,
          null,
          null,
          null,
          null,
          "GLASSCOCK",
          "MIDLAND",
          "ECTOR",
          "WINKLER",
          "COKE",
          "ANDERSON",
          null,
          "RUNNELS",
          null,
          null,
          null,
          "CULBERSON",
          null,
          null,
          "LOVING",
          "REEVES",
          null,
          null,
          null,
          null,
          null,
          null,
          null,
          null,
          "UPTON",
          "CRANE",
          "SAN AUGUSTINE",
          "REAGAN",
          "WARD",
          null,
          null,
          null,
          "IRION",
          null,
          null,
          null,
          null,
          null,
          null,
          "PECOS",
          "ROBERTSON",
          null,
          null,
          null,
          "POLK",
          null,
          null,
          "MADISON",
          null,
          null,
          "CROCKETT",
          "TYLER",
          "WALKER",
          null,
          "BRAZOS",
          null,
          null,
          null,
          null,
          null,
          "BURLESON",
          null,
          null,
          null,
          null,
          null,
          null,
          null,
          "LEE",
          null,
          null,
          null,
          null,
          null,
          "WASHINGTON",
          null,
          null,
          null,
          null,
          null,
          null,
          null,
          null,
          "FAYETTE",
          null,
          null,
          null,
          null,
          null,
          "COLORADO",
          null,
          "CHAMBERS",
          null,
          null,
          "GONZALES",
          null,
          null,
          null,
          "LAVACA",
          null,
          null,
          null,
          null,
          null,
          null,
          null,
          "ATASCOSA",
          null,
          "KARNES",
          "VICTORIA",
          "FRIO",
          "ZAVALA",
          null,
          null,
          "LIVE OAK",
          null,
          "BEE",
          "LA SALLE",
          "MCMULLEN",
          "DIMMIT",
          null,
          null,
          "WEBB",
          null,
          "DUVAL",
          null,
          null,
          null,
          null,
          null,
          null,
          null,
          null,
          null,
          null,
          null
         ],
         "lat": [
          36.27772064254926,
          36.27740882214887,
          36.277872229533614,
          36.27833723068607,
          36.277648067274704,
          35.83848468708467,
          35.83756405802801,
          35.84001993123012,
          35.84001974190831,
          35.83768149472372,
          35.40502444192478,
          35.403502425302975,
          35.40115324958771,
          35.40125834516354,
          35.401266940592386,
          34.96602348732266,
          34.96540798564612,
          34.96487743686346,
          34.96584947521485,
          34.964920710334034,
          34.53038174680658,
          34.53025816843086,
          34.529952511078655,
          34.53077417039206,
          34.52919876101057,
          34.53008241423847,
          34.29028620349664,
          34.080847521774,
          34.07408977695485,
          34.07764366319683,
          34.07241896570992,
          34.07050641828157,
          34.068616832482036,
          34.06852958374724,
          33.97460047521905,
          33.98798455457661,
          33.78565077952044,
          33.67569496970561,
          33.6211188199389,
          33.627579734910945,
          33.63934629454218,
          33.668586090443014,
          33.59386126955548,
          33.61647000924924,
          33.606123297607034,
          33.615246997523435,
          33.61660662304442,
          33.61461951889329,
          33.61648419508928,
          33.61019845860972,
          33.60410908626818,
          33.60763891671067,
          33.4463734693127,
          33.387197629982005,
          33.23345509830478,
          33.21587772511901,
          33.20419135130295,
          33.123591396604645,
          33.18789984286339,
          33.18140942507503,
          33.17911901220277,
          33.21640155496338,
          33.17987058938889,
          33.17748470511736,
          33.17669013869049,
          33.17822646607918,
          33.176819653115366,
          33.173028494835314,
          33.17380443313053,
          33.175180442660164,
          33.1496188363437,
          33.113542683999505,
          33.07764103379007,
          32.973201608867,
          32.78636034982204,
          32.75317454010157,
          32.777641394524835,
          32.77038890647459,
          32.76662571924873,
          32.89772895857808,
          32.87019135194341,
          32.74630982971969,
          32.7428147263958,
          32.74368913529247,
          32.742522185387095,
          32.740718002286215,
          32.73990088312261,
          32.73596791346262,
          32.73586092863707,
          32.736193369980974,
          32.79792148375388,
          32.59954335551889,
          32.563630922907606,
          32.54817057240068,
          32.375058576141576,
          32.4801474604346,
          32.42992970205286,
          32.37900663674971,
          32.34842640969714,
          32.30616517947248,
          32.306206321298035,
          32.3034830143401,
          32.30602535787068,
          32.305036826001874,
          32.301470555056184,
          32.32706957568791,
          32.23625367093707,
          32.29764999687122,
          32.10780809584437,
          32.16238494223157,
          32.21198312213106,
          32.046951897616005,
          32.222288757012436,
          31.990688973396338,
          31.947973448969798,
          31.900392309209607,
          31.836959307934944,
          31.827875945356148,
          31.869457651369466,
          31.869163662453094,
          31.869158501298035,
          31.850036522409113,
          31.888525489632865,
          31.813331102603993,
          31.773189090271572,
          31.83108583928078,
          31.77425221440482,
          31.704798025153025,
          31.704900899829283,
          31.446883473042845,
          31.456709982458808,
          31.768604056296173,
          31.849177593525905,
          31.32314636507844,
          31.792405703806953,
          31.552371581593412,
          31.615994347652574,
          31.545459890619966,
          31.495170448221565,
          31.390907438472937,
          31.404390946035978,
          31.29648605556999,
          31.36872467180481,
          31.428517873949566,
          31.394186928683084,
          31.366184724811937,
          31.509502903752495,
          31.343199462002612,
          31.317753058045913,
          31.326492099403616,
          31.30392097072442,
          31.254801522023918,
          31.25327490863958,
          31.198852468229138,
          31.155171125121747,
          31.196183472630825,
          31.08881893992439,
          30.78106985219998,
          31.027007843517662,
          31.037664824909406,
          30.78628314677712,
          30.74394882503668,
          30.792756830332802,
          30.786330472042952,
          30.71547259908971,
          30.965524231912916,
          30.889726690568924,
          30.89744822367759,
          30.722976996074998,
          30.771255016061794,
          30.73902936326563,
          30.788264913888174,
          30.660677164598006,
          30.717712960500293,
          30.70562813580012,
          30.648134535411298,
          30.579521453192612,
          30.543477022972873,
          30.492420392495255,
          30.486729390208634,
          30.498287822273046,
          29.811929371445178,
          30.225002571378155,
          29.99979496655864,
          30.300180423378503,
          30.334639821126068,
          30.310715384140693,
          30.33236725598527,
          30.31805041257086,
          30.266370762657914,
          30.151628025786746,
          30.10328659050891,
          30.214482448346278,
          30.058144330342234,
          29.892981250758258,
          29.98261426426911,
          30.061480383860577,
          30.12133195311486,
          30.01087843156631,
          29.883562940871577,
          29.858853621274964,
          29.876665478095553,
          29.94468880722018,
          29.887068018711574,
          29.831757087745533,
          29.83711630623886,
          29.808213924761212,
          29.620835220067857,
          29.74719354075345,
          29.73856002895471,
          29.583111010741067,
          29.527516504545286,
          29.45673240737779,
          29.449006848337877,
          29.355725226131543,
          29.277870028096824,
          29.384359781979136,
          29.357334484862424,
          29.350220106903947,
          29.396579829693117,
          29.19104548286703,
          29.174034971419704,
          29.082078213802134,
          28.95563224447204,
          28.89351731267051,
          28.86590248827791,
          28.905720238788717,
          28.796422702379125,
          28.867818167816665,
          28.8662083017337,
          28.74255234624389,
          28.65709577248522,
          28.351366221065426,
          28.48882976217114,
          28.417395077623706,
          28.345070818845485,
          28.352680015258603,
          28.422531594914094,
          28.32683114310961,
          28.134732597184428,
          27.761066217142698,
          28.008927882779563,
          27.681330945297063,
          27.731276324689503,
          27.72373870823909,
          27.434164349824076,
          27.04338660195355,
          27.00080074057888,
          26.92810596556412,
          27.031568362237657,
          26.562109146346792,
          26.39672156286457,
          26.470597077517333,
          26.12957340985572
         ],
         "legendgroup": "",
         "lon": [
          -101.89344519559279,
          -101.35454777501758,
          -102.60219780151566,
          -100.81563219457425,
          -100.273126853763,
          -100.81343352511429,
          -100.27046337334559,
          -101.35469044681673,
          -102.6028575521253,
          -101.89291437721035,
          -102.60282732918263,
          -101.35417359385328,
          -100.8125452013709,
          -100.2697156816839,
          -101.89399463861182,
          -102.60488379787152,
          -100.81397417258535,
          -100.27004482968357,
          -101.8969372429815,
          -101.35739593362298,
          -101.7350247221378,
          -101.20858771612808,
          -102.26165780161591,
          -100.68111698852553,
          -100.20754747872057,
          -102.78443717243866,
          -99.7456946035974,
          -99.24105336122794,
          -100.77982086047041,
          -100.2787342391127,
          -101.30322616432173,
          -101.82687204177844,
          -102.35170206195092,
          -102.8299147417849,
          -99.77798056271936,
          -98.70358668723618,
          -98.20845377301373,
          -97.72465155892371,
          -95.05035205006408,
          -96.67791112896232,
          -97.212626254085,
          -95.57076247066176,
          -96.10671506400551,
          -100.25584113541636,
          -99.74142427042798,
          -98.68764118983952,
          -100.77885213970205,
          -101.2999499616907,
          -99.21350648700086,
          -101.8205395447552,
          -102.82842863709895,
          -102.34319106197154,
          -94.42337730515031,
          -95.67202797787297,
          -98.17245039923583,
          -97.65439285196942,
          -97.11717829353584,
          -96.08544588379691,
          -96.57236785884932,
          -100.77756016093255,
          -100.25329724712095,
          -94.96560614616567,
          -101.2984166288498,
          -99.2123619189936,
          -98.68775859763662,
          -99.73029230527814,
          -101.81611692970874,
          -102.8276257065968,
          -102.33518752251378,
          -95.2182866920834,
          -95.56393237131923,
          -94.73262933864784,
          -94.34354051007605,
          -94.97839537172585,
          -95.38210365606804,
          -98.3130138274727,
          -97.80508989432644,
          -97.29187193088983,
          -96.77786443665265,
          -96.40776266400265,
          -95.79334559278276,
          -100.91639873880789,
          -100.40215975746005,
          -101.4317402958057,
          -101.94767394444229,
          -102.63513450030321,
          -99.87873475826531,
          -99.35405933475451,
          -98.83616448067976,
          -94.94129704150546,
          -94.35708006810341,
          -96.2878543384353,
          -95.83658100330992,
          -94.37144728709487,
          -95.26915295863716,
          -94.81709422640594,
          -97.83226418874345,
          -97.36632927385233,
          -96.79448027809359,
          -101.43549623031068,
          -100.92121988280435,
          -100.40604464960003,
          -101.9512082682286,
          -102.63772925033513,
          -99.89011620880797,
          -98.83231428079564,
          -98.217958647101,
          -99.37347997103296,
          -94.76181355745152,
          -94.3056351641623,
          -95.85374886349808,
          -96.47244304844577,
          -97.7743360505185,
          -97.13241027257399,
          -98.55825001167706,
          -97.63432536714335,
          -95.16516480129422,
          -101.05000010240302,
          -101.52079350167456,
          -102.03161489264419,
          -102.54275455707821,
          -103.0481568508142,
          -100.52990196521708,
          -95.6524930093844,
          -99.45362620426921,
          -99.97622732727936,
          -98.99978967087571,
          -98.11071835532962,
          -96.14904511300922,
          -104.51765962331685,
          -105.38673020685034,
          -106.23562833677548,
          -103.57993694296557,
          -103.69312483882723,
          -94.14496624600979,
          -97.20178238477592,
          -94.61582865942032,
          -96.58052305052121,
          -98.59547607038803,
          -97.79919621076066,
          -100.46207232054141,
          -95.99570766132442,
          -102.04302638659395,
          -102.51554991838188,
          -94.16816990046938,
          -101.52300134277702,
          -103.10244737133551,
          -93.8517853905912,
          -95.42266682518104,
          -99.86395429379048,
          -100.9824134891619,
          -94.61181440504878,
          -96.93583960850992,
          -99.3474706481015,
          -98.81758705243702,
          -98.24145408811738,
          -95.13547992059776,
          -102.7235798337019,
          -96.51280234672349,
          -97.47823100188766,
          -93.74477730545921,
          -94.02505363153081,
          -94.83000761831568,
          -96.97685815302839,
          -104.14001381793197,
          -95.92838801392553,
          -99.82062322474266,
          -100.538539460424,
          -101.41215490566947,
          -94.37659352190077,
          -95.57226675926387,
          -98.18246479040003,
          -96.30236895634907,
          -99.22611647060495,
          -98.68396350704093,
          -97.60091330176097,
          -95.16690831701449,
          -95.98547910699675,
          -96.62143611451401,
          -99.7486758209211,
          -100.53817982037206,
          -103.25173810775102,
          -102.07648866331289,
          -104.24047050916288,
          -95.50300521502905,
          -97.78181562053229,
          -96.96583910234054,
          -94.39020914207705,
          -98.94647121472084,
          -98.39985855294927,
          -94.81219455930892,
          -97.31166267280656,
          -96.40363136109916,
          -98.03105995072238,
          -101.1517376868876,
          -100.30471663523919,
          -99.35015336471984,
          -93.89390265081626,
          -95.98770449483119,
          -94.16285314040672,
          -95.39695566790472,
          -96.91934058925996,
          -98.71154787345102,
          -96.27797417855585,
          -99.82211086260934,
          -97.62002006688714,
          -98.27816737187167,
          -96.52627985970258,
          -99.24622128163803,
          -94.6066402822074,
          -97.94843167942089,
          -95.770899193604,
          -97.4925157533339,
          -98.51984449062192,
          -99.11008496585262,
          -96.22210101575033,
          -96.93014443279802,
          -99.76219761023317,
          -100.41790776063822,
          -94.96631839613138,
          -95.45545662032144,
          -98.08657157896491,
          -97.35676744781905,
          -96.57866304408121,
          -98.52712277383257,
          -95.98564193200396,
          -97.85939561584505,
          -96.97178090884456,
          -99.10825754401297,
          -99.76058965322632,
          -100.31445726229062,
          -97.42647249531413,
          -98.12477499389452,
          -96.64649364670915,
          -97.74118428156373,
          -99.09965558753638,
          -98.56783289294822,
          -99.75671472913469,
          -97.1654536835842,
          -96.99672724366971,
          -99.33152499992286,
          -97.51889193340712,
          -98.5088971185725,
          -98.08993843808788,
          -97.62977104725385,
          -97.7337945717022,
          -98.69729714723762,
          -99.16863313377414,
          -97.71844716037424,
          -98.21871119336454,
          -98.738389371033,
          -98.18106617364637,
          -97.67203792509119,
          -97.53207650754943
         ],
         "marker": {
          "color": [
           3350,
           10244,
           0,
           12416.125,
           11530.5,
           9091.166666666666,
           16581.25,
           3251.6666666666665,
           6480,
           2468.5,
           13183.5,
           0,
           0,
           15242.833333333334,
           15059.857142857143,
           0,
           0,
           0,
           0,
           0,
           0,
           0,
           0,
           0,
           0,
           0,
           9449,
           3597.4444444444443,
           0,
           3676,
           10080,
           0,
           0,
           0,
           5024,
           2807.4827586206898,
           5033,
           3500,
           0,
           0,
           2251.6,
           0,
           0,
           0,
           2117,
           4506.333333333333,
           0,
           4187,
           0,
           0,
           11176.846153846154,
           0,
           0,
           0,
           4740.1875,
           14551.125,
           16288,
           0,
           0,
           0,
           15874,
           0,
           7353.5,
           2917,
           2731.5384615384614,
           0,
           6595,
           8151.222222222223,
           0,
           0,
           0,
           12134,
           12102,
           0,
           0,
           5377,
           0,
           14989.233333333334,
           14930,
           0,
           0,
           5220.285714285715,
           11516,
           6718,
           7961.75,
           9279,
           5069,
           0,
           0,
           0,
           0,
           0,
           0,
           0,
           0,
           0,
           0,
           0,
           0,
           13772.102564102564,
           21262,
           0,
           15242.632911392406,
           11747.5,
           0,
           0,
           0,
           0,
           0,
           20488.375,
           0,
           0,
           0,
           0,
           0,
           0,
           0,
           0,
           16545.823529411766,
           17022.69318181818,
           9776.166666666666,
           9490.846153846154,
           4600,
           10703,
           0,
           4789,
           0,
           0,
           0,
           16720.68181818182,
           0,
           0,
           15423.388888888889,
           17247.01219512195,
           0,
           0,
           0,
           0,
           0,
           0,
           0,
           0,
           17147.619047619046,
           5194.125,
           21420,
           19729.85714285714,
           18805.2,
           0,
           0,
           0,
           16408.5,
           0,
           0,
           0,
           0,
           0,
           0,
           14270.666666666666,
           21471,
           0,
           0,
           0,
           19967,
           0,
           0,
           11705,
           0,
           0,
           5653,
           14880.5,
           11752.5,
           0,
           17872.2,
           0,
           0,
           0,
           0,
           0,
           18307.666666666668,
           0,
           0,
           0,
           0,
           0,
           0,
           0,
           16503.666666666668,
           0,
           0,
           0,
           0,
           0,
           18244.875,
           0,
           0,
           0,
           0,
           0,
           0,
           0,
           0,
           19951,
           0,
           0,
           0,
           0,
           0,
           10750,
           0,
           1935,
           0,
           0,
           19920.81818181818,
           0,
           0,
           0,
           17763,
           0,
           0,
           0,
           0,
           0,
           0,
           0,
           17589.714285714286,
           0,
           19536.897435897437,
           5486,
           18987.1875,
           1855,
           0,
           0,
           20733.5,
           0,
           23334,
           20597.75,
           19215,
           16480.5,
           0,
           0,
           18982.827586206895,
           0,
           5899,
           0,
           0,
           0,
           0,
           0,
           0,
           0,
           0,
           0,
           0,
           0
          ],
          "coloraxis": "coloraxis",
          "size": [
           1,
           6,
           0,
           8,
           2,
           12,
           20,
           9,
           2,
           4,
           4,
           0,
           0,
           6,
           14,
           0,
           0,
           0,
           0,
           0,
           0,
           0,
           0,
           0,
           0,
           0,
           11,
           27,
           0,
           1,
           6,
           0,
           0,
           0,
           1,
           29,
           3,
           1,
           0,
           0,
           5,
           0,
           0,
           0,
           4,
           18,
           0,
           1,
           0,
           0,
           65,
           0,
           0,
           0,
           16,
           8,
           1,
           0,
           0,
           0,
           2,
           0,
           2,
           2,
           13,
           0,
           1,
           9,
           0,
           0,
           0,
           2,
           1,
           0,
           0,
           1,
           0,
           30,
           10,
           0,
           0,
           7,
           3,
           2,
           4,
           34,
           2,
           0,
           0,
           0,
           0,
           0,
           0,
           0,
           0,
           0,
           0,
           0,
           0,
           78,
           2,
           0,
           79,
           16,
           0,
           0,
           0,
           0,
           0,
           16,
           0,
           0,
           0,
           0,
           0,
           0,
           0,
           0,
           17,
           88,
           6,
           13,
           1,
           4,
           0,
           2,
           0,
           0,
           0,
           22,
           0,
           0,
           54,
           82,
           0,
           0,
           0,
           0,
           0,
           0,
           0,
           0,
           21,
           56,
           4,
           7,
           30,
           0,
           0,
           0,
           6,
           0,
           0,
           0,
           0,
           0,
           0,
           30,
           1,
           0,
           0,
           0,
           1,
           0,
           0,
           1,
           0,
           0,
           2,
           2,
           2,
           0,
           10,
           0,
           0,
           0,
           0,
           0,
           3,
           0,
           0,
           0,
           0,
           0,
           0,
           0,
           3,
           0,
           0,
           0,
           0,
           0,
           8,
           0,
           0,
           0,
           0,
           0,
           0,
           0,
           0,
           2,
           0,
           0,
           0,
           0,
           0,
           1,
           0,
           3,
           0,
           0,
           11,
           0,
           0,
           0,
           6,
           0,
           0,
           0,
           0,
           0,
           0,
           0,
           14,
           0,
           39,
           5,
           16,
           2,
           0,
           0,
           4,
           0,
           2,
           8,
           4,
           6,
           0,
           0,
           29,
           0,
           2,
           0,
           0,
           0,
           0,
           0,
           0,
           0,
           0,
           0,
           0,
           0
          ],
          "sizemode": "area",
          "sizeref": 0.0352,
          "symbol": "circle"
         },
         "mode": "markers",
         "name": "",
         "showlegend": false,
         "type": "scattergeo"
        }
       ],
       "layout": {
        "coloraxis": {
         "colorbar": {
          "title": {
           "text": "County_Avg_Depth"
          }
         },
         "colorscale": [
          [
           0,
           "rgb(255,245,240)"
          ],
          [
           0.125,
           "rgb(254,224,210)"
          ],
          [
           0.25,
           "rgb(252,187,161)"
          ],
          [
           0.375,
           "rgb(252,146,114)"
          ],
          [
           0.5,
           "rgb(251,106,74)"
          ],
          [
           0.625,
           "rgb(239,59,44)"
          ],
          [
           0.75,
           "rgb(203,24,29)"
          ],
          [
           0.875,
           "rgb(165,15,21)"
          ],
          [
           1,
           "rgb(103,0,13)"
          ]
         ]
        },
        "geo": {
         "center": {
          "lat": 31,
          "lon": -100
         },
         "domain": {
          "x": [
           0,
           1
          ],
          "y": [
           0,
           1
          ]
         },
         "lataxis": {
          "range": [
           25,
           37
          ]
         },
         "lonaxis": {
          "range": [
           -107,
           -93
          ]
         },
         "scope": "usa",
         "visible": true
        },
        "legend": {
         "itemsizing": "constant",
         "tracegroupgap": 0
        },
        "margin": {
         "b": 0,
         "l": 0,
         "r": 0,
         "t": 50
        },
        "template": {
         "data": {
          "bar": [
           {
            "error_x": {
             "color": "#2a3f5f"
            },
            "error_y": {
             "color": "#2a3f5f"
            },
            "marker": {
             "line": {
              "color": "#E5ECF6",
              "width": 0.5
             },
             "pattern": {
              "fillmode": "overlay",
              "size": 10,
              "solidity": 0.2
             }
            },
            "type": "bar"
           }
          ],
          "barpolar": [
           {
            "marker": {
             "line": {
              "color": "#E5ECF6",
              "width": 0.5
             },
             "pattern": {
              "fillmode": "overlay",
              "size": 10,
              "solidity": 0.2
             }
            },
            "type": "barpolar"
           }
          ],
          "carpet": [
           {
            "aaxis": {
             "endlinecolor": "#2a3f5f",
             "gridcolor": "white",
             "linecolor": "white",
             "minorgridcolor": "white",
             "startlinecolor": "#2a3f5f"
            },
            "baxis": {
             "endlinecolor": "#2a3f5f",
             "gridcolor": "white",
             "linecolor": "white",
             "minorgridcolor": "white",
             "startlinecolor": "#2a3f5f"
            },
            "type": "carpet"
           }
          ],
          "choropleth": [
           {
            "colorbar": {
             "outlinewidth": 0,
             "ticks": ""
            },
            "type": "choropleth"
           }
          ],
          "contour": [
           {
            "colorbar": {
             "outlinewidth": 0,
             "ticks": ""
            },
            "colorscale": [
             [
              0,
              "#0d0887"
             ],
             [
              0.1111111111111111,
              "#46039f"
             ],
             [
              0.2222222222222222,
              "#7201a8"
             ],
             [
              0.3333333333333333,
              "#9c179e"
             ],
             [
              0.4444444444444444,
              "#bd3786"
             ],
             [
              0.5555555555555556,
              "#d8576b"
             ],
             [
              0.6666666666666666,
              "#ed7953"
             ],
             [
              0.7777777777777778,
              "#fb9f3a"
             ],
             [
              0.8888888888888888,
              "#fdca26"
             ],
             [
              1,
              "#f0f921"
             ]
            ],
            "type": "contour"
           }
          ],
          "contourcarpet": [
           {
            "colorbar": {
             "outlinewidth": 0,
             "ticks": ""
            },
            "type": "contourcarpet"
           }
          ],
          "heatmap": [
           {
            "colorbar": {
             "outlinewidth": 0,
             "ticks": ""
            },
            "colorscale": [
             [
              0,
              "#0d0887"
             ],
             [
              0.1111111111111111,
              "#46039f"
             ],
             [
              0.2222222222222222,
              "#7201a8"
             ],
             [
              0.3333333333333333,
              "#9c179e"
             ],
             [
              0.4444444444444444,
              "#bd3786"
             ],
             [
              0.5555555555555556,
              "#d8576b"
             ],
             [
              0.6666666666666666,
              "#ed7953"
             ],
             [
              0.7777777777777778,
              "#fb9f3a"
             ],
             [
              0.8888888888888888,
              "#fdca26"
             ],
             [
              1,
              "#f0f921"
             ]
            ],
            "type": "heatmap"
           }
          ],
          "heatmapgl": [
           {
            "colorbar": {
             "outlinewidth": 0,
             "ticks": ""
            },
            "colorscale": [
             [
              0,
              "#0d0887"
             ],
             [
              0.1111111111111111,
              "#46039f"
             ],
             [
              0.2222222222222222,
              "#7201a8"
             ],
             [
              0.3333333333333333,
              "#9c179e"
             ],
             [
              0.4444444444444444,
              "#bd3786"
             ],
             [
              0.5555555555555556,
              "#d8576b"
             ],
             [
              0.6666666666666666,
              "#ed7953"
             ],
             [
              0.7777777777777778,
              "#fb9f3a"
             ],
             [
              0.8888888888888888,
              "#fdca26"
             ],
             [
              1,
              "#f0f921"
             ]
            ],
            "type": "heatmapgl"
           }
          ],
          "histogram": [
           {
            "marker": {
             "pattern": {
              "fillmode": "overlay",
              "size": 10,
              "solidity": 0.2
             }
            },
            "type": "histogram"
           }
          ],
          "histogram2d": [
           {
            "colorbar": {
             "outlinewidth": 0,
             "ticks": ""
            },
            "colorscale": [
             [
              0,
              "#0d0887"
             ],
             [
              0.1111111111111111,
              "#46039f"
             ],
             [
              0.2222222222222222,
              "#7201a8"
             ],
             [
              0.3333333333333333,
              "#9c179e"
             ],
             [
              0.4444444444444444,
              "#bd3786"
             ],
             [
              0.5555555555555556,
              "#d8576b"
             ],
             [
              0.6666666666666666,
              "#ed7953"
             ],
             [
              0.7777777777777778,
              "#fb9f3a"
             ],
             [
              0.8888888888888888,
              "#fdca26"
             ],
             [
              1,
              "#f0f921"
             ]
            ],
            "type": "histogram2d"
           }
          ],
          "histogram2dcontour": [
           {
            "colorbar": {
             "outlinewidth": 0,
             "ticks": ""
            },
            "colorscale": [
             [
              0,
              "#0d0887"
             ],
             [
              0.1111111111111111,
              "#46039f"
             ],
             [
              0.2222222222222222,
              "#7201a8"
             ],
             [
              0.3333333333333333,
              "#9c179e"
             ],
             [
              0.4444444444444444,
              "#bd3786"
             ],
             [
              0.5555555555555556,
              "#d8576b"
             ],
             [
              0.6666666666666666,
              "#ed7953"
             ],
             [
              0.7777777777777778,
              "#fb9f3a"
             ],
             [
              0.8888888888888888,
              "#fdca26"
             ],
             [
              1,
              "#f0f921"
             ]
            ],
            "type": "histogram2dcontour"
           }
          ],
          "mesh3d": [
           {
            "colorbar": {
             "outlinewidth": 0,
             "ticks": ""
            },
            "type": "mesh3d"
           }
          ],
          "parcoords": [
           {
            "line": {
             "colorbar": {
              "outlinewidth": 0,
              "ticks": ""
             }
            },
            "type": "parcoords"
           }
          ],
          "pie": [
           {
            "automargin": true,
            "type": "pie"
           }
          ],
          "scatter": [
           {
            "fillpattern": {
             "fillmode": "overlay",
             "size": 10,
             "solidity": 0.2
            },
            "type": "scatter"
           }
          ],
          "scatter3d": [
           {
            "line": {
             "colorbar": {
              "outlinewidth": 0,
              "ticks": ""
             }
            },
            "marker": {
             "colorbar": {
              "outlinewidth": 0,
              "ticks": ""
             }
            },
            "type": "scatter3d"
           }
          ],
          "scattercarpet": [
           {
            "marker": {
             "colorbar": {
              "outlinewidth": 0,
              "ticks": ""
             }
            },
            "type": "scattercarpet"
           }
          ],
          "scattergeo": [
           {
            "marker": {
             "colorbar": {
              "outlinewidth": 0,
              "ticks": ""
             }
            },
            "type": "scattergeo"
           }
          ],
          "scattergl": [
           {
            "marker": {
             "colorbar": {
              "outlinewidth": 0,
              "ticks": ""
             }
            },
            "type": "scattergl"
           }
          ],
          "scattermapbox": [
           {
            "marker": {
             "colorbar": {
              "outlinewidth": 0,
              "ticks": ""
             }
            },
            "type": "scattermapbox"
           }
          ],
          "scatterpolar": [
           {
            "marker": {
             "colorbar": {
              "outlinewidth": 0,
              "ticks": ""
             }
            },
            "type": "scatterpolar"
           }
          ],
          "scatterpolargl": [
           {
            "marker": {
             "colorbar": {
              "outlinewidth": 0,
              "ticks": ""
             }
            },
            "type": "scatterpolargl"
           }
          ],
          "scatterternary": [
           {
            "marker": {
             "colorbar": {
              "outlinewidth": 0,
              "ticks": ""
             }
            },
            "type": "scatterternary"
           }
          ],
          "surface": [
           {
            "colorbar": {
             "outlinewidth": 0,
             "ticks": ""
            },
            "colorscale": [
             [
              0,
              "#0d0887"
             ],
             [
              0.1111111111111111,
              "#46039f"
             ],
             [
              0.2222222222222222,
              "#7201a8"
             ],
             [
              0.3333333333333333,
              "#9c179e"
             ],
             [
              0.4444444444444444,
              "#bd3786"
             ],
             [
              0.5555555555555556,
              "#d8576b"
             ],
             [
              0.6666666666666666,
              "#ed7953"
             ],
             [
              0.7777777777777778,
              "#fb9f3a"
             ],
             [
              0.8888888888888888,
              "#fdca26"
             ],
             [
              1,
              "#f0f921"
             ]
            ],
            "type": "surface"
           }
          ],
          "table": [
           {
            "cells": {
             "fill": {
              "color": "#EBF0F8"
             },
             "line": {
              "color": "white"
             }
            },
            "header": {
             "fill": {
              "color": "#C8D4E3"
             },
             "line": {
              "color": "white"
             }
            },
            "type": "table"
           }
          ]
         },
         "layout": {
          "annotationdefaults": {
           "arrowcolor": "#2a3f5f",
           "arrowhead": 0,
           "arrowwidth": 1
          },
          "autotypenumbers": "strict",
          "coloraxis": {
           "colorbar": {
            "outlinewidth": 0,
            "ticks": ""
           }
          },
          "colorscale": {
           "diverging": [
            [
             0,
             "#8e0152"
            ],
            [
             0.1,
             "#c51b7d"
            ],
            [
             0.2,
             "#de77ae"
            ],
            [
             0.3,
             "#f1b6da"
            ],
            [
             0.4,
             "#fde0ef"
            ],
            [
             0.5,
             "#f7f7f7"
            ],
            [
             0.6,
             "#e6f5d0"
            ],
            [
             0.7,
             "#b8e186"
            ],
            [
             0.8,
             "#7fbc41"
            ],
            [
             0.9,
             "#4d9221"
            ],
            [
             1,
             "#276419"
            ]
           ],
           "sequential": [
            [
             0,
             "#0d0887"
            ],
            [
             0.1111111111111111,
             "#46039f"
            ],
            [
             0.2222222222222222,
             "#7201a8"
            ],
            [
             0.3333333333333333,
             "#9c179e"
            ],
            [
             0.4444444444444444,
             "#bd3786"
            ],
            [
             0.5555555555555556,
             "#d8576b"
            ],
            [
             0.6666666666666666,
             "#ed7953"
            ],
            [
             0.7777777777777778,
             "#fb9f3a"
            ],
            [
             0.8888888888888888,
             "#fdca26"
            ],
            [
             1,
             "#f0f921"
            ]
           ],
           "sequentialminus": [
            [
             0,
             "#0d0887"
            ],
            [
             0.1111111111111111,
             "#46039f"
            ],
            [
             0.2222222222222222,
             "#7201a8"
            ],
            [
             0.3333333333333333,
             "#9c179e"
            ],
            [
             0.4444444444444444,
             "#bd3786"
            ],
            [
             0.5555555555555556,
             "#d8576b"
            ],
            [
             0.6666666666666666,
             "#ed7953"
            ],
            [
             0.7777777777777778,
             "#fb9f3a"
            ],
            [
             0.8888888888888888,
             "#fdca26"
            ],
            [
             1,
             "#f0f921"
            ]
           ]
          },
          "colorway": [
           "#636efa",
           "#EF553B",
           "#00cc96",
           "#ab63fa",
           "#FFA15A",
           "#19d3f3",
           "#FF6692",
           "#B6E880",
           "#FF97FF",
           "#FECB52"
          ],
          "font": {
           "color": "#2a3f5f"
          },
          "geo": {
           "bgcolor": "white",
           "lakecolor": "white",
           "landcolor": "#E5ECF6",
           "showlakes": true,
           "showland": true,
           "subunitcolor": "white"
          },
          "hoverlabel": {
           "align": "left"
          },
          "hovermode": "closest",
          "mapbox": {
           "style": "light"
          },
          "paper_bgcolor": "white",
          "plot_bgcolor": "#E5ECF6",
          "polar": {
           "angularaxis": {
            "gridcolor": "white",
            "linecolor": "white",
            "ticks": ""
           },
           "bgcolor": "#E5ECF6",
           "radialaxis": {
            "gridcolor": "white",
            "linecolor": "white",
            "ticks": ""
           }
          },
          "scene": {
           "xaxis": {
            "backgroundcolor": "#E5ECF6",
            "gridcolor": "white",
            "gridwidth": 2,
            "linecolor": "white",
            "showbackground": true,
            "ticks": "",
            "zerolinecolor": "white"
           },
           "yaxis": {
            "backgroundcolor": "#E5ECF6",
            "gridcolor": "white",
            "gridwidth": 2,
            "linecolor": "white",
            "showbackground": true,
            "ticks": "",
            "zerolinecolor": "white"
           },
           "zaxis": {
            "backgroundcolor": "#E5ECF6",
            "gridcolor": "white",
            "gridwidth": 2,
            "linecolor": "white",
            "showbackground": true,
            "ticks": "",
            "zerolinecolor": "white"
           }
          },
          "shapedefaults": {
           "line": {
            "color": "#2a3f5f"
           }
          },
          "ternary": {
           "aaxis": {
            "gridcolor": "white",
            "linecolor": "white",
            "ticks": ""
           },
           "baxis": {
            "gridcolor": "white",
            "linecolor": "white",
            "ticks": ""
           },
           "bgcolor": "#E5ECF6",
           "caxis": {
            "gridcolor": "white",
            "linecolor": "white",
            "ticks": ""
           }
          },
          "title": {
           "x": 0.05
          },
          "xaxis": {
           "automargin": true,
           "gridcolor": "white",
           "linecolor": "white",
           "ticks": "",
           "title": {
            "standoff": 15
           },
           "zerolinecolor": "white",
           "zerolinewidth": 2
          },
          "yaxis": {
           "automargin": true,
           "gridcolor": "white",
           "linecolor": "white",
           "ticks": "",
           "title": {
            "standoff": 15
           },
           "zerolinecolor": "white",
           "zerolinewidth": 2
          }
         }
        },
        "title": {
         "text": "Texas Counties: Well Density (Size) and Average Depth (Color)"
        }
       }
      }
     },
     "metadata": {},
     "output_type": "display_data"
    }
   ],
   "source": [
    "# 7. 버블 지도 그리기\n",
    "fig = px.scatter_geo(\n",
    "    map_data,\n",
    "    lat='lat',\n",
    "    lon='lon',\n",
    "    size='County_Count',  # 우물 개수 -> 원 크기\n",
    "    color='County_Avg_Depth',  # 평균 깊이 -> 원 색상\n",
    "    hover_name='County Name',  # 툴팁에 카운티 이름\n",
    "    hover_data={'County_Count': True, 'County_Avg_Depth': True, 'lat': False, 'lon': False},\n",
    "    color_continuous_scale='Reds',\n",
    "    size_max=50,\n",
    "    scope='usa',\n",
    "    center={'lat': 31.0, 'lon': -100.0},  # 텍사스 중심\n",
    "    title='Texas Counties: Well Density (Size) and Average Depth (Color)'\n",
    ")\n",
    "\n",
    "fig.update_geos(\n",
    "    visible=True,\n",
    "    lataxis_range=[25, 37],\n",
    "    lonaxis_range=[-107, -93]\n",
    ")\n",
    "fig.update_layout(\n",
    "    margin={\"r\":0,\"t\":50,\"l\":0,\"b\":0}\n",
    ")\n",
    "\n",
    "fig.show()"
   ]
  },
  {
   "cell_type": "code",
   "execution_count": 99,
   "metadata": {},
   "outputs": [
    {
     "data": {
      "application/vnd.microsoft.datawrangler.viewer.v0+json": {
       "columns": [
        {
         "name": "index",
         "rawType": "int64",
         "type": "integer"
        },
        {
         "name": "State",
         "rawType": "object",
         "type": "string"
        },
        {
         "name": "County",
         "rawType": "object",
         "type": "string"
        },
        {
         "name": "StateID",
         "rawType": "int64",
         "type": "integer"
        },
        {
         "name": "CountyID",
         "rawType": "int64",
         "type": "integer"
        },
        {
         "name": "Region",
         "rawType": "object",
         "type": "string"
        }
       ],
       "conversionMethod": "pd.DataFrame",
       "ref": "9bffec59-51b8-4469-99bd-987c6a597e6e",
       "rows": [
        [
         "0",
         "OK",
         "ALFALFA",
         "35",
         "3",
         "Anadarko Region"
        ],
        [
         "1",
         "OK",
         "BEAVER",
         "35",
         "7",
         "Anadarko Region"
        ],
        [
         "2",
         "OK",
         "BECKHAM",
         "35",
         "9",
         "Anadarko Region"
        ],
        [
         "3",
         "OK",
         "BLAINE",
         "35",
         "11",
         "Anadarko Region"
        ],
        [
         "4",
         "OK",
         "CADDO",
         "35",
         "15",
         "Anadarko Region"
        ]
       ],
       "shape": {
        "columns": 5,
        "rows": 5
       }
      },
      "text/html": [
       "<div>\n",
       "<style scoped>\n",
       "    .dataframe tbody tr th:only-of-type {\n",
       "        vertical-align: middle;\n",
       "    }\n",
       "\n",
       "    .dataframe tbody tr th {\n",
       "        vertical-align: top;\n",
       "    }\n",
       "\n",
       "    .dataframe thead th {\n",
       "        text-align: right;\n",
       "    }\n",
       "</style>\n",
       "<table border=\"1\" class=\"dataframe\">\n",
       "  <thead>\n",
       "    <tr style=\"text-align: right;\">\n",
       "      <th></th>\n",
       "      <th>State</th>\n",
       "      <th>County</th>\n",
       "      <th>StateID</th>\n",
       "      <th>CountyID</th>\n",
       "      <th>Region</th>\n",
       "    </tr>\n",
       "  </thead>\n",
       "  <tbody>\n",
       "    <tr>\n",
       "      <th>0</th>\n",
       "      <td>OK</td>\n",
       "      <td>ALFALFA</td>\n",
       "      <td>35</td>\n",
       "      <td>3</td>\n",
       "      <td>Anadarko Region</td>\n",
       "    </tr>\n",
       "    <tr>\n",
       "      <th>1</th>\n",
       "      <td>OK</td>\n",
       "      <td>BEAVER</td>\n",
       "      <td>35</td>\n",
       "      <td>7</td>\n",
       "      <td>Anadarko Region</td>\n",
       "    </tr>\n",
       "    <tr>\n",
       "      <th>2</th>\n",
       "      <td>OK</td>\n",
       "      <td>BECKHAM</td>\n",
       "      <td>35</td>\n",
       "      <td>9</td>\n",
       "      <td>Anadarko Region</td>\n",
       "    </tr>\n",
       "    <tr>\n",
       "      <th>3</th>\n",
       "      <td>OK</td>\n",
       "      <td>BLAINE</td>\n",
       "      <td>35</td>\n",
       "      <td>11</td>\n",
       "      <td>Anadarko Region</td>\n",
       "    </tr>\n",
       "    <tr>\n",
       "      <th>4</th>\n",
       "      <td>OK</td>\n",
       "      <td>CADDO</td>\n",
       "      <td>35</td>\n",
       "      <td>15</td>\n",
       "      <td>Anadarko Region</td>\n",
       "    </tr>\n",
       "  </tbody>\n",
       "</table>\n",
       "</div>"
      ],
      "text/plain": [
       "  State   County  StateID  CountyID           Region\n",
       "0    OK  ALFALFA       35         3  Anadarko Region\n",
       "1    OK   BEAVER       35         7  Anadarko Region\n",
       "2    OK  BECKHAM       35         9  Anadarko Region\n",
       "3    OK   BLAINE       35        11  Anadarko Region\n",
       "4    OK    CADDO       35        15  Anadarko Region"
      ]
     },
     "execution_count": 99,
     "metadata": {},
     "output_type": "execute_result"
    }
   ],
   "source": [
    "# county 별 분지\n",
    "basin_data = pd.read_excel('생산분지.xlsx', sheet_name= 'RegionCounties')\n",
    "\n",
    "basin_data.head()\n",
    "\n"
   ]
  },
  {
   "cell_type": "code",
   "execution_count": 100,
   "metadata": {},
   "outputs": [
    {
     "data": {
      "application/vnd.microsoft.datawrangler.viewer.v0+json": {
       "columns": [
        {
         "name": "index",
         "rawType": "int64",
         "type": "integer"
        },
        {
         "name": "County",
         "rawType": "object",
         "type": "string"
        },
        {
         "name": "Region",
         "rawType": "object",
         "type": "string"
        }
       ],
       "conversionMethod": "pd.DataFrame",
       "ref": "c528a8db-e5f7-47c5-b7b0-a339b42b5cb7",
       "rows": [
        [
         "24",
         "HEMPHILL",
         "Anadarko Region"
        ],
        [
         "25",
         "LIPSCOMB",
         "Anadarko Region"
        ],
        [
         "26",
         "OCHILTREE",
         "Anadarko Region"
        ],
        [
         "27",
         "ROBERTS",
         "Anadarko Region"
        ],
        [
         "28",
         "WHEELER",
         "Anadarko Region"
        ],
        [
         "175",
         "ATASCOSA",
         "Eagle Ford Region"
        ],
        [
         "176",
         "BASTROP",
         "Eagle Ford Region"
        ],
        [
         "177",
         "BEE",
         "Eagle Ford Region"
        ],
        [
         "178",
         "BRAZOS",
         "Eagle Ford Region"
        ],
        [
         "179",
         "BURLESON",
         "Eagle Ford Region"
        ],
        [
         "180",
         "DEWITT",
         "Eagle Ford Region"
        ],
        [
         "181",
         "DIMMIT",
         "Eagle Ford Region"
        ],
        [
         "182",
         "FAYETTE",
         "Eagle Ford Region"
        ],
        [
         "183",
         "FRIO",
         "Eagle Ford Region"
        ],
        [
         "184",
         "GONZALES",
         "Eagle Ford Region"
        ],
        [
         "185",
         "KARNES",
         "Eagle Ford Region"
        ],
        [
         "186",
         "LA SALLE",
         "Eagle Ford Region"
        ],
        [
         "187",
         "LAVACA",
         "Eagle Ford Region"
        ],
        [
         "188",
         "LEE",
         "Eagle Ford Region"
        ],
        [
         "189",
         "LEON",
         "Eagle Ford Region"
        ],
        [
         "190",
         "LIVE OAK",
         "Eagle Ford Region"
        ],
        [
         "191",
         "MADISON",
         "Eagle Ford Region"
        ],
        [
         "192",
         "MAVERICK",
         "Eagle Ford Region"
        ],
        [
         "193",
         "MCMULLEN",
         "Eagle Ford Region"
        ],
        [
         "194",
         "MILAM",
         "Eagle Ford Region"
        ],
        [
         "195",
         "WEBB",
         "Eagle Ford Region"
        ],
        [
         "196",
         "WILSON",
         "Eagle Ford Region"
        ],
        [
         "197",
         "ZAVALA",
         "Eagle Ford Region"
        ],
        [
         "210",
         "ANGELINA",
         "Haynesville Region"
        ],
        [
         "211",
         "CHEROKEE",
         "Haynesville Region"
        ],
        [
         "212",
         "GREGG",
         "Haynesville Region"
        ],
        [
         "213",
         "HARRISON",
         "Haynesville Region"
        ],
        [
         "214",
         "MARION",
         "Haynesville Region"
        ],
        [
         "215",
         "NACOGDOCHES",
         "Haynesville Region"
        ],
        [
         "216",
         "PANOLA",
         "Haynesville Region"
        ],
        [
         "217",
         "RUSK",
         "Haynesville Region"
        ],
        [
         "218",
         "SABINE",
         "Haynesville Region"
        ],
        [
         "219",
         "SAN AUGUSTINE",
         "Haynesville Region"
        ],
        [
         "220",
         "SHELBY",
         "Haynesville Region"
        ],
        [
         "221",
         "SMITH",
         "Haynesville Region"
        ],
        [
         "222",
         "UPSHUR",
         "Haynesville Region"
        ],
        [
         "264",
         "ANDREWS",
         "Permian Region"
        ],
        [
         "265",
         "BAILEY",
         "Permian Region"
        ],
        [
         "266",
         "BORDEN",
         "Permian Region"
        ],
        [
         "267",
         "COCHRAN",
         "Permian Region"
        ],
        [
         "268",
         "COKE",
         "Permian Region"
        ],
        [
         "269",
         "CONCHO",
         "Permian Region"
        ],
        [
         "270",
         "CRANE",
         "Permian Region"
        ],
        [
         "271",
         "CROCKETT",
         "Permian Region"
        ],
        [
         "272",
         "CROSBY",
         "Permian Region"
        ]
       ],
       "shape": {
        "columns": 2,
        "rows": 92
       }
      },
      "text/html": [
       "<div>\n",
       "<style scoped>\n",
       "    .dataframe tbody tr th:only-of-type {\n",
       "        vertical-align: middle;\n",
       "    }\n",
       "\n",
       "    .dataframe tbody tr th {\n",
       "        vertical-align: top;\n",
       "    }\n",
       "\n",
       "    .dataframe thead th {\n",
       "        text-align: right;\n",
       "    }\n",
       "</style>\n",
       "<table border=\"1\" class=\"dataframe\">\n",
       "  <thead>\n",
       "    <tr style=\"text-align: right;\">\n",
       "      <th></th>\n",
       "      <th>County</th>\n",
       "      <th>Region</th>\n",
       "    </tr>\n",
       "  </thead>\n",
       "  <tbody>\n",
       "    <tr>\n",
       "      <th>24</th>\n",
       "      <td>HEMPHILL</td>\n",
       "      <td>Anadarko Region</td>\n",
       "    </tr>\n",
       "    <tr>\n",
       "      <th>25</th>\n",
       "      <td>LIPSCOMB</td>\n",
       "      <td>Anadarko Region</td>\n",
       "    </tr>\n",
       "    <tr>\n",
       "      <th>26</th>\n",
       "      <td>OCHILTREE</td>\n",
       "      <td>Anadarko Region</td>\n",
       "    </tr>\n",
       "    <tr>\n",
       "      <th>27</th>\n",
       "      <td>ROBERTS</td>\n",
       "      <td>Anadarko Region</td>\n",
       "    </tr>\n",
       "    <tr>\n",
       "      <th>28</th>\n",
       "      <td>WHEELER</td>\n",
       "      <td>Anadarko Region</td>\n",
       "    </tr>\n",
       "    <tr>\n",
       "      <th>...</th>\n",
       "      <td>...</td>\n",
       "      <td>...</td>\n",
       "    </tr>\n",
       "    <tr>\n",
       "      <th>310</th>\n",
       "      <td>UPTON</td>\n",
       "      <td>Permian Region</td>\n",
       "    </tr>\n",
       "    <tr>\n",
       "      <th>311</th>\n",
       "      <td>VAL VERDE</td>\n",
       "      <td>Permian Region</td>\n",
       "    </tr>\n",
       "    <tr>\n",
       "      <th>312</th>\n",
       "      <td>WARD</td>\n",
       "      <td>Permian Region</td>\n",
       "    </tr>\n",
       "    <tr>\n",
       "      <th>313</th>\n",
       "      <td>WINKLER</td>\n",
       "      <td>Permian Region</td>\n",
       "    </tr>\n",
       "    <tr>\n",
       "      <th>314</th>\n",
       "      <td>YOAKUM</td>\n",
       "      <td>Permian Region</td>\n",
       "    </tr>\n",
       "  </tbody>\n",
       "</table>\n",
       "<p>92 rows × 2 columns</p>\n",
       "</div>"
      ],
      "text/plain": [
       "        County           Region\n",
       "24    HEMPHILL  Anadarko Region\n",
       "25    LIPSCOMB  Anadarko Region\n",
       "26   OCHILTREE  Anadarko Region\n",
       "27     ROBERTS  Anadarko Region\n",
       "28     WHEELER  Anadarko Region\n",
       "..         ...              ...\n",
       "310      UPTON   Permian Region\n",
       "311  VAL VERDE   Permian Region\n",
       "312       WARD   Permian Region\n",
       "313    WINKLER   Permian Region\n",
       "314     YOAKUM   Permian Region\n",
       "\n",
       "[92 rows x 2 columns]"
      ]
     },
     "execution_count": 100,
     "metadata": {},
     "output_type": "execute_result"
    }
   ],
   "source": [
    "# 카운티랑 생산분지만 뽑음\n",
    "filtered_basin_data = basin_data[basin_data['State'] == 'TX'][['County', 'Region']]\n",
    "filtered_basin_data"
   ]
  },
  {
   "cell_type": "code",
   "execution_count": 101,
   "metadata": {},
   "outputs": [
    {
     "name": "stdout",
     "output_type": "stream",
     "text": [
      "병합 결과 상위 5행:\n",
      "      COUNTY County Name     County  County_Count  County_Avg_Depth  \\\n",
      "0    SHERMAN     SHERMAN        NaN           1.0          3350.000   \n",
      "1   HANSFORD    HANSFORD        NaN           6.0         10244.000   \n",
      "2     DALLAM         NaN        NaN           0.0             0.000   \n",
      "3  OCHILTREE   OCHILTREE  OCHILTREE           8.0         12416.125   \n",
      "4   LIPSCOMB    LIPSCOMB   LIPSCOMB           2.0         11530.500   \n",
      "\n",
      "            Region        lat         lon  \n",
      "0          Unknown  36.277721 -101.893445  \n",
      "1          Unknown  36.277409 -101.354548  \n",
      "2          Unknown  36.277872 -102.602198  \n",
      "3  Anadarko Region  36.278337 -100.815632  \n",
      "4  Anadarko Region  36.277648 -100.273127  \n",
      "map_data 타입: <class 'geopandas.geodataframe.GeoDataFrame'>\n"
     ]
    },
    {
     "name": "stderr",
     "output_type": "stream",
     "text": [
      "C:\\Users\\qkrgu\\AppData\\Local\\Temp\\ipykernel_20216\\2133607878.py:4: UserWarning:\n",
      "\n",
      "Geometry is in a geographic CRS. Results from 'centroid' are likely incorrect. Use 'GeoSeries.to_crs()' to re-project geometries to a projected CRS before this operation.\n",
      "\n",
      "\n"
     ]
    }
   ],
   "source": [
    "texas_counties = gpd.read_file('tx_counties.geojson')  # 실제 경로로 대체\n",
    "\n",
    "# 3. 중심점 계산\n",
    "texas_counties['centroid'] = texas_counties.geometry.centroid\n",
    "texas_counties['lat'] = texas_counties['centroid'].y\n",
    "texas_counties['lon'] = texas_counties['centroid'].x\n",
    "\n",
    "# 4. GeoJSON의 COUNTY 이름 조정 (대문자)\n",
    "texas_counties['COUNTY'] = texas_counties['COUNTY'].str.replace(' County', '').str.upper()\n",
    "\n",
    "# 5. county_c_a와 GeoJSON 병합 (geometry 유지)\n",
    "map_data = texas_counties.merge(county_c_a, how='left', left_on='COUNTY', right_on='County Name')\n",
    "\n",
    "# 6. filtered_basin_data 병합\n",
    "# 예: filtered_basin_data = pd.DataFrame({'County': ['HARRIS', 'BEXAR'], 'Region': ['Gulf Coast', 'Permian']})\n",
    "map_data = map_data.merge(filtered_basin_data, how='left', left_on='County Name', right_on='County')\n",
    "\n",
    "# 7. NaN 값 처리\n",
    "map_data['County_Count'] = map_data['County_Count'].fillna(0)\n",
    "map_data['County_Avg_Depth'] = map_data['County_Avg_Depth'].fillna(0)\n",
    "map_data['Region'] = map_data['Region'].fillna('Unknown')\n",
    "\n",
    "# 8. 병합 결과 확인\n",
    "print(\"병합 결과 상위 5행:\")\n",
    "print(map_data[['COUNTY', 'County Name', 'County', 'County_Count', 'County_Avg_Depth', 'Region', 'lat', 'lon']].head())\n",
    "\n",
    "# 9. GeoDataFrame 확인 (필요 시)\n",
    "print(\"map_data 타입:\", type(map_data))"
   ]
  },
  {
   "cell_type": "code",
   "execution_count": null,
   "metadata": {},
   "outputs": [
    {
     "name": "stdout",
     "output_type": "stream",
     "text": [
      "병합 결과 상위 5행:\n",
      "      COUNTY County Name  County_Count  County_Avg_Depth           Region  \\\n",
      "0    SHERMAN     SHERMAN           1.0          3350.000          Unknown   \n",
      "1   HANSFORD    HANSFORD           6.0         10244.000          Unknown   \n",
      "2     DALLAM         NaN           0.0             0.000          Unknown   \n",
      "3  OCHILTREE   OCHILTREE           8.0         12416.125  Anadarko Region   \n",
      "4   LIPSCOMB    LIPSCOMB           2.0         11530.500  Anadarko Region   \n",
      "\n",
      "   depth_normalized        lat         lon  \n",
      "0          0.143567  36.277721 -101.893445  \n",
      "1          0.439016  36.277409 -101.354548  \n",
      "2          0.000000  36.277872 -102.602198  \n",
      "3          0.532104  36.278337 -100.815632  \n",
      "4          0.494150  36.277648 -100.273127  \n"
     ]
    },
    {
     "data": {
      "application/vnd.plotly.v1+json": {
       "config": {
        "plotlyServerURL": "https://plot.ly"
       },
       "data": [
        {
         "lat": [
          30.965524231912916,
          30.660677164598006,
          30.492420392495255,
          30.310715384140693,
          29.876665478095553,
          29.45673240737779,
          29.384359781979136,
          28.89351731267051,
          28.905720238788717,
          28.867818167816665,
          28.8662083017337,
          28.351366221065426,
          28.417395077623706,
          28.345070818845485,
          28.352680015258603,
          28.422531594914094,
          27.761066217142698
         ],
         "lon": [
          -95.92838801392553,
          -96.30236895634907,
          -96.62143611451401,
          -96.96583910234054,
          -96.91934058925996,
          -97.4925157533339,
          -96.93014443279802,
          -98.52712277383257,
          -97.85939561584505,
          -99.10825754401297,
          -99.76058965322632,
          -98.12477499389452,
          -97.74118428156373,
          -99.09965558753638,
          -98.56783289294822,
          -99.75671472913469,
          -99.33152499992286
         ],
         "marker": {
          "color": [
           "#08306b",
           "#08306b",
           "#08306b",
           "#08306b",
           "#08306b",
           "#08306b",
           "#08306b",
           "#08306b",
           "#08306b",
           "#08306b",
           "#1f77b4",
           "#08306b",
           "#08306b",
           "#08306b",
           "#08306b",
           "#08306b",
           "#08306b"
          ],
          "line": {
           "color": "black",
           "width": 0.5
          },
          "size": [
           1,
           10,
           3,
           3,
           2,
           11,
           6,
           14,
           39,
           16,
           2,
           4,
           2,
           8,
           4,
           6,
           29
          ],
          "sizemin": 7,
          "sizemode": "area",
          "sizeref": 0.035918367346938776
         },
         "mode": "markers",
         "name": "Eagle Ford Region",
         "text": [
          "MADISON<br>Count: 1.0<br>Depth: 11705.0",
          "BRAZOS<br>Count: 10.0<br>Depth: 17872.2",
          "BURLESON<br>Count: 3.0<br>Depth: 18307.666666666668",
          "LEE<br>Count: 3.0<br>Depth: 16503.666666666668",
          "FAYETTE<br>Count: 2.0<br>Depth: 19951.0",
          "GONZALES<br>Count: 11.0<br>Depth: 19920.81818181818",
          "LAVACA<br>Count: 6.0<br>Depth: 17763.0",
          "ATASCOSA<br>Count: 14.0<br>Depth: 17589.714285714286",
          "KARNES<br>Count: 39.0<br>Depth: 19536.897435897437",
          "FRIO<br>Count: 16.0<br>Depth: 18987.1875",
          "ZAVALA<br>Count: 2.0<br>Depth: 1855.0",
          "LIVE OAK<br>Count: 4.0<br>Depth: 20733.5",
          "BEE<br>Count: 2.0<br>Depth: 23334.0",
          "LA SALLE<br>Count: 8.0<br>Depth: 20597.75",
          "MCMULLEN<br>Count: 4.0<br>Depth: 19215.0",
          "DIMMIT<br>Count: 6.0<br>Depth: 16480.5",
          "WEBB<br>Count: 29.0<br>Depth: 18982.827586206895"
         ],
         "type": "scattergeo"
        },
        {
         "lat": [
          36.27833723068607,
          36.277648067274704,
          35.83848468708467,
          35.83756405802801,
          35.40125834516354
         ],
         "lon": [
          -100.81563219457425,
          -100.273126853763,
          -100.81343352511429,
          -100.27046337334559,
          -100.2697156816839
         ],
         "marker": {
          "color": [
           "#7f3b08",
           "#ff7f0e",
           "#ff7f0e",
           "#7f3b08",
           "#7f3b08"
          ],
          "line": {
           "color": "black",
           "width": 0.5
          },
          "size": [
           8,
           2,
           12,
           20,
           6
          ],
          "sizemin": 7,
          "sizemode": "area",
          "sizeref": 0.035918367346938776
         },
         "mode": "markers",
         "name": "Anadarko Region",
         "text": [
          "OCHILTREE<br>Count: 8.0<br>Depth: 12416.125",
          "LIPSCOMB<br>Count: 2.0<br>Depth: 11530.5",
          "ROBERTS<br>Count: 12.0<br>Depth: 9091.166666666666",
          "HEMPHILL<br>Count: 20.0<br>Depth: 16581.25",
          "WHEELER<br>Count: 6.0<br>Depth: 15242.833333333334"
         ],
         "type": "scattergeo"
        },
        {
         "lat": [
          32.16238494223157,
          31.394186928683084
         ],
         "lon": [
          -94.3056351641623,
          -94.16816990046938
         ],
         "marker": {
          "color": [
           "#0c4011",
           "#0c4011"
          ],
          "line": {
           "color": "black",
           "width": 0.5
          },
          "size": [
           16,
           4
          ],
          "sizemin": 7,
          "sizemode": "area",
          "sizeref": 0.035918367346938776
         },
         "mode": "markers",
         "name": "Haynesville Region",
         "text": [
          "PANOLA<br>Count: 16.0<br>Depth: 20488.375",
          "SAN AUGUSTINE<br>Count: 4.0<br>Depth: 21420.0"
         ],
         "type": "scattergeo"
        },
        {
         "lat": [
          34.07241896570992,
          33.61461951889329,
          33.60410908626818,
          33.17987058938889,
          33.176819653115366,
          33.173028494835314,
          32.74630982971969,
          32.7428147263958,
          32.74368913529247,
          32.742522185387095,
          32.740718002286215,
          32.30616517947248,
          32.306206321298035,
          32.30602535787068,
          32.305036826001874,
          31.869457651369466,
          31.869163662453094,
          31.869158501298035,
          31.850036522409113,
          31.888525489632865,
          31.446883473042845,
          31.849177593525905,
          31.32314636507844,
          31.36872467180481,
          31.428517873949566,
          31.366184724811937,
          31.509502903752495,
          31.30392097072442,
          30.78106985219998,
          30.722976996074998
         ],
         "lon": [
          -101.30322616432173,
          -101.2999499616907,
          -102.82842863709895,
          -101.2984166288498,
          -101.81611692970874,
          -102.8276257065968,
          -100.91639873880789,
          -100.40215975746005,
          -101.4317402958057,
          -101.94767394444229,
          -102.63513450030321,
          -101.43549623031068,
          -100.92121988280435,
          -101.9512082682286,
          -102.63772925033513,
          -101.52079350167456,
          -102.03161489264419,
          -102.54275455707821,
          -103.0481568508142,
          -100.52990196521708,
          -104.51765962331685,
          -103.57993694296557,
          -103.69312483882723,
          -102.04302638659395,
          -102.51554991838188,
          -101.52300134277702,
          -103.10244737133551,
          -100.9824134891619,
          -102.7235798337019,
          -101.41215490566947
         ],
         "marker": {
          "color": [
           "#d62728",
           "#d62728",
           "#d62728",
           "#d62728",
           "#d62728",
           "#d62728",
           "#d62728",
           "#d62728",
           "#d62728",
           "#d62728",
           "#d62728",
           "#67000d",
           "#67000d",
           "#67000d",
           "#67000d",
           "#67000d",
           "#67000d",
           "#d62728",
           "#d62728",
           "#d62728",
           "#67000d",
           "#67000d",
           "#67000d",
           "#67000d",
           "#d62728",
           "#67000d",
           "#67000d",
           "#67000d",
           "#67000d",
           "#d62728"
          ],
          "line": {
           "color": "black",
           "width": 0.5
          },
          "size": [
           6,
           1,
           65,
           2,
           1,
           9,
           7,
           3,
           2,
           4,
           34,
           78,
           2,
           79,
           16,
           17,
           88,
           6,
           13,
           1,
           22,
           54,
           82,
           21,
           56,
           7,
           30,
           6,
           30,
           2
          ],
          "sizemin": 7,
          "sizemode": "area",
          "sizeref": 0.035918367346938776
         },
         "mode": "markers",
         "name": "Permian Region",
         "text": [
          "FLOYD<br>Count: 6.0<br>Depth: 10080.0",
          "CROSBY<br>Count: 1.0<br>Depth: 4187.0",
          "COCHRAN<br>Count: 65.0<br>Depth: 11176.846153846154",
          "GARZA<br>Count: 2.0<br>Depth: 7353.5",
          "LYNN<br>Count: 1.0<br>Depth: 6595.0",
          "YOAKUM<br>Count: 9.0<br>Depth: 8151.222222222223",
          "SCURRY<br>Count: 7.0<br>Depth: 5220.285714285715",
          "FISHER<br>Count: 3.0<br>Depth: 11516.0",
          "BORDEN<br>Count: 2.0<br>Depth: 6718.0",
          "DAWSON<br>Count: 4.0<br>Depth: 7961.75",
          "GAINES<br>Count: 34.0<br>Depth: 9279.0",
          "HOWARD<br>Count: 78.0<br>Depth: 13772.102564102564",
          "MITCHELL<br>Count: 2.0<br>Depth: 21262.0",
          "MARTIN<br>Count: 79.0<br>Depth: 15242.632911392406",
          "ANDREWS<br>Count: 16.0<br>Depth: 11747.5",
          "GLASSCOCK<br>Count: 17.0<br>Depth: 16545.823529411766",
          "MIDLAND<br>Count: 88.0<br>Depth: 17022.69318181818",
          "ECTOR<br>Count: 6.0<br>Depth: 9776.166666666666",
          "WINKLER<br>Count: 13.0<br>Depth: 9490.846153846154",
          "COKE<br>Count: 1.0<br>Depth: 4600.0",
          "CULBERSON<br>Count: 22.0<br>Depth: 16720.68181818182",
          "LOVING<br>Count: 54.0<br>Depth: 15423.388888888889",
          "REEVES<br>Count: 82.0<br>Depth: 17247.01219512195",
          "UPTON<br>Count: 21.0<br>Depth: 17147.619047619046",
          "CRANE<br>Count: 56.0<br>Depth: 5194.125",
          "REAGAN<br>Count: 7.0<br>Depth: 19729.85714285714",
          "WARD<br>Count: 30.0<br>Depth: 18805.2",
          "IRION<br>Count: 6.0<br>Depth: 16408.5",
          "PECOS<br>Count: 30.0<br>Depth: 14270.666666666666",
          "CROCKETT<br>Count: 2.0<br>Depth: 5653.0"
         ],
         "type": "scattergeo"
        },
        {
         "lat": [
          36.27772064254926,
          36.27740882214887,
          36.277872229533614,
          35.84001993123012,
          35.84001974190831,
          35.83768149472372,
          35.40502444192478,
          35.403502425302975,
          35.40115324958771,
          35.401266940592386,
          34.96602348732266,
          34.96540798564612,
          34.96487743686346,
          34.96584947521485,
          34.964920710334034,
          34.53038174680658,
          34.53025816843086,
          34.529952511078655,
          34.53077417039206,
          34.52919876101057,
          34.53008241423847,
          34.29028620349664,
          34.080847521774,
          34.07408977695485,
          34.07764366319683,
          34.07050641828157,
          34.068616832482036,
          34.06852958374724,
          33.97460047521905,
          33.98798455457661,
          33.78565077952044,
          33.67569496970561,
          33.6211188199389,
          33.627579734910945,
          33.63934629454218,
          33.668586090443014,
          33.59386126955548,
          33.61647000924924,
          33.606123297607034,
          33.615246997523435,
          33.61660662304442,
          33.61648419508928,
          33.61019845860972,
          33.60763891671067,
          33.4463734693127,
          33.387197629982005,
          33.23345509830478,
          33.21587772511901,
          33.20419135130295,
          33.123591396604645,
          33.18789984286339,
          33.18140942507503,
          33.17911901220277,
          33.21640155496338,
          33.17748470511736,
          33.17669013869049,
          33.17822646607918,
          33.17380443313053,
          33.175180442660164,
          33.1496188363437,
          33.113542683999505,
          33.07764103379007,
          32.973201608867,
          32.78636034982204,
          32.75317454010157,
          32.777641394524835,
          32.77038890647459,
          32.76662571924873,
          32.89772895857808,
          32.87019135194341,
          32.73990088312261,
          32.73596791346262,
          32.73586092863707,
          32.736193369980974,
          32.79792148375388,
          32.59954335551889,
          32.563630922907606,
          32.54817057240068,
          32.375058576141576,
          32.4801474604346,
          32.42992970205286,
          32.37900663674971,
          32.34842640969714,
          32.3034830143401,
          32.301470555056184,
          32.32706957568791,
          32.23625367093707,
          32.29764999687122,
          32.10780809584437,
          32.21198312213106,
          32.046951897616005,
          32.222288757012436,
          31.990688973396338,
          31.947973448969798,
          31.900392309209607,
          31.836959307934944,
          31.827875945356148,
          31.813331102603993,
          31.773189090271572,
          31.83108583928078,
          31.77425221440482,
          31.704798025153025,
          31.704900899829283,
          31.456709982458808,
          31.768604056296173,
          31.792405703806953,
          31.552371581593412,
          31.615994347652574,
          31.545459890619966,
          31.495170448221565,
          31.390907438472937,
          31.404390946035978,
          31.29648605556999,
          31.343199462002612,
          31.317753058045913,
          31.326492099403616,
          31.254801522023918,
          31.25327490863958,
          31.198852468229138,
          31.155171125121747,
          31.196183472630825,
          31.08881893992439,
          31.027007843517662,
          31.037664824909406,
          30.78628314677712,
          30.74394882503668,
          30.792756830332802,
          30.786330472042952,
          30.71547259908971,
          30.889726690568924,
          30.89744822367759,
          30.771255016061794,
          30.73902936326563,
          30.788264913888174,
          30.717712960500293,
          30.70562813580012,
          30.648134535411298,
          30.579521453192612,
          30.543477022972873,
          30.486729390208634,
          30.498287822273046,
          29.811929371445178,
          30.225002571378155,
          29.99979496655864,
          30.300180423378503,
          30.334639821126068,
          30.33236725598527,
          30.31805041257086,
          30.266370762657914,
          30.151628025786746,
          30.10328659050891,
          30.214482448346278,
          30.058144330342234,
          29.892981250758258,
          29.98261426426911,
          30.061480383860577,
          30.12133195311486,
          30.01087843156631,
          29.883562940871577,
          29.858853621274964,
          29.94468880722018,
          29.887068018711574,
          29.831757087745533,
          29.83711630623886,
          29.808213924761212,
          29.620835220067857,
          29.74719354075345,
          29.73856002895471,
          29.583111010741067,
          29.527516504545286,
          29.449006848337877,
          29.355725226131543,
          29.277870028096824,
          29.357334484862424,
          29.350220106903947,
          29.396579829693117,
          29.19104548286703,
          29.174034971419704,
          29.082078213802134,
          28.95563224447204,
          28.86590248827791,
          28.796422702379125,
          28.74255234624389,
          28.65709577248522,
          28.48882976217114,
          28.32683114310961,
          28.134732597184428,
          28.008927882779563,
          27.681330945297063,
          27.731276324689503,
          27.72373870823909,
          27.434164349824076,
          27.04338660195355,
          27.00080074057888,
          26.92810596556412,
          27.031568362237657,
          26.562109146346792,
          26.39672156286457,
          26.470597077517333,
          26.12957340985572
         ],
         "lon": [
          -101.89344519559279,
          -101.35454777501758,
          -102.60219780151566,
          -101.35469044681673,
          -102.6028575521253,
          -101.89291437721035,
          -102.60282732918263,
          -101.35417359385328,
          -100.8125452013709,
          -101.89399463861182,
          -102.60488379787152,
          -100.81397417258535,
          -100.27004482968357,
          -101.8969372429815,
          -101.35739593362298,
          -101.7350247221378,
          -101.20858771612808,
          -102.26165780161591,
          -100.68111698852553,
          -100.20754747872057,
          -102.78443717243866,
          -99.7456946035974,
          -99.24105336122794,
          -100.77982086047041,
          -100.2787342391127,
          -101.82687204177844,
          -102.35170206195092,
          -102.8299147417849,
          -99.77798056271936,
          -98.70358668723618,
          -98.20845377301373,
          -97.72465155892371,
          -95.05035205006408,
          -96.67791112896232,
          -97.212626254085,
          -95.57076247066176,
          -96.10671506400551,
          -100.25584113541636,
          -99.74142427042798,
          -98.68764118983952,
          -100.77885213970205,
          -99.21350648700086,
          -101.8205395447552,
          -102.34319106197154,
          -94.42337730515031,
          -95.67202797787297,
          -98.17245039923583,
          -97.65439285196942,
          -97.11717829353584,
          -96.08544588379691,
          -96.57236785884932,
          -100.77756016093255,
          -100.25329724712095,
          -94.96560614616567,
          -99.2123619189936,
          -98.68775859763662,
          -99.73029230527814,
          -102.33518752251378,
          -95.2182866920834,
          -95.56393237131923,
          -94.73262933864784,
          -94.34354051007605,
          -94.97839537172585,
          -95.38210365606804,
          -98.3130138274727,
          -97.80508989432644,
          -97.29187193088983,
          -96.77786443665265,
          -96.40776266400265,
          -95.79334559278276,
          -99.87873475826531,
          -99.35405933475451,
          -98.83616448067976,
          -94.94129704150546,
          -94.35708006810341,
          -96.2878543384353,
          -95.83658100330992,
          -94.37144728709487,
          -95.26915295863716,
          -94.81709422640594,
          -97.83226418874345,
          -97.36632927385233,
          -96.79448027809359,
          -100.40604464960003,
          -99.89011620880797,
          -98.83231428079564,
          -98.217958647101,
          -99.37347997103296,
          -94.76181355745152,
          -95.85374886349808,
          -96.47244304844577,
          -97.7743360505185,
          -97.13241027257399,
          -98.55825001167706,
          -97.63432536714335,
          -95.16516480129422,
          -101.05000010240302,
          -95.6524930093844,
          -99.45362620426921,
          -99.97622732727936,
          -98.99978967087571,
          -98.11071835532962,
          -96.14904511300922,
          -105.38673020685034,
          -106.23562833677548,
          -94.14496624600979,
          -97.20178238477592,
          -94.61582865942032,
          -96.58052305052121,
          -98.59547607038803,
          -97.79919621076066,
          -100.46207232054141,
          -95.99570766132442,
          -93.8517853905912,
          -95.42266682518104,
          -99.86395429379048,
          -94.61181440504878,
          -96.93583960850992,
          -99.3474706481015,
          -98.81758705243702,
          -98.24145408811738,
          -95.13547992059776,
          -96.51280234672349,
          -97.47823100188766,
          -93.74477730545921,
          -94.02505363153081,
          -94.83000761831568,
          -96.97685815302839,
          -104.14001381793197,
          -99.82062322474266,
          -100.538539460424,
          -94.37659352190077,
          -95.57226675926387,
          -98.18246479040003,
          -99.22611647060495,
          -98.68396350704093,
          -97.60091330176097,
          -95.16690831701449,
          -95.98547910699675,
          -99.7486758209211,
          -100.53817982037206,
          -103.25173810775102,
          -102.07648866331289,
          -104.24047050916288,
          -95.50300521502905,
          -97.78181562053229,
          -94.39020914207705,
          -98.94647121472084,
          -98.39985855294927,
          -94.81219455930892,
          -97.31166267280656,
          -96.40363136109916,
          -98.03105995072238,
          -101.1517376868876,
          -100.30471663523919,
          -99.35015336471984,
          -93.89390265081626,
          -95.98770449483119,
          -94.16285314040672,
          -95.39695566790472,
          -98.71154787345102,
          -96.27797417855585,
          -99.82211086260934,
          -97.62002006688714,
          -98.27816737187167,
          -96.52627985970258,
          -99.24622128163803,
          -94.6066402822074,
          -97.94843167942089,
          -95.770899193604,
          -98.51984449062192,
          -99.11008496585262,
          -96.22210101575033,
          -99.76219761023317,
          -100.41790776063822,
          -94.96631839613138,
          -95.45545662032144,
          -98.08657157896491,
          -97.35676744781905,
          -96.57866304408121,
          -95.98564193200396,
          -96.97178090884456,
          -100.31445726229062,
          -97.42647249531413,
          -96.64649364670915,
          -97.1654536835842,
          -96.99672724366971,
          -97.51889193340712,
          -98.5088971185725,
          -98.08993843808788,
          -97.62977104725385,
          -97.7337945717022,
          -98.69729714723762,
          -99.16863313377414,
          -97.71844716037424,
          -98.21871119336454,
          -98.738389371033,
          -98.18106617364637,
          -97.67203792509119,
          -97.53207650754943
         ],
         "marker": {
          "color": [
           "#7f7f7f",
           "#7f7f7f",
           "#7f7f7f",
           "#7f7f7f",
           "#7f7f7f",
           "#7f7f7f",
           "#3f3f3f",
           "#7f7f7f",
           "#7f7f7f",
           "#3f3f3f",
           "#7f7f7f",
           "#7f7f7f",
           "#7f7f7f",
           "#7f7f7f",
           "#7f7f7f",
           "#7f7f7f",
           "#7f7f7f",
           "#7f7f7f",
           "#7f7f7f",
           "#7f7f7f",
           "#7f7f7f",
           "#7f7f7f",
           "#7f7f7f",
           "#7f7f7f",
           "#7f7f7f",
           "#7f7f7f",
           "#7f7f7f",
           "#7f7f7f",
           "#7f7f7f",
           "#7f7f7f",
           "#7f7f7f",
           "#7f7f7f",
           "#7f7f7f",
           "#7f7f7f",
           "#7f7f7f",
           "#7f7f7f",
           "#7f7f7f",
           "#7f7f7f",
           "#7f7f7f",
           "#7f7f7f",
           "#7f7f7f",
           "#7f7f7f",
           "#7f7f7f",
           "#7f7f7f",
           "#7f7f7f",
           "#7f7f7f",
           "#7f7f7f",
           "#3f3f3f",
           "#3f3f3f",
           "#7f7f7f",
           "#7f7f7f",
           "#7f7f7f",
           "#3f3f3f",
           "#7f7f7f",
           "#7f7f7f",
           "#7f7f7f",
           "#7f7f7f",
           "#7f7f7f",
           "#7f7f7f",
           "#7f7f7f",
           "#3f3f3f",
           "#3f3f3f",
           "#7f7f7f",
           "#7f7f7f",
           "#7f7f7f",
           "#7f7f7f",
           "#3f3f3f",
           "#3f3f3f",
           "#7f7f7f",
           "#7f7f7f",
           "#7f7f7f",
           "#7f7f7f",
           "#7f7f7f",
           "#7f7f7f",
           "#7f7f7f",
           "#7f7f7f",
           "#7f7f7f",
           "#7f7f7f",
           "#7f7f7f",
           "#7f7f7f",
           "#7f7f7f",
           "#7f7f7f",
           "#7f7f7f",
           "#7f7f7f",
           "#7f7f7f",
           "#7f7f7f",
           "#7f7f7f",
           "#7f7f7f",
           "#7f7f7f",
           "#7f7f7f",
           "#7f7f7f",
           "#7f7f7f",
           "#7f7f7f",
           "#7f7f7f",
           "#7f7f7f",
           "#7f7f7f",
           "#7f7f7f",
           "#7f7f7f",
           "#7f7f7f",
           "#7f7f7f",
           "#7f7f7f",
           "#7f7f7f",
           "#7f7f7f",
           "#7f7f7f",
           "#7f7f7f",
           "#7f7f7f",
           "#7f7f7f",
           "#7f7f7f",
           "#7f7f7f",
           "#7f7f7f",
           "#7f7f7f",
           "#7f7f7f",
           "#7f7f7f",
           "#7f7f7f",
           "#7f7f7f",
           "#7f7f7f",
           "#7f7f7f",
           "#7f7f7f",
           "#7f7f7f",
           "#7f7f7f",
           "#7f7f7f",
           "#7f7f7f",
           "#3f3f3f",
           "#7f7f7f",
           "#7f7f7f",
           "#7f7f7f",
           "#3f3f3f",
           "#7f7f7f",
           "#7f7f7f",
           "#7f7f7f",
           "#7f7f7f",
           "#3f3f3f",
           "#3f3f3f",
           "#7f7f7f",
           "#7f7f7f",
           "#7f7f7f",
           "#7f7f7f",
           "#7f7f7f",
           "#7f7f7f",
           "#7f7f7f",
           "#7f7f7f",
           "#7f7f7f",
           "#7f7f7f",
           "#7f7f7f",
           "#7f7f7f",
           "#7f7f7f",
           "#7f7f7f",
           "#7f7f7f",
           "#7f7f7f",
           "#7f7f7f",
           "#7f7f7f",
           "#3f3f3f",
           "#7f7f7f",
           "#7f7f7f",
           "#7f7f7f",
           "#7f7f7f",
           "#7f7f7f",
           "#7f7f7f",
           "#7f7f7f",
           "#7f7f7f",
           "#7f7f7f",
           "#7f7f7f",
           "#7f7f7f",
           "#7f7f7f",
           "#7f7f7f",
           "#7f7f7f",
           "#7f7f7f",
           "#7f7f7f",
           "#7f7f7f",
           "#7f7f7f",
           "#7f7f7f",
           "#7f7f7f",
           "#7f7f7f",
           "#7f7f7f",
           "#7f7f7f",
           "#7f7f7f",
           "#7f7f7f",
           "#7f7f7f",
           "#7f7f7f",
           "#7f7f7f",
           "#7f7f7f",
           "#7f7f7f",
           "#7f7f7f",
           "#7f7f7f",
           "#7f7f7f",
           "#7f7f7f",
           "#7f7f7f",
           "#7f7f7f",
           "#7f7f7f",
           "#7f7f7f",
           "#7f7f7f",
           "#7f7f7f",
           "#7f7f7f",
           "#7f7f7f",
           "#7f7f7f",
           "#7f7f7f",
           "#7f7f7f",
           "#7f7f7f",
           "#7f7f7f",
           "#7f7f7f"
          ],
          "line": {
           "color": "black",
           "width": 0.5
          },
          "size": [
           1,
           6,
           0,
           9,
           2,
           4,
           4,
           0,
           0,
           14,
           0,
           0,
           0,
           0,
           0,
           0,
           0,
           0,
           0,
           0,
           0,
           11,
           27,
           0,
           1,
           0,
           0,
           0,
           1,
           29,
           3,
           1,
           0,
           0,
           5,
           0,
           0,
           0,
           4,
           18,
           0,
           0,
           0,
           0,
           0,
           0,
           16,
           8,
           1,
           0,
           0,
           0,
           2,
           0,
           2,
           13,
           0,
           0,
           0,
           0,
           2,
           1,
           0,
           0,
           1,
           0,
           30,
           10,
           0,
           0,
           2,
           0,
           0,
           0,
           0,
           0,
           0,
           0,
           0,
           0,
           0,
           0,
           0,
           0,
           0,
           0,
           0,
           0,
           0,
           0,
           0,
           0,
           0,
           0,
           0,
           0,
           0,
           4,
           0,
           2,
           0,
           0,
           0,
           0,
           0,
           0,
           0,
           0,
           0,
           0,
           0,
           0,
           0,
           0,
           0,
           0,
           0,
           0,
           0,
           0,
           0,
           0,
           1,
           0,
           0,
           0,
           1,
           0,
           0,
           0,
           0,
           2,
           2,
           0,
           0,
           0,
           0,
           0,
           0,
           0,
           0,
           0,
           0,
           0,
           0,
           0,
           0,
           0,
           0,
           0,
           0,
           8,
           0,
           0,
           0,
           0,
           0,
           0,
           0,
           0,
           0,
           0,
           0,
           0,
           0,
           1,
           0,
           3,
           0,
           0,
           0,
           0,
           0,
           0,
           0,
           0,
           0,
           0,
           0,
           0,
           0,
           5,
           0,
           0,
           0,
           0,
           0,
           0,
           2,
           0,
           0,
           0,
           0,
           0,
           0,
           0,
           0,
           0,
           0,
           0
          ],
          "sizemin": 7,
          "sizemode": "area",
          "sizeref": 0.035918367346938776
         },
         "mode": "markers",
         "name": "Unknown",
         "text": [
          "SHERMAN<br>Count: 1.0<br>Depth: 3350.0",
          "HANSFORD<br>Count: 6.0<br>Depth: 10244.0",
          null,
          "HUTCHINSON<br>Count: 9.0<br>Depth: 3251.6666666666665",
          "HARTLEY<br>Count: 2.0<br>Depth: 6480.0",
          "MOORE<br>Count: 4.0<br>Depth: 2468.5",
          "OLDHAM<br>Count: 4.0<br>Depth: 13183.5",
          null,
          null,
          "POTTER<br>Count: 14.0<br>Depth: 15059.857142857143",
          null,
          null,
          null,
          null,
          null,
          null,
          null,
          null,
          null,
          null,
          null,
          "HARDEMAN<br>Count: 11.0<br>Depth: 9449.0",
          "WILBARGER<br>Count: 27.0<br>Depth: 3597.4444444444443",
          null,
          "COTTLE<br>Count: 1.0<br>Depth: 3676.0",
          null,
          null,
          null,
          "FOARD<br>Count: 1.0<br>Depth: 5024.0",
          "WICHITA<br>Count: 29.0<br>Depth: 2807.4827586206898",
          "CLAY<br>Count: 3.0<br>Depth: 5033.0",
          "MONTAGUE<br>Count: 1.0<br>Depth: 3500.0",
          null,
          null,
          "COOKE<br>Count: 5.0<br>Depth: 2251.6",
          null,
          null,
          null,
          "KNOX<br>Count: 4.0<br>Depth: 2117.0",
          "ARCHER<br>Count: 18.0<br>Depth: 4506.333333333333",
          null,
          null,
          null,
          null,
          null,
          null,
          "JACK<br>Count: 16.0<br>Depth: 4740.1875",
          "WISE<br>Count: 8.0<br>Depth: 14551.125",
          "DENTON<br>Count: 1.0<br>Depth: 16288.0",
          null,
          null,
          null,
          "STONEWALL<br>Count: 2.0<br>Depth: 15874.0",
          null,
          "THROCKMORTON<br>Count: 2.0<br>Depth: 2917.0",
          "YOUNG<br>Count: 13.0<br>Depth: 2731.5384615384614",
          null,
          null,
          null,
          null,
          "MORRIS<br>Count: 2.0<br>Depth: 12134.0",
          "CASS<br>Count: 1.0<br>Depth: 12102.0",
          null,
          null,
          "PALO PINTO<br>Count: 1.0<br>Depth: 5377.0",
          null,
          "TARRANT<br>Count: 30.0<br>Depth: 14989.233333333334",
          "DALLAS<br>Count: 10.0<br>Depth: 14930.0",
          null,
          null,
          "JONES<br>Count: 2.0<br>Depth: 5069.0",
          null,
          null,
          null,
          null,
          null,
          null,
          null,
          null,
          null,
          null,
          null,
          null,
          null,
          null,
          null,
          null,
          null,
          null,
          null,
          null,
          null,
          null,
          null,
          null,
          null,
          null,
          "ANDERSON<br>Count: 4.0<br>Depth: 10703.0",
          null,
          "RUNNELS<br>Count: 2.0<br>Depth: 4789.0",
          null,
          null,
          null,
          null,
          null,
          null,
          null,
          null,
          null,
          null,
          null,
          null,
          null,
          null,
          null,
          null,
          null,
          null,
          null,
          null,
          null,
          null,
          "ROBERTSON<br>Count: 1.0<br>Depth: 21471.0",
          null,
          null,
          null,
          "POLK<br>Count: 1.0<br>Depth: 19967.0",
          null,
          null,
          null,
          null,
          "TYLER<br>Count: 2.0<br>Depth: 14880.5",
          "WALKER<br>Count: 2.0<br>Depth: 11752.5",
          null,
          null,
          null,
          null,
          null,
          null,
          null,
          null,
          null,
          null,
          null,
          null,
          null,
          null,
          null,
          null,
          null,
          null,
          "WASHINGTON<br>Count: 8.0<br>Depth: 18244.875",
          null,
          null,
          null,
          null,
          null,
          null,
          null,
          null,
          null,
          null,
          null,
          null,
          null,
          "COLORADO<br>Count: 1.0<br>Depth: 10750.0",
          null,
          "CHAMBERS<br>Count: 3.0<br>Depth: 1935.0",
          null,
          null,
          null,
          null,
          null,
          null,
          null,
          null,
          null,
          null,
          null,
          null,
          null,
          "VICTORIA<br>Count: 5.0<br>Depth: 5486.0",
          null,
          null,
          null,
          null,
          null,
          null,
          "DUVAL<br>Count: 2.0<br>Depth: 5899.0",
          null,
          null,
          null,
          null,
          null,
          null,
          null,
          null,
          null,
          null,
          null
         ],
         "type": "scattergeo"
        }
       ],
       "layout": {
        "geo": {
         "center": {
          "lat": 31,
          "lon": -100
         },
         "lataxis": {
          "range": [
           25,
           37
          ]
         },
         "lonaxis": {
          "range": [
           -107,
           -93
          ]
         },
         "scope": "usa"
        },
        "legend": {
         "title": {
          "text": "Production Basin"
         }
        },
        "margin": {
         "b": 0,
         "l": 0,
         "r": 0,
         "t": 50
        },
        "template": {
         "data": {
          "bar": [
           {
            "error_x": {
             "color": "#2a3f5f"
            },
            "error_y": {
             "color": "#2a3f5f"
            },
            "marker": {
             "line": {
              "color": "#E5ECF6",
              "width": 0.5
             },
             "pattern": {
              "fillmode": "overlay",
              "size": 10,
              "solidity": 0.2
             }
            },
            "type": "bar"
           }
          ],
          "barpolar": [
           {
            "marker": {
             "line": {
              "color": "#E5ECF6",
              "width": 0.5
             },
             "pattern": {
              "fillmode": "overlay",
              "size": 10,
              "solidity": 0.2
             }
            },
            "type": "barpolar"
           }
          ],
          "carpet": [
           {
            "aaxis": {
             "endlinecolor": "#2a3f5f",
             "gridcolor": "white",
             "linecolor": "white",
             "minorgridcolor": "white",
             "startlinecolor": "#2a3f5f"
            },
            "baxis": {
             "endlinecolor": "#2a3f5f",
             "gridcolor": "white",
             "linecolor": "white",
             "minorgridcolor": "white",
             "startlinecolor": "#2a3f5f"
            },
            "type": "carpet"
           }
          ],
          "choropleth": [
           {
            "colorbar": {
             "outlinewidth": 0,
             "ticks": ""
            },
            "type": "choropleth"
           }
          ],
          "contour": [
           {
            "colorbar": {
             "outlinewidth": 0,
             "ticks": ""
            },
            "colorscale": [
             [
              0,
              "#0d0887"
             ],
             [
              0.1111111111111111,
              "#46039f"
             ],
             [
              0.2222222222222222,
              "#7201a8"
             ],
             [
              0.3333333333333333,
              "#9c179e"
             ],
             [
              0.4444444444444444,
              "#bd3786"
             ],
             [
              0.5555555555555556,
              "#d8576b"
             ],
             [
              0.6666666666666666,
              "#ed7953"
             ],
             [
              0.7777777777777778,
              "#fb9f3a"
             ],
             [
              0.8888888888888888,
              "#fdca26"
             ],
             [
              1,
              "#f0f921"
             ]
            ],
            "type": "contour"
           }
          ],
          "contourcarpet": [
           {
            "colorbar": {
             "outlinewidth": 0,
             "ticks": ""
            },
            "type": "contourcarpet"
           }
          ],
          "heatmap": [
           {
            "colorbar": {
             "outlinewidth": 0,
             "ticks": ""
            },
            "colorscale": [
             [
              0,
              "#0d0887"
             ],
             [
              0.1111111111111111,
              "#46039f"
             ],
             [
              0.2222222222222222,
              "#7201a8"
             ],
             [
              0.3333333333333333,
              "#9c179e"
             ],
             [
              0.4444444444444444,
              "#bd3786"
             ],
             [
              0.5555555555555556,
              "#d8576b"
             ],
             [
              0.6666666666666666,
              "#ed7953"
             ],
             [
              0.7777777777777778,
              "#fb9f3a"
             ],
             [
              0.8888888888888888,
              "#fdca26"
             ],
             [
              1,
              "#f0f921"
             ]
            ],
            "type": "heatmap"
           }
          ],
          "heatmapgl": [
           {
            "colorbar": {
             "outlinewidth": 0,
             "ticks": ""
            },
            "colorscale": [
             [
              0,
              "#0d0887"
             ],
             [
              0.1111111111111111,
              "#46039f"
             ],
             [
              0.2222222222222222,
              "#7201a8"
             ],
             [
              0.3333333333333333,
              "#9c179e"
             ],
             [
              0.4444444444444444,
              "#bd3786"
             ],
             [
              0.5555555555555556,
              "#d8576b"
             ],
             [
              0.6666666666666666,
              "#ed7953"
             ],
             [
              0.7777777777777778,
              "#fb9f3a"
             ],
             [
              0.8888888888888888,
              "#fdca26"
             ],
             [
              1,
              "#f0f921"
             ]
            ],
            "type": "heatmapgl"
           }
          ],
          "histogram": [
           {
            "marker": {
             "pattern": {
              "fillmode": "overlay",
              "size": 10,
              "solidity": 0.2
             }
            },
            "type": "histogram"
           }
          ],
          "histogram2d": [
           {
            "colorbar": {
             "outlinewidth": 0,
             "ticks": ""
            },
            "colorscale": [
             [
              0,
              "#0d0887"
             ],
             [
              0.1111111111111111,
              "#46039f"
             ],
             [
              0.2222222222222222,
              "#7201a8"
             ],
             [
              0.3333333333333333,
              "#9c179e"
             ],
             [
              0.4444444444444444,
              "#bd3786"
             ],
             [
              0.5555555555555556,
              "#d8576b"
             ],
             [
              0.6666666666666666,
              "#ed7953"
             ],
             [
              0.7777777777777778,
              "#fb9f3a"
             ],
             [
              0.8888888888888888,
              "#fdca26"
             ],
             [
              1,
              "#f0f921"
             ]
            ],
            "type": "histogram2d"
           }
          ],
          "histogram2dcontour": [
           {
            "colorbar": {
             "outlinewidth": 0,
             "ticks": ""
            },
            "colorscale": [
             [
              0,
              "#0d0887"
             ],
             [
              0.1111111111111111,
              "#46039f"
             ],
             [
              0.2222222222222222,
              "#7201a8"
             ],
             [
              0.3333333333333333,
              "#9c179e"
             ],
             [
              0.4444444444444444,
              "#bd3786"
             ],
             [
              0.5555555555555556,
              "#d8576b"
             ],
             [
              0.6666666666666666,
              "#ed7953"
             ],
             [
              0.7777777777777778,
              "#fb9f3a"
             ],
             [
              0.8888888888888888,
              "#fdca26"
             ],
             [
              1,
              "#f0f921"
             ]
            ],
            "type": "histogram2dcontour"
           }
          ],
          "mesh3d": [
           {
            "colorbar": {
             "outlinewidth": 0,
             "ticks": ""
            },
            "type": "mesh3d"
           }
          ],
          "parcoords": [
           {
            "line": {
             "colorbar": {
              "outlinewidth": 0,
              "ticks": ""
             }
            },
            "type": "parcoords"
           }
          ],
          "pie": [
           {
            "automargin": true,
            "type": "pie"
           }
          ],
          "scatter": [
           {
            "fillpattern": {
             "fillmode": "overlay",
             "size": 10,
             "solidity": 0.2
            },
            "type": "scatter"
           }
          ],
          "scatter3d": [
           {
            "line": {
             "colorbar": {
              "outlinewidth": 0,
              "ticks": ""
             }
            },
            "marker": {
             "colorbar": {
              "outlinewidth": 0,
              "ticks": ""
             }
            },
            "type": "scatter3d"
           }
          ],
          "scattercarpet": [
           {
            "marker": {
             "colorbar": {
              "outlinewidth": 0,
              "ticks": ""
             }
            },
            "type": "scattercarpet"
           }
          ],
          "scattergeo": [
           {
            "marker": {
             "colorbar": {
              "outlinewidth": 0,
              "ticks": ""
             }
            },
            "type": "scattergeo"
           }
          ],
          "scattergl": [
           {
            "marker": {
             "colorbar": {
              "outlinewidth": 0,
              "ticks": ""
             }
            },
            "type": "scattergl"
           }
          ],
          "scattermapbox": [
           {
            "marker": {
             "colorbar": {
              "outlinewidth": 0,
              "ticks": ""
             }
            },
            "type": "scattermapbox"
           }
          ],
          "scatterpolar": [
           {
            "marker": {
             "colorbar": {
              "outlinewidth": 0,
              "ticks": ""
             }
            },
            "type": "scatterpolar"
           }
          ],
          "scatterpolargl": [
           {
            "marker": {
             "colorbar": {
              "outlinewidth": 0,
              "ticks": ""
             }
            },
            "type": "scatterpolargl"
           }
          ],
          "scatterternary": [
           {
            "marker": {
             "colorbar": {
              "outlinewidth": 0,
              "ticks": ""
             }
            },
            "type": "scatterternary"
           }
          ],
          "surface": [
           {
            "colorbar": {
             "outlinewidth": 0,
             "ticks": ""
            },
            "colorscale": [
             [
              0,
              "#0d0887"
             ],
             [
              0.1111111111111111,
              "#46039f"
             ],
             [
              0.2222222222222222,
              "#7201a8"
             ],
             [
              0.3333333333333333,
              "#9c179e"
             ],
             [
              0.4444444444444444,
              "#bd3786"
             ],
             [
              0.5555555555555556,
              "#d8576b"
             ],
             [
              0.6666666666666666,
              "#ed7953"
             ],
             [
              0.7777777777777778,
              "#fb9f3a"
             ],
             [
              0.8888888888888888,
              "#fdca26"
             ],
             [
              1,
              "#f0f921"
             ]
            ],
            "type": "surface"
           }
          ],
          "table": [
           {
            "cells": {
             "fill": {
              "color": "#EBF0F8"
             },
             "line": {
              "color": "white"
             }
            },
            "header": {
             "fill": {
              "color": "#C8D4E3"
             },
             "line": {
              "color": "white"
             }
            },
            "type": "table"
           }
          ]
         },
         "layout": {
          "annotationdefaults": {
           "arrowcolor": "#2a3f5f",
           "arrowhead": 0,
           "arrowwidth": 1
          },
          "autotypenumbers": "strict",
          "coloraxis": {
           "colorbar": {
            "outlinewidth": 0,
            "ticks": ""
           }
          },
          "colorscale": {
           "diverging": [
            [
             0,
             "#8e0152"
            ],
            [
             0.1,
             "#c51b7d"
            ],
            [
             0.2,
             "#de77ae"
            ],
            [
             0.3,
             "#f1b6da"
            ],
            [
             0.4,
             "#fde0ef"
            ],
            [
             0.5,
             "#f7f7f7"
            ],
            [
             0.6,
             "#e6f5d0"
            ],
            [
             0.7,
             "#b8e186"
            ],
            [
             0.8,
             "#7fbc41"
            ],
            [
             0.9,
             "#4d9221"
            ],
            [
             1,
             "#276419"
            ]
           ],
           "sequential": [
            [
             0,
             "#0d0887"
            ],
            [
             0.1111111111111111,
             "#46039f"
            ],
            [
             0.2222222222222222,
             "#7201a8"
            ],
            [
             0.3333333333333333,
             "#9c179e"
            ],
            [
             0.4444444444444444,
             "#bd3786"
            ],
            [
             0.5555555555555556,
             "#d8576b"
            ],
            [
             0.6666666666666666,
             "#ed7953"
            ],
            [
             0.7777777777777778,
             "#fb9f3a"
            ],
            [
             0.8888888888888888,
             "#fdca26"
            ],
            [
             1,
             "#f0f921"
            ]
           ],
           "sequentialminus": [
            [
             0,
             "#0d0887"
            ],
            [
             0.1111111111111111,
             "#46039f"
            ],
            [
             0.2222222222222222,
             "#7201a8"
            ],
            [
             0.3333333333333333,
             "#9c179e"
            ],
            [
             0.4444444444444444,
             "#bd3786"
            ],
            [
             0.5555555555555556,
             "#d8576b"
            ],
            [
             0.6666666666666666,
             "#ed7953"
            ],
            [
             0.7777777777777778,
             "#fb9f3a"
            ],
            [
             0.8888888888888888,
             "#fdca26"
            ],
            [
             1,
             "#f0f921"
            ]
           ]
          },
          "colorway": [
           "#636efa",
           "#EF553B",
           "#00cc96",
           "#ab63fa",
           "#FFA15A",
           "#19d3f3",
           "#FF6692",
           "#B6E880",
           "#FF97FF",
           "#FECB52"
          ],
          "font": {
           "color": "#2a3f5f"
          },
          "geo": {
           "bgcolor": "white",
           "lakecolor": "white",
           "landcolor": "#E5ECF6",
           "showlakes": true,
           "showland": true,
           "subunitcolor": "white"
          },
          "hoverlabel": {
           "align": "left"
          },
          "hovermode": "closest",
          "mapbox": {
           "style": "light"
          },
          "paper_bgcolor": "white",
          "plot_bgcolor": "#E5ECF6",
          "polar": {
           "angularaxis": {
            "gridcolor": "white",
            "linecolor": "white",
            "ticks": ""
           },
           "bgcolor": "#E5ECF6",
           "radialaxis": {
            "gridcolor": "white",
            "linecolor": "white",
            "ticks": ""
           }
          },
          "scene": {
           "xaxis": {
            "backgroundcolor": "#E5ECF6",
            "gridcolor": "white",
            "gridwidth": 2,
            "linecolor": "white",
            "showbackground": true,
            "ticks": "",
            "zerolinecolor": "white"
           },
           "yaxis": {
            "backgroundcolor": "#E5ECF6",
            "gridcolor": "white",
            "gridwidth": 2,
            "linecolor": "white",
            "showbackground": true,
            "ticks": "",
            "zerolinecolor": "white"
           },
           "zaxis": {
            "backgroundcolor": "#E5ECF6",
            "gridcolor": "white",
            "gridwidth": 2,
            "linecolor": "white",
            "showbackground": true,
            "ticks": "",
            "zerolinecolor": "white"
           }
          },
          "shapedefaults": {
           "line": {
            "color": "#2a3f5f"
           }
          },
          "ternary": {
           "aaxis": {
            "gridcolor": "white",
            "linecolor": "white",
            "ticks": ""
           },
           "baxis": {
            "gridcolor": "white",
            "linecolor": "white",
            "ticks": ""
           },
           "bgcolor": "#E5ECF6",
           "caxis": {
            "gridcolor": "white",
            "linecolor": "white",
            "ticks": ""
           }
          },
          "title": {
           "x": 0.05
          },
          "xaxis": {
           "automargin": true,
           "gridcolor": "white",
           "linecolor": "white",
           "ticks": "",
           "title": {
            "standoff": 15
           },
           "zerolinecolor": "white",
           "zerolinewidth": 2
          },
          "yaxis": {
           "automargin": true,
           "gridcolor": "white",
           "linecolor": "white",
           "ticks": "",
           "title": {
            "standoff": 15
           },
           "zerolinecolor": "white",
           "zerolinewidth": 2
          }
         }
        },
        "title": {
         "text": "Texas Counties: Well Density (Size), Production Basin & Depth (Color)"
        }
       }
      }
     },
     "metadata": {},
     "output_type": "display_data"
    }
   ],
   "source": [
    "import plotly.graph_objects as go\n",
    "\n",
    "# 8. 깊이 정규화 (0~1 사이로 색상 강도에 사용)\n",
    "depth_min = map_data['County_Avg_Depth'].min()\n",
    "depth_max = map_data['County_Avg_Depth'].max()\n",
    "if depth_max > depth_min:\n",
    "    map_data['depth_normalized'] = (map_data['County_Avg_Depth'] - depth_min) / (depth_max - depth_min)\n",
    "else:\n",
    "    map_data['depth_normalized'] = 1.0\n",
    "\n",
    "# 9. 병합 결과 확인\n",
    "print(\"병합 결과 상위 5행:\")\n",
    "print(map_data[['COUNTY', 'County Name', 'County_Count', 'County_Avg_Depth', 'Region', 'depth_normalized', 'lat', 'lon']].head())\n",
    "\n",
    "# 10. 버블 지도 그리기\n",
    "fig = go.Figure()\n",
    "\n",
    "# Region별 색상 팔레트 \n",
    "region_colors = {\n",
    "    'Eagle Ford Region': ['#1f77b4', '#08306b'],  # 파랑 계열 (밝음 → 어두움)\n",
    "    'Anadarko Region': ['#ff7f0e', '#7f3b08'],   # 주황 계열\n",
    "    'Haynesville Region': ['#2ca02c', '#0c4011'], # 초록 계열\n",
    "    'Permian Region': ['#d62728', '#67000d'],     # 빨강 계열\n",
    "    'Unknown': ['#7f7f7f', '#3f3f3f']            # 회색 계열\n",
    "}\n",
    "\n",
    "# 각 Region별로 데이터 분리 후 플롯\n",
    "for region, (light_color, dark_color) in region_colors.items():\n",
    "    region_data = map_data[map_data['Region'] == region]\n",
    "    if not region_data.empty:\n",
    "        # 깊이에 따라 색상 보간\n",
    "        colors = [light_color if d < 0.5 else dark_color for d in region_data['depth_normalized']]\n",
    "        fig.add_trace(\n",
    "            go.Scattergeo(\n",
    "                lat=region_data['lat'],\n",
    "                lon=region_data['lon'],\n",
    "                text=region_data['County Name'] + '<br>Count: ' + region_data['County_Count'].astype(str) + '<br>Depth: ' + region_data['County_Avg_Depth'].astype(str),\n",
    "                mode='markers',\n",
    "                marker=dict(\n",
    "                    size=region_data['County_Count'],\n",
    "                    sizemode='area',\n",
    "                    sizeref=2. * max(map_data['County_Count']) / (70.**2),  # 원래 크기 유지\n",
    "                    sizemin=7,\n",
    "                    color=colors,  # 깊이에 따른 색상 변화\n",
    "                    line=dict(width=0.5, color='black')\n",
    "                ),\n",
    "                name=region\n",
    "            )\n",
    "        )\n",
    "\n",
    "# 지도 레이아웃 설정\n",
    "fig.update_geos(\n",
    "    scope='usa',\n",
    "    lataxis_range=[25, 37],\n",
    "    lonaxis_range=[-107, -93],\n",
    "    center={'lat': 31.0, 'lon': -100.0}\n",
    ")\n",
    "fig.update_layout(\n",
    "    title='Texas Counties: Well Density (Size), Production Basin & Depth (Color)',\n",
    "    margin={\"r\":0, \"t\":50, \"l\":0, \"b\":0},\n",
    "    legend_title_text='Production Basin'\n",
    ")\n",
    "\n",
    "fig.show()"
   ]
  },
  {
   "cell_type": "code",
   "execution_count": null,
   "metadata": {},
   "outputs": [],
   "source": []
  }
 ],
 "metadata": {
  "kernelspec": {
   "display_name": "base",
   "language": "python",
   "name": "python3"
  },
  "language_info": {
   "codemirror_mode": {
    "name": "ipython",
    "version": 3
   },
   "file_extension": ".py",
   "mimetype": "text/x-python",
   "name": "python",
   "nbconvert_exporter": "python",
   "pygments_lexer": "ipython3",
   "version": "3.12.7"
  }
 },
 "nbformat": 4,
 "nbformat_minor": 2
}
