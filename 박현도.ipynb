{
 "cells": [
  {
   "cell_type": "code",
   "execution_count": 26,
   "metadata": {},
   "outputs": [
    {
     "name": "stdout",
     "output_type": "stream",
     "text": [
      "<class 'pandas.core.frame.DataFrame'>\n",
      "RangeIndex: 1239 entries, 0 to 1238\n",
      "Data columns (total 23 columns):\n",
      " #   Column                 Non-Null Count  Dtype  \n",
      "---  ------                 --------------  -----  \n",
      " 0   District               1239 non-null   object \n",
      " 1   API Number             1239 non-null   int64  \n",
      " 2   Field Name             1198 non-null   object \n",
      " 3   Field Number           1198 non-null   float64\n",
      " 4   Lease/Gas ID           1235 non-null   float64\n",
      " 5   Lease Name             1239 non-null   object \n",
      " 6   Well Number            1200 non-null   object \n",
      " 7   Operator Name          1239 non-null   object \n",
      " 8   County Name            1239 non-null   object \n",
      " 9   County Number          1239 non-null   int64  \n",
      " 10  Survey Name            1239 non-null   object \n",
      " 11  Survey Section Number  956 non-null    float64\n",
      " 12  Alternate Survey Name  0 non-null      float64\n",
      " 13  Abstract Number        1190 non-null   object \n",
      " 14  Block                  782 non-null    object \n",
      " 15  O/G/D code             1239 non-null   object \n",
      " 16  Top Log Interval       1239 non-null   int64  \n",
      " 17  Bottom Total Depth     1239 non-null   int64  \n",
      " 18  Document Date          1239 non-null   object \n",
      " 19  Image Size             1239 non-null   object \n",
      " 20  Scan Date              1239 non-null   object \n",
      " 21  Log Description        1239 non-null   object \n",
      " 22  Image path             1239 non-null   object \n",
      "dtypes: float64(4), int64(4), object(15)\n",
      "memory usage: 222.8+ KB\n"
     ]
    }
   ],
   "source": [
    "import pandas as pd\n",
    "\n",
    "df_01 = pd.read_excel('텍사스주_우물정보_25_02.xls', sheet_name= '01')\n",
    "df_02 = pd.read_excel('텍사스주_우물정보_25_02.xls', sheet_name= '02')\n",
    "df_03 = pd.read_excel('텍사스주_우물정보_25_02.xls', sheet_name= '03')\n",
    "df_04 = pd.read_excel('텍사스주_우물정보_25_02.xls', sheet_name= '04')\n",
    "df_05 = pd.read_excel('텍사스주_우물정보_25_02.xls', sheet_name= '05')\n",
    "df_06 = pd.read_excel('텍사스주_우물정보_25_02.xls', sheet_name= '06')\n",
    "df_08 = pd.read_excel('텍사스주_우물정보_25_02.xls', sheet_name= '08')\n",
    "df_09 = pd.read_excel('텍사스주_우물정보_25_02.xls', sheet_name= '09')\n",
    "df_10 = pd.read_excel('텍사스주_우물정보_25_02.xls', sheet_name= '10')\n",
    "df_11 = pd.read_excel('텍사스주_우물정보_25_02.xls', sheet_name= '7B')\n",
    "df_12 = pd.read_excel('텍사스주_우물정보_25_02.xls', sheet_name= '7C')\n",
    "df_13 = pd.read_excel('텍사스주_우물정보_25_02.xls', sheet_name= '8A')\n",
    "\n",
    "# Combine all the dataframes into one\n",
    "df = pd.concat([df_01, df_02, df_03, df_04, df_05, df_06, df_08, df_09, df_10, df_11, df_12, df_13], ignore_index=True)\n",
    "\n",
    "df.info()\n"
   ]
  },
  {
   "cell_type": "code",
   "execution_count": null,
   "metadata": {
    "vscode": {
     "languageId": "ini"
    }
   },
   "outputs": [
    {
     "data": {
      "application/vnd.microsoft.datawrangler.viewer.v0+json": {
       "columns": [
        {
         "name": "index",
         "rawType": "int64",
         "type": "integer"
        },
        {
         "name": "API Number",
         "rawType": "int64",
         "type": "integer"
        },
        {
         "name": "County Name",
         "rawType": "object",
         "type": "string"
        },
        {
         "name": "County Number",
         "rawType": "int64",
         "type": "integer"
        },
        {
         "name": "Bottom Total Depth",
         "rawType": "int64",
         "type": "integer"
        }
       ],
       "conversionMethod": "pd.DataFrame",
       "ref": "29f30662-5b95-49e4-8926-e7a8fee9346c",
       "rows": [
        [
         "0",
         "1335890",
         "ATASCOSA",
         "13",
         "17409"
        ],
        [
         "1",
         "47944500",
         "WEBB",
         "479",
         "20012"
        ],
        [
         "2",
         "47944499",
         "WEBB",
         "479",
         "19340"
        ],
        [
         "3",
         "12738440",
         "DIMMIT",
         "127",
         "17485"
        ],
        [
         "4",
         "12738426",
         "DIMMIT",
         "127",
         "15622"
        ]
       ],
       "shape": {
        "columns": 4,
        "rows": 5
       }
      },
      "text/html": [
       "<div>\n",
       "<style scoped>\n",
       "    .dataframe tbody tr th:only-of-type {\n",
       "        vertical-align: middle;\n",
       "    }\n",
       "\n",
       "    .dataframe tbody tr th {\n",
       "        vertical-align: top;\n",
       "    }\n",
       "\n",
       "    .dataframe thead th {\n",
       "        text-align: right;\n",
       "    }\n",
       "</style>\n",
       "<table border=\"1\" class=\"dataframe\">\n",
       "  <thead>\n",
       "    <tr style=\"text-align: right;\">\n",
       "      <th></th>\n",
       "      <th>API Number</th>\n",
       "      <th>County Name</th>\n",
       "      <th>County Number</th>\n",
       "      <th>Bottom Total Depth</th>\n",
       "    </tr>\n",
       "  </thead>\n",
       "  <tbody>\n",
       "    <tr>\n",
       "      <th>0</th>\n",
       "      <td>1335890</td>\n",
       "      <td>ATASCOSA</td>\n",
       "      <td>13</td>\n",
       "      <td>17409</td>\n",
       "    </tr>\n",
       "    <tr>\n",
       "      <th>1</th>\n",
       "      <td>47944500</td>\n",
       "      <td>WEBB</td>\n",
       "      <td>479</td>\n",
       "      <td>20012</td>\n",
       "    </tr>\n",
       "    <tr>\n",
       "      <th>2</th>\n",
       "      <td>47944499</td>\n",
       "      <td>WEBB</td>\n",
       "      <td>479</td>\n",
       "      <td>19340</td>\n",
       "    </tr>\n",
       "    <tr>\n",
       "      <th>3</th>\n",
       "      <td>12738440</td>\n",
       "      <td>DIMMIT</td>\n",
       "      <td>127</td>\n",
       "      <td>17485</td>\n",
       "    </tr>\n",
       "    <tr>\n",
       "      <th>4</th>\n",
       "      <td>12738426</td>\n",
       "      <td>DIMMIT</td>\n",
       "      <td>127</td>\n",
       "      <td>15622</td>\n",
       "    </tr>\n",
       "  </tbody>\n",
       "</table>\n",
       "</div>"
      ],
      "text/plain": [
       "   API Number County Name  County Number  Bottom Total Depth\n",
       "0     1335890    ATASCOSA             13               17409\n",
       "1    47944500        WEBB            479               20012\n",
       "2    47944499        WEBB            479               19340\n",
       "3    12738440      DIMMIT            127               17485\n",
       "4    12738426      DIMMIT            127               15622"
      ]
     },
     "execution_count": 6,
     "metadata": {},
     "output_type": "execute_result"
    }
   ],
   "source": [
    "# 데이터 열 고르기\n",
    "selected_columns = df[['API Number', 'County Name', 'County Number', 'Bottom Total Depth']]\n",
    "selected_columns.head()"
   ]
  },
  {
   "cell_type": "code",
   "execution_count": 27,
   "metadata": {},
   "outputs": [
    {
     "data": {
      "text/plain": [
       "County Name\n",
       "MIDLAND       88\n",
       "REEVES        82\n",
       "MARTIN        79\n",
       "HOWARD        78\n",
       "COCHRAN       65\n",
       "              ..\n",
       "PALO PINTO     1\n",
       "DENTON         1\n",
       "COTTLE         1\n",
       "FOARD          1\n",
       "CROSBY         1\n",
       "Name: count, Length: 95, dtype: int64"
      ]
     },
     "execution_count": 27,
     "metadata": {},
     "output_type": "execute_result"
    }
   ],
   "source": [
    "# county 값 갯수 카운트\n",
    "selected_columns['County Name'].value_counts()"
   ]
  },
  {
   "cell_type": "code",
   "execution_count": 29,
   "metadata": {},
   "outputs": [
    {
     "data": {
      "application/vnd.microsoft.datawrangler.viewer.v0+json": {
       "columns": [
        {
         "name": "index",
         "rawType": "int64",
         "type": "integer"
        },
        {
         "name": "API Number",
         "rawType": "int64",
         "type": "integer"
        },
        {
         "name": "County Name",
         "rawType": "object",
         "type": "string"
        },
        {
         "name": "County Number",
         "rawType": "int64",
         "type": "integer"
        },
        {
         "name": "Bottom Total Depth",
         "rawType": "int64",
         "type": "integer"
        }
       ],
       "conversionMethod": "pd.DataFrame",
       "ref": "aea725fd-eb16-4e70-80d7-f8ce0c51cfe5",
       "rows": [
        [
         "193",
         "132842",
         "ANDERSON",
         "1",
         "12064"
        ],
        [
         "194",
         "132842",
         "ANDERSON",
         "1",
         "12064"
        ],
        [
         "191",
         "132854",
         "ANDERSON",
         "1",
         "9342"
        ],
        [
         "192",
         "132854",
         "ANDERSON",
         "1",
         "9342"
        ],
        [
         "734",
         "348418",
         "ANDREWS",
         "3",
         "20419"
        ]
       ],
       "shape": {
        "columns": 4,
        "rows": 5
       }
      },
      "text/html": [
       "<div>\n",
       "<style scoped>\n",
       "    .dataframe tbody tr th:only-of-type {\n",
       "        vertical-align: middle;\n",
       "    }\n",
       "\n",
       "    .dataframe tbody tr th {\n",
       "        vertical-align: top;\n",
       "    }\n",
       "\n",
       "    .dataframe thead th {\n",
       "        text-align: right;\n",
       "    }\n",
       "</style>\n",
       "<table border=\"1\" class=\"dataframe\">\n",
       "  <thead>\n",
       "    <tr style=\"text-align: right;\">\n",
       "      <th></th>\n",
       "      <th>API Number</th>\n",
       "      <th>County Name</th>\n",
       "      <th>County Number</th>\n",
       "      <th>Bottom Total Depth</th>\n",
       "    </tr>\n",
       "  </thead>\n",
       "  <tbody>\n",
       "    <tr>\n",
       "      <th>193</th>\n",
       "      <td>132842</td>\n",
       "      <td>ANDERSON</td>\n",
       "      <td>1</td>\n",
       "      <td>12064</td>\n",
       "    </tr>\n",
       "    <tr>\n",
       "      <th>194</th>\n",
       "      <td>132842</td>\n",
       "      <td>ANDERSON</td>\n",
       "      <td>1</td>\n",
       "      <td>12064</td>\n",
       "    </tr>\n",
       "    <tr>\n",
       "      <th>191</th>\n",
       "      <td>132854</td>\n",
       "      <td>ANDERSON</td>\n",
       "      <td>1</td>\n",
       "      <td>9342</td>\n",
       "    </tr>\n",
       "    <tr>\n",
       "      <th>192</th>\n",
       "      <td>132854</td>\n",
       "      <td>ANDERSON</td>\n",
       "      <td>1</td>\n",
       "      <td>9342</td>\n",
       "    </tr>\n",
       "    <tr>\n",
       "      <th>734</th>\n",
       "      <td>348418</td>\n",
       "      <td>ANDREWS</td>\n",
       "      <td>3</td>\n",
       "      <td>20419</td>\n",
       "    </tr>\n",
       "  </tbody>\n",
       "</table>\n",
       "</div>"
      ],
      "text/plain": [
       "     API Number County Name  County Number  Bottom Total Depth\n",
       "193      132842    ANDERSON              1               12064\n",
       "194      132842    ANDERSON              1               12064\n",
       "191      132854    ANDERSON              1                9342\n",
       "192      132854    ANDERSON              1                9342\n",
       "734      348418     ANDREWS              3               20419"
      ]
     },
     "execution_count": 29,
     "metadata": {},
     "output_type": "execute_result"
    }
   ],
   "source": [
    "# county 기준으로 내림차순 정렬\n",
    "sorted_selected_columns = selected_columns.sort_values(by=['County Name', 'Bottom Total Depth'], ascending=[True, False])\n",
    "sorted_selected_columns.head()\n"
   ]
  },
  {
   "cell_type": "code",
   "execution_count": null,
   "metadata": {},
   "outputs": [
    {
     "data": {
      "text/plain": [
       "County Name\n",
       "ANDERSON    10703.000000\n",
       "ANDREWS     11747.500000\n",
       "ARCHER       4506.333333\n",
       "ATASCOSA    17589.714286\n",
       "BEE         23334.000000\n",
       "                ...     \n",
       "WINKLER      9490.846154\n",
       "WISE        14551.125000\n",
       "YOAKUM       8151.222222\n",
       "YOUNG        2731.538462\n",
       "ZAVALA       1855.000000\n",
       "Name: Bottom Total Depth, Length: 95, dtype: float64"
      ]
     },
     "execution_count": 30,
     "metadata": {},
     "output_type": "execute_result"
    }
   ],
   "source": [
    "# county 마다 평균 깊이\n",
    "county_avg_depth = sorted_selected_columns.groupby('County Name')['Bottom Total Depth'].mean()\n",
    "county_avg_depth"
   ]
  },
  {
   "cell_type": "code",
   "execution_count": null,
   "metadata": {
    "vscode": {
     "languageId": "ini"
    }
   },
   "outputs": [
    {
     "data": {
      "application/vnd.microsoft.datawrangler.viewer.v0+json": {
       "columns": [
        {
         "name": "index",
         "rawType": "int64",
         "type": "integer"
        },
        {
         "name": "County Name",
         "rawType": "object",
         "type": "string"
        },
        {
         "name": "County Number",
         "rawType": "int64",
         "type": "integer"
        },
        {
         "name": "County_Count",
         "rawType": "int64",
         "type": "integer"
        },
        {
         "name": "County_Avg_Depth",
         "rawType": "float64",
         "type": "float"
        }
       ],
       "conversionMethod": "pd.DataFrame",
       "ref": "59dd7f97-88d8-4431-a554-e4657c5e6f0e",
       "rows": [
        [
         "0",
         "ANDERSON",
         "1",
         "4",
         "10703.0"
        ],
        [
         "1",
         "ANDREWS",
         "3",
         "16",
         "11747.5"
        ],
        [
         "2",
         "ARCHER",
         "9",
         "18",
         "4506.333333333333"
        ],
        [
         "3",
         "ATASCOSA",
         "13",
         "14",
         "17589.714285714286"
        ],
        [
         "4",
         "BEE",
         "25",
         "2",
         "23334.0"
        ],
        [
         "5",
         "BORDEN",
         "33",
         "2",
         "6718.0"
        ],
        [
         "6",
         "BRAZOS",
         "41",
         "10",
         "17872.2"
        ],
        [
         "7",
         "BURLESON",
         "51",
         "3",
         "18307.666666666668"
        ],
        [
         "8",
         "CASS",
         "67",
         "1",
         "12102.0"
        ],
        [
         "9",
         "CHAMBERS",
         "71",
         "3",
         "1935.0"
        ],
        [
         "10",
         "CLAY",
         "77",
         "3",
         "5033.0"
        ],
        [
         "11",
         "COCHRAN",
         "79",
         "65",
         "11176.846153846154"
        ],
        [
         "12",
         "COKE",
         "81",
         "1",
         "4600.0"
        ],
        [
         "13",
         "COLORADO",
         "89",
         "1",
         "10750.0"
        ],
        [
         "14",
         "COOKE",
         "97",
         "5",
         "2251.6"
        ],
        [
         "15",
         "COTTLE",
         "101",
         "1",
         "3676.0"
        ],
        [
         "16",
         "CRANE",
         "103",
         "56",
         "5194.125"
        ],
        [
         "17",
         "CROCKETT",
         "105",
         "2",
         "5653.0"
        ],
        [
         "18",
         "CROSBY",
         "107",
         "1",
         "4187.0"
        ],
        [
         "19",
         "CULBERSON",
         "109",
         "22",
         "16720.68181818182"
        ],
        [
         "20",
         "DALLAS",
         "113",
         "10",
         "14930.0"
        ],
        [
         "21",
         "DAWSON",
         "115",
         "4",
         "7961.75"
        ],
        [
         "22",
         "DE WITT",
         "123",
         "8",
         "16917.25"
        ],
        [
         "23",
         "DENTON",
         "121",
         "1",
         "16288.0"
        ],
        [
         "24",
         "DIMMIT",
         "127",
         "6",
         "16480.5"
        ],
        [
         "25",
         "DUVAL",
         "131",
         "2",
         "5899.0"
        ],
        [
         "26",
         "ECTOR",
         "135",
         "6",
         "9776.166666666666"
        ],
        [
         "27",
         "FAYETTE",
         "149",
         "2",
         "19951.0"
        ],
        [
         "28",
         "FISHER",
         "151",
         "3",
         "11516.0"
        ],
        [
         "29",
         "FLOYD",
         "153",
         "6",
         "10080.0"
        ],
        [
         "30",
         "FOARD",
         "155",
         "1",
         "5024.0"
        ],
        [
         "31",
         "FRIO",
         "163",
         "16",
         "18987.1875"
        ],
        [
         "32",
         "GAINES",
         "165",
         "34",
         "9279.0"
        ],
        [
         "33",
         "GARZA",
         "169",
         "2",
         "7353.5"
        ],
        [
         "34",
         "GLASSCOCK",
         "173",
         "17",
         "16545.823529411766"
        ],
        [
         "35",
         "GONZALES",
         "177",
         "11",
         "19920.81818181818"
        ],
        [
         "36",
         "HANSFORD",
         "195",
         "6",
         "10244.0"
        ],
        [
         "37",
         "HARDEMAN",
         "197",
         "11",
         "9449.0"
        ],
        [
         "38",
         "HARTLEY",
         "205",
         "2",
         "6480.0"
        ],
        [
         "39",
         "HEMPHILL",
         "211",
         "20",
         "16581.25"
        ],
        [
         "40",
         "HOWARD",
         "227",
         "78",
         "13772.102564102564"
        ],
        [
         "41",
         "HUTCHINSON",
         "233",
         "9",
         "3251.6666666666665"
        ],
        [
         "42",
         "IRION",
         "235",
         "6",
         "16408.5"
        ],
        [
         "43",
         "JACK",
         "237",
         "16",
         "4740.1875"
        ],
        [
         "44",
         "JONES",
         "253",
         "2",
         "5069.0"
        ],
        [
         "45",
         "KARNES",
         "255",
         "39",
         "19536.897435897437"
        ],
        [
         "46",
         "KNOX",
         "275",
         "4",
         "2117.0"
        ],
        [
         "47",
         "LA SALLE",
         "283",
         "8",
         "20597.75"
        ],
        [
         "48",
         "LAVACA",
         "285",
         "6",
         "17763.0"
        ],
        [
         "49",
         "LEE",
         "287",
         "3",
         "16503.666666666668"
        ]
       ],
       "shape": {
        "columns": 4,
        "rows": 95
       }
      },
      "text/html": [
       "<div>\n",
       "<style scoped>\n",
       "    .dataframe tbody tr th:only-of-type {\n",
       "        vertical-align: middle;\n",
       "    }\n",
       "\n",
       "    .dataframe tbody tr th {\n",
       "        vertical-align: top;\n",
       "    }\n",
       "\n",
       "    .dataframe thead th {\n",
       "        text-align: right;\n",
       "    }\n",
       "</style>\n",
       "<table border=\"1\" class=\"dataframe\">\n",
       "  <thead>\n",
       "    <tr style=\"text-align: right;\">\n",
       "      <th></th>\n",
       "      <th>County Name</th>\n",
       "      <th>County Number</th>\n",
       "      <th>County_Count</th>\n",
       "      <th>County_Avg_Depth</th>\n",
       "    </tr>\n",
       "  </thead>\n",
       "  <tbody>\n",
       "    <tr>\n",
       "      <th>0</th>\n",
       "      <td>ANDERSON</td>\n",
       "      <td>1</td>\n",
       "      <td>4</td>\n",
       "      <td>10703.000000</td>\n",
       "    </tr>\n",
       "    <tr>\n",
       "      <th>1</th>\n",
       "      <td>ANDREWS</td>\n",
       "      <td>3</td>\n",
       "      <td>16</td>\n",
       "      <td>11747.500000</td>\n",
       "    </tr>\n",
       "    <tr>\n",
       "      <th>2</th>\n",
       "      <td>ARCHER</td>\n",
       "      <td>9</td>\n",
       "      <td>18</td>\n",
       "      <td>4506.333333</td>\n",
       "    </tr>\n",
       "    <tr>\n",
       "      <th>3</th>\n",
       "      <td>ATASCOSA</td>\n",
       "      <td>13</td>\n",
       "      <td>14</td>\n",
       "      <td>17589.714286</td>\n",
       "    </tr>\n",
       "    <tr>\n",
       "      <th>4</th>\n",
       "      <td>BEE</td>\n",
       "      <td>25</td>\n",
       "      <td>2</td>\n",
       "      <td>23334.000000</td>\n",
       "    </tr>\n",
       "    <tr>\n",
       "      <th>...</th>\n",
       "      <td>...</td>\n",
       "      <td>...</td>\n",
       "      <td>...</td>\n",
       "      <td>...</td>\n",
       "    </tr>\n",
       "    <tr>\n",
       "      <th>90</th>\n",
       "      <td>WINKLER</td>\n",
       "      <td>495</td>\n",
       "      <td>13</td>\n",
       "      <td>9490.846154</td>\n",
       "    </tr>\n",
       "    <tr>\n",
       "      <th>91</th>\n",
       "      <td>WISE</td>\n",
       "      <td>497</td>\n",
       "      <td>8</td>\n",
       "      <td>14551.125000</td>\n",
       "    </tr>\n",
       "    <tr>\n",
       "      <th>92</th>\n",
       "      <td>YOAKUM</td>\n",
       "      <td>501</td>\n",
       "      <td>9</td>\n",
       "      <td>8151.222222</td>\n",
       "    </tr>\n",
       "    <tr>\n",
       "      <th>93</th>\n",
       "      <td>YOUNG</td>\n",
       "      <td>503</td>\n",
       "      <td>13</td>\n",
       "      <td>2731.538462</td>\n",
       "    </tr>\n",
       "    <tr>\n",
       "      <th>94</th>\n",
       "      <td>ZAVALA</td>\n",
       "      <td>507</td>\n",
       "      <td>2</td>\n",
       "      <td>1855.000000</td>\n",
       "    </tr>\n",
       "  </tbody>\n",
       "</table>\n",
       "<p>95 rows × 4 columns</p>\n",
       "</div>"
      ],
      "text/plain": [
       "   County Name  County Number  County_Count  County_Avg_Depth\n",
       "0     ANDERSON              1             4      10703.000000\n",
       "1      ANDREWS              3            16      11747.500000\n",
       "2       ARCHER              9            18       4506.333333\n",
       "3     ATASCOSA             13            14      17589.714286\n",
       "4          BEE             25             2      23334.000000\n",
       "..         ...            ...           ...               ...\n",
       "90     WINKLER            495            13       9490.846154\n",
       "91        WISE            497             8      14551.125000\n",
       "92      YOAKUM            501             9       8151.222222\n",
       "93       YOUNG            503            13       2731.538462\n",
       "94      ZAVALA            507             2       1855.000000\n",
       "\n",
       "[95 rows x 4 columns]"
      ]
     },
     "execution_count": 31,
     "metadata": {},
     "output_type": "execute_result"
    }
   ],
   "source": [
    "# county 별 갯수와 평균 깊이를 계산(최종 데이터 프레임)\n",
    "county_stats = sorted_selected_columns.groupby(['County Name', 'County Number']).agg(\n",
    "    County_Count=('County Name', 'size'),\n",
    "    County_Avg_Depth=('Bottom Total Depth', 'mean')\n",
    ").reset_index()\n",
    "\n",
    "county_stats"
   ]
  },
  {
   "cell_type": "code",
   "execution_count": null,
   "metadata": {},
   "outputs": [],
   "source": []
  }
 ],
 "metadata": {
  "kernelspec": {
   "display_name": "base",
   "language": "python",
   "name": "python3"
  },
  "language_info": {
   "codemirror_mode": {
    "name": "ipython",
    "version": 3
   },
   "file_extension": ".py",
   "mimetype": "text/x-python",
   "name": "python",
   "nbconvert_exporter": "python",
   "pygments_lexer": "ipython3",
   "version": "3.12.7"
  }
 },
 "nbformat": 4,
 "nbformat_minor": 2
}
