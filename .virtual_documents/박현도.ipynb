import pandas as pd

df_01 = pd.read_excel('텍사스주_우물정보_25_02.xls', sheet_name= '01')
df_02 = pd.read_excel('텍사스주_우물정보_25_02.xls', sheet_name= '02')
df_03 = pd.read_excel('텍사스주_우물정보_25_02.xls', sheet_name= '03')
df_04 = pd.read_excel('텍사스주_우물정보_25_02.xls', sheet_name= '04')
df_05 = pd.read_excel('텍사스주_우물정보_25_02.xls', sheet_name= '05')
df_06 = pd.read_excel('텍사스주_우물정보_25_02.xls', sheet_name= '06')
df_08 = pd.read_excel('텍사스주_우물정보_25_02.xls', sheet_name= '08')
df_09 = pd.read_excel('텍사스주_우물정보_25_02.xls', sheet_name= '09')
df_10 = pd.read_excel('텍사스주_우물정보_25_02.xls', sheet_name= '10')
df_11 = pd.read_excel('텍사스주_우물정보_25_02.xls', sheet_name= '7B')
df_12 = pd.read_excel('텍사스주_우물정보_25_02.xls', sheet_name= '7C')
df_13 = pd.read_excel('텍사스주_우물정보_25_02.xls', sheet_name= '8A')

# Combine all the dataframes into one
df = pd.concat([df_01, df_02, df_03, df_04, df_05, df_06, df_08, df_09, df_10, df_11, df_12, df_13], ignore_index=True)

df.info()



# 데이터 열 고르기
selected_columns = df[['API Number', 'County Name', 'County Number', 'Bottom Total Depth']]
selected_columns.head()


# county 값 갯수 카운트
selected_columns['County Name'].value_counts()


# county 기준으로 내림차순 정렬
sorted_selected_columns = selected_columns.sort_values(by=['County Name', 'Bottom Total Depth'], ascending=[True, False])
sorted_selected_columns.head()



# county 마다 평균 깊이
county_avg_depth = sorted_selected_columns.groupby('County Name')['Bottom Total Depth'].mean()



# county 별 갯수와 평균 깊이를 계산(최종 데이터 프레임)
county_stats = sorted_selected_columns.groupby(['County Name', 'County Number']).agg(
    County_Count=('County Name', 'size'),
    County_Avg_Depth=('Bottom Total Depth', 'mean')
).reset_index()

county_c_a = county_stats[['County Name', 'County_Count', 'County_Avg_Depth']]
 
county_c_a


county_c_a = county_stats[['County Name', 'County_Count', 'County_Avg_Depth']]
 
county_c_a


import geopandas as gpd
import plotly.express as px


county_c_a.loc[county_c_a['County Name'] == 'SAN AUGUSTINE', 'County_Avg_Depth'] = 21420
county_c_a


print(county_c_a['County Name'].head())

county_c_a['County Name'] = county_c_a['County Name'].str.upper()


texas_counties = gpd.read_file('tx_counties.geojson')  

# 3. 중심점 계산
texas_counties['centroid'] = texas_counties.geometry.centroid
texas_counties['lat'] = texas_counties['centroid'].y
texas_counties['lon'] = texas_counties['centroid'].x

# 4. GeoJSON의 COUNTY 이름 조정
# "Sherman County" -> "SHERMAN"으로 변환 (대문자)
texas_counties['COUNTY'] = texas_counties['COUNTY'].str.replace(' County', '').str.upper()

# 병합
map_data = texas_counties.merge(county_c_a, how='left', left_on='COUNTY', right_on='County Name')

# 5. NaN 값 처리
map_data['County_Count'] = map_data['County_Count'].fillna(0)
map_data['County_Avg_Depth'] = map_data['County_Avg_Depth'].fillna(0)

# 6. 병합 결과 확인
print("병합 결과 상위 5행:")
print(map_data[['COUNTY', 'County Name', 'County_Count', 'County_Avg_Depth', 'lat', 'lon']].head())


# 7. 버블 지도 그리기
fig = px.scatter_geo(
    map_data,
    lat='lat',
    lon='lon',
    size='County_Count',  # 우물 개수 -> 원 크기
    color='County_Avg_Depth',  # 평균 깊이 -> 원 색상
    hover_name='County Name',  # 툴팁에 카운티 이름
    hover_data={'County_Count': True, 'County_Avg_Depth': True, 'lat': False, 'lon': False},
    color_continuous_scale='Reds',
    size_max=50,
    scope='usa',
    center={'lat': 31.0, 'lon': -100.0},  # 텍사스 중심
    title='Texas Counties: Well Density (Size) and Average Depth (Color)'
)

fig.update_geos(
    visible=True,
    lataxis_range=[25, 37],
    lonaxis_range=[-107, -93]
)
fig.update_layout(
    margin={"r":0,"t":50,"l":0,"b":0}
)

fig.show()


# county 별 분지
basin_data = pd.read_excel('생산분지.xlsx', sheet_name= 'RegionCounties')

basin_data.head()




# 카운티랑 생산분지만 뽑음
filtered_basin_data = basin_data[basin_data['State'] == 'TX'][['County', 'Region']]
filtered_basin_data


texas_counties = gpd.read_file('tx_counties.geojson')  # 실제 경로로 대체

# 3. 중심점 계산
texas_counties['centroid'] = texas_counties.geometry.centroid
texas_counties['lat'] = texas_counties['centroid'].y
texas_counties['lon'] = texas_counties['centroid'].x

# 4. GeoJSON의 COUNTY 이름 조정 (대문자)
texas_counties['COUNTY'] = texas_counties['COUNTY'].str.replace(' County', '').str.upper()

# 5. county_c_a와 GeoJSON 병합 (geometry 유지)
map_data = texas_counties.merge(county_c_a, how='left', left_on='COUNTY', right_on='County Name')

# 6. filtered_basin_data 병합
# 예: filtered_basin_data = pd.DataFrame({'County': ['HARRIS', 'BEXAR'], 'Region': ['Gulf Coast', 'Permian']})
map_data = map_data.merge(filtered_basin_data, how='left', left_on='County Name', right_on='County')

# 7. NaN 값 처리
map_data['County_Count'] = map_data['County_Count'].fillna(0)
map_data['County_Avg_Depth'] = map_data['County_Avg_Depth'].fillna(0)
map_data['Region'] = map_data['Region'].fillna('Unknown')

# 8. 병합 결과 확인
print("병합 결과 상위 5행:")
print(map_data[['COUNTY', 'County Name', 'County', 'County_Count', 'County_Avg_Depth', 'Region', 'lat', 'lon']].head())

# 9. GeoDataFrame 확인 (필요 시)
print("map_data 타입:", type(map_data))


import plotly.graph_objects as go

# 8. 깊이 정규화 (0~1 사이로 색상 강도에 사용)
depth_min = map_data['County_Avg_Depth'].min()
depth_max = map_data['County_Avg_Depth'].max()
if depth_max > depth_min:
    map_data['depth_normalized'] = (map_data['County_Avg_Depth'] - depth_min) / (depth_max - depth_min)
else:
    map_data['depth_normalized'] = 1.0

# 9. 병합 결과 확인
print("병합 결과 상위 5행:")
print(map_data[['COUNTY', 'County Name', 'County_Count', 'County_Avg_Depth', 'Region', 'depth_normalized', 'lat', 'lon']].head())

# 10. 버블 지도 그리기
fig = go.Figure()

# Region별 색상 팔레트 
region_colors = {
    'Eagle Ford Region': ['#1f77b4', '#08306b'],  # 파랑 계열 (밝음 → 어두움)
    'Anadarko Region': ['#ff7f0e', '#7f3b08'],   # 주황 계열
    'Haynesville Region': ['#2ca02c', '#0c4011'], # 초록 계열
    'Permian Region': ['#d62728', '#67000d'],     # 빨강 계열
    'Unknown': ['#7f7f7f', '#3f3f3f']            # 회색 계열
}

# 각 Region별로 데이터 분리 후 플롯
for region, (light_color, dark_color) in region_colors.items():
    region_data = map_data[map_data['Region'] == region]
    if not region_data.empty:
        # 깊이에 따라 색상 보간
        colors = [light_color if d < 0.5 else dark_color for d in region_data['depth_normalized']]
        fig.add_trace(
            go.Scattergeo(
                lat=region_data['lat'],
                lon=region_data['lon'],
                text=region_data['County Name'] + '<br>Count: ' + region_data['County_Count'].astype(str) + '<br>Depth: ' + region_data['County_Avg_Depth'].astype(str),
                mode='markers',
                marker=dict(
                    size=region_data['County_Count'],
                    sizemode='area',
                    sizeref=2. * max(map_data['County_Count']) / (70.**2),  # 원래 크기 유지
                    sizemin=7,
                    color=colors,  # 깊이에 따른 색상 변화
                    line=dict(width=0.5, color='black')
                ),
                name=region
            )
        )

# 지도 레이아웃 설정
fig.update_geos(
    scope='usa',
    lataxis_range=[25, 37],
    lonaxis_range=[-107, -93],
    center={'lat': 31.0, 'lon': -100.0}
)
fig.update_layout(
    title='Texas Counties: Well Density (Size), Production Basin & Depth (Color)',
    margin={"r":0, "t":50, "l":0, "b":0},
    legend_title_text='Production Basin'
)

fig.show()



