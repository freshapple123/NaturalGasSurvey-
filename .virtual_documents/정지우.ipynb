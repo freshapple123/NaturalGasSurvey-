


import pandas as pd


!pip install xlrd



df = pd.read_excel('지역별매장량.xls', sheet_name= 'Data 1', header = 2)

print(df.columns)
time_column = 'Date'
df[time_column] = pd.to_datetime(df[time_column])  # 시간 열을 datetime 형식으로 변환
df_date = df.set_index(time_column)  # 여기서 에러가 발생하지 않도록 문자열로 전달

# 결과 확인
print(df_date.head())


df


df_date = df_date.loc['2023-06-30']


print(df_date)



# 딕셔너리로 변환
df = pd.DataFrame(list(df_date.items()), columns=["State", "Storage Capacity"])

# 'State' 컬럼에서 주 이름만 추출 (첫 번째 항목만 특별 처리)
df['State'] = df['State'].apply(lambda x: "U.S. Total" if "U.S. Total" in x else x.split()[0])

# 출력 결과 확인
print(df)


!pip install folium geopandas


import folium
import json

geojson_file = "map.geojson"
with open(geojson_file, 'r') as f:
    geo_data = json.load(f)

# 맵 생성
m = folium.Map(location=[37.0902, -95.7129], zoom_start=4)

# Choropleth 맵 추가
folium.Choropleth(
    geo_data=geo_data,
    name="choropleth",
    data=[(f["properties"]["name"], f["properties"]["density"]) for f in geo_data["features"]],
    columns=["name", "density"],
    key_on="feature.properties.name",
    fill_color="YlOrRd",  # 색상 스케일 (Yellow-Orange-Red)
    fill_opacity=0.7,
    line_opacity=0.2,
    legend_name="Population Density"
).add_to(m)

# 맵 표시
m


import folium
import json
import pandas as pd

# GeoJSON 파일 읽기
geojson_file = "map.geojson"
with open(geojson_file, 'r') as f:
    geo_data = json.load(f)

# GeoJSON 파일에 데이터 추가 (State 이름을 기준으로)
for feature in geo_data["features"]:
    state_name = feature["properties"]["name"]
    if state_name in df["State"].values:
        # Storage Capacity 값을 GeoJSON의 속성에 추가
        feature["properties"]["storage_capacity"] = df[df["State"] == state_name]["Storage Capacity"].values[0]

# GeoJSON 파일에 저장된 데이터 확인
# GeoJSON 데이터의 첫 번째 항목을 출력하여 저장된 값을 확인
print(geo_data["features"][0]["properties"])

# 맵 생성
m = folium.Map(location=[37.0902, -95.7129], zoom_start=4)

# Choropleth 맵 추가
folium.Choropleth(
    geo_data=geo_data,
    name="choropleth",
    data=[(f["properties"]["name"], f["properties"].get("storage_capacity", 0)) for f in geo_data["features"]],
    columns=["name", "storage_capacity"],
    key_on="feature.properties.name",
    fill_color="YlOrRd",  # 색상 스케일 (Yellow-Orange-Red)
    fill_opacity=0.7,
    line_opacity=0.2,
    legend_name="Storage Capacity"
).add_to(m)

# 맵 표시
m






df = pd.read_excel('텍사스주_우물정보_25_02.xls')
df


# 엑셀 파일 경로
file_path = '텍사스주_우물정보_25_02.xls'

# 첫 번째부터 8번째 시트까지 불러와서 리스트로 저장
sheets = pd.read_excel(file_path, sheet_name=None)  # 모든 시트를 딕셔너리 형태로 불러옴
sheet_list = list(sheets.keys())[:13]  # 첫 번째부터 8번째 시트 이름 가져오기

# 모든 시트를 하나의 DataFrame으로 합치기
df = pd.concat([sheets[sheet] for sheet in sheet_list], ignore_index=True)

# 확인
df.head()


df.tail(5)


# 원하는 변수(컬럼)만 추출
df_selected = df[['County Name', 'Bottom Total Depth']]

# 앞부분과 뒷부분 데이터 확인
print(df_selected.head())  # 처음 5개 행
print(df_selected.tail())  # 마지막 5개 행



# 'Count' 추가 (County Name 기준 그룹화)
df_grouped = df_selected.groupby('County Name', as_index=False).agg(
    Count=('Bottom Total Depth', 'count'),  # 같은 County Name의 개수
    Bottom_Total_Depth=('Bottom Total Depth', 'mean')  # 같은 County Name의 평균
)

# 확인
print(df_grouped.head())  # 처음 5개
print(df_grouped.tail())  # 마지막 5개






import pandas as pd

# 특정 시트만 로드 (2번째 행을 컬럼명으로 설정)
sheets = ["Anadarko Region", "Eagle Ford Region", "Haynesville Region", "Permian Region"]
df_dict = pd.read_excel('생산분지.xlsx', sheet_name=sheets, header=1)  # header=1로 설정

# 각 시트에 'Region' 컬럼 추가
for region in df_dict:
    df_dict[region]['Region'] = region  # 시트 이름을 'Region' 컬럼에 추가

# 모든 시트를 하나의 데이터프레임으로 합치기
df = pd.concat(df_dict.values(), ignore_index=True)

# 'Month', 'Total production', 'Region' 컬럼만 선택
df_mon_pro = df[['Month', 'Total production', 'Region']]
df_mon_pro


import pandas as pd
import matplotlib.pyplot as plt

# 특정 시트만 로드 (2번째 행을 컬럼명으로 설정)
sheets = ["Anadarko Region", "Eagle Ford Region", "Haynesville Region", "Permian Region"]
df_dict = pd.read_excel('생산분지.xlsx', sheet_name=sheets, header=1)  # header=1로 설정

# 각 시트에 'Region' 컬럼 추가
for region in df_dict:
    df_dict[region]['Region'] = region  # 시트 이름을 'Region' 컬럼에 추가

# 모든 시트를 하나의 데이터프레임으로 합치기
df = pd.concat(df_dict.values(), ignore_index=True)

# 'Month', 'Total production', 'Region' 컬럼만 선택
df_mon_pro = df[['Month', 'Total production', 'Region']]

# 'Month'를 datetime 형식으로 변환 (필요 시)
df_mon_pro.loc[:, 'Month'] = pd.to_datetime(df_mon_pro['Month'], format='%Y-%m')

# 각 지역별로 그래프 그리기
plt.figure(figsize=(10, 6))

# 각 지역에 대해 선 그래프 그리기
for region in df_mon_pro['Region'].unique():
    region_data = df_mon_pro[df_mon_pro['Region'] == region]
    plt.plot(region_data['Month'], region_data['Total production'], label=region)

# 그래프 제목 및 축 레이블 설정
plt.title('Total Production by Region')
plt.xlabel('Month')
plt.ylabel('Total Production')

# 범례 추가
plt.legend()

# 그래프 표시
plt.xticks(rotation=45)  # x축 날짜 라벨 회전
plt.tight_layout()  # 레이아웃 조정
plt.show()




