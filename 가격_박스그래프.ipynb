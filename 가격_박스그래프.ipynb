{
 "cells": [
  {
   "cell_type": "code",
   "execution_count": 1,
   "metadata": {},
   "outputs": [],
   "source": [
    "import pandas as pd"
   ]
  },
  {
   "cell_type": "code",
   "execution_count": 2,
   "metadata": {},
   "outputs": [
    {
     "name": "stdout",
     "output_type": "stream",
     "text": [
      "Index(['Date', 'Henry Hub Natural Gas Spot Price (Dollars per Million Btu)'], dtype='object')\n",
      "            Henry Hub Natural Gas Spot Price (Dollars per Million Btu)\n",
      "Date                                                                  \n",
      "1997-01-15                                               3.45         \n",
      "1997-02-15                                               2.15         \n",
      "1997-03-15                                               1.89         \n",
      "1997-04-15                                               2.03         \n",
      "1997-05-15                                               2.25         \n"
     ]
    }
   ],
   "source": [
    "df = pd.read_excel('RNGWHHDm.xls', sheet_name= 'Data 1', header = 2)\n",
    "\n",
    "print(df.columns)\n",
    "time_column = 'Date'\n",
    "df[time_column] = pd.to_datetime(df[time_column])  # 시간 열을 datetime 형식으로 변환\n",
    "df_date = df.set_index(time_column)  # 여기서 에러가 발생하지 않도록 문자열로 전달\n",
    "\n",
    "# 결과 확인\n",
    "print(df_date.head())"
   ]
  },
  {
   "cell_type": "code",
   "execution_count": 9,
   "metadata": {},
   "outputs": [
    {
     "data": {
      "application/vnd.plotly.v1+json": {
       "config": {
        "plotlyServerURL": "https://plot.ly"
       },
       "data": [
        {
         "alignmentgroup": "True",
         "boxpoints": "all",
         "hovertemplate": "Half-Year Period=%{x}<br>Price (USD/MMBtu)=%{y}<extra></extra>",
         "legendgroup": "2007-H1",
         "marker": {
          "color": "#636efa"
         },
         "name": "2007-H1",
         "notched": false,
         "offsetgroup": "2007-H1",
         "orientation": "v",
         "showlegend": true,
         "type": "box",
         "x": [
          "2007-H1",
          "2007-H1",
          "2007-H1",
          "2007-H1",
          "2007-H1",
          "2007-H1"
         ],
         "x0": " ",
         "xaxis": "x",
         "y": [
          6.55,
          8,
          7.11,
          7.6,
          7.64,
          7.35
         ],
         "y0": " ",
         "yaxis": "y"
        },
        {
         "alignmentgroup": "True",
         "boxpoints": "all",
         "hovertemplate": "Half-Year Period=%{x}<br>Price (USD/MMBtu)=%{y}<extra></extra>",
         "legendgroup": "2007-H2",
         "marker": {
          "color": "#EF553B"
         },
         "name": "2007-H2",
         "notched": false,
         "offsetgroup": "2007-H2",
         "orientation": "v",
         "showlegend": true,
         "type": "box",
         "x": [
          "2007-H2",
          "2007-H2",
          "2007-H2",
          "2007-H2",
          "2007-H2",
          "2007-H2"
         ],
         "x0": " ",
         "xaxis": "x",
         "y": [
          6.22,
          6.22,
          6.08,
          6.74,
          7.1,
          7.11
         ],
         "y0": " ",
         "yaxis": "y"
        },
        {
         "alignmentgroup": "True",
         "boxpoints": "all",
         "hovertemplate": "Half-Year Period=%{x}<br>Price (USD/MMBtu)=%{y}<extra></extra>",
         "legendgroup": "2008-H1",
         "marker": {
          "color": "#00cc96"
         },
         "name": "2008-H1",
         "notched": false,
         "offsetgroup": "2008-H1",
         "orientation": "v",
         "showlegend": true,
         "type": "box",
         "x": [
          "2008-H1",
          "2008-H1",
          "2008-H1",
          "2008-H1",
          "2008-H1",
          "2008-H1"
         ],
         "x0": " ",
         "xaxis": "x",
         "y": [
          7.99,
          8.54,
          9.41,
          10.18,
          11.27,
          12.69
         ],
         "y0": " ",
         "yaxis": "y"
        },
        {
         "alignmentgroup": "True",
         "boxpoints": "all",
         "hovertemplate": "Half-Year Period=%{x}<br>Price (USD/MMBtu)=%{y}<extra></extra>",
         "legendgroup": "2008-H2",
         "marker": {
          "color": "#ab63fa"
         },
         "name": "2008-H2",
         "notched": false,
         "offsetgroup": "2008-H2",
         "orientation": "v",
         "showlegend": true,
         "type": "box",
         "x": [
          "2008-H2",
          "2008-H2",
          "2008-H2",
          "2008-H2",
          "2008-H2",
          "2008-H2"
         ],
         "x0": " ",
         "xaxis": "x",
         "y": [
          11.09,
          8.26,
          7.67,
          6.74,
          6.68,
          5.82
         ],
         "y0": " ",
         "yaxis": "y"
        },
        {
         "alignmentgroup": "True",
         "boxpoints": "all",
         "hovertemplate": "Half-Year Period=%{x}<br>Price (USD/MMBtu)=%{y}<extra></extra>",
         "legendgroup": "2009-H1",
         "marker": {
          "color": "#FFA15A"
         },
         "name": "2009-H1",
         "notched": false,
         "offsetgroup": "2009-H1",
         "orientation": "v",
         "showlegend": true,
         "type": "box",
         "x": [
          "2009-H1",
          "2009-H1",
          "2009-H1",
          "2009-H1",
          "2009-H1",
          "2009-H1"
         ],
         "x0": " ",
         "xaxis": "x",
         "y": [
          5.24,
          4.52,
          3.96,
          3.5,
          3.83,
          3.8
         ],
         "y0": " ",
         "yaxis": "y"
        },
        {
         "alignmentgroup": "True",
         "boxpoints": "all",
         "hovertemplate": "Half-Year Period=%{x}<br>Price (USD/MMBtu)=%{y}<extra></extra>",
         "legendgroup": "2009-H2",
         "marker": {
          "color": "#19d3f3"
         },
         "name": "2009-H2",
         "notched": false,
         "offsetgroup": "2009-H2",
         "orientation": "v",
         "showlegend": true,
         "type": "box",
         "x": [
          "2009-H2",
          "2009-H2",
          "2009-H2",
          "2009-H2",
          "2009-H2",
          "2009-H2"
         ],
         "x0": " ",
         "xaxis": "x",
         "y": [
          3.38,
          3.14,
          2.99,
          4.01,
          3.66,
          5.35
         ],
         "y0": " ",
         "yaxis": "y"
        },
        {
         "alignmentgroup": "True",
         "boxpoints": "all",
         "hovertemplate": "Half-Year Period=%{x}<br>Price (USD/MMBtu)=%{y}<extra></extra>",
         "legendgroup": "2010-H1",
         "marker": {
          "color": "#FF6692"
         },
         "name": "2010-H1",
         "notched": false,
         "offsetgroup": "2010-H1",
         "orientation": "v",
         "showlegend": true,
         "type": "box",
         "x": [
          "2010-H1",
          "2010-H1",
          "2010-H1",
          "2010-H1",
          "2010-H1",
          "2010-H1"
         ],
         "x0": " ",
         "xaxis": "x",
         "y": [
          5.83,
          5.32,
          4.29,
          4.03,
          4.14,
          4.8
         ],
         "y0": " ",
         "yaxis": "y"
        },
        {
         "alignmentgroup": "True",
         "boxpoints": "all",
         "hovertemplate": "Half-Year Period=%{x}<br>Price (USD/MMBtu)=%{y}<extra></extra>",
         "legendgroup": "2010-H2",
         "marker": {
          "color": "#B6E880"
         },
         "name": "2010-H2",
         "notched": false,
         "offsetgroup": "2010-H2",
         "orientation": "v",
         "showlegend": true,
         "type": "box",
         "x": [
          "2010-H2",
          "2010-H2",
          "2010-H2",
          "2010-H2",
          "2010-H2",
          "2010-H2"
         ],
         "x0": " ",
         "xaxis": "x",
         "y": [
          4.63,
          4.32,
          3.89,
          3.43,
          3.71,
          4.25
         ],
         "y0": " ",
         "yaxis": "y"
        },
        {
         "alignmentgroup": "True",
         "boxpoints": "all",
         "hovertemplate": "Half-Year Period=%{x}<br>Price (USD/MMBtu)=%{y}<extra></extra>",
         "legendgroup": "2011-H1",
         "marker": {
          "color": "#FF97FF"
         },
         "name": "2011-H1",
         "notched": false,
         "offsetgroup": "2011-H1",
         "orientation": "v",
         "showlegend": true,
         "type": "box",
         "x": [
          "2011-H1",
          "2011-H1",
          "2011-H1",
          "2011-H1",
          "2011-H1",
          "2011-H1"
         ],
         "x0": " ",
         "xaxis": "x",
         "y": [
          4.49,
          4.09,
          3.97,
          4.24,
          4.31,
          4.54
         ],
         "y0": " ",
         "yaxis": "y"
        },
        {
         "alignmentgroup": "True",
         "boxpoints": "all",
         "hovertemplate": "Half-Year Period=%{x}<br>Price (USD/MMBtu)=%{y}<extra></extra>",
         "legendgroup": "2011-H2",
         "marker": {
          "color": "#FECB52"
         },
         "name": "2011-H2",
         "notched": false,
         "offsetgroup": "2011-H2",
         "orientation": "v",
         "showlegend": true,
         "type": "box",
         "x": [
          "2011-H2",
          "2011-H2",
          "2011-H2",
          "2011-H2",
          "2011-H2",
          "2011-H2"
         ],
         "x0": " ",
         "xaxis": "x",
         "y": [
          4.42,
          4.06,
          3.9,
          3.57,
          3.24,
          3.17
         ],
         "y0": " ",
         "yaxis": "y"
        },
        {
         "alignmentgroup": "True",
         "boxpoints": "all",
         "hovertemplate": "Half-Year Period=%{x}<br>Price (USD/MMBtu)=%{y}<extra></extra>",
         "legendgroup": "2012-H1",
         "marker": {
          "color": "#636efa"
         },
         "name": "2012-H1",
         "notched": false,
         "offsetgroup": "2012-H1",
         "orientation": "v",
         "showlegend": true,
         "type": "box",
         "x": [
          "2012-H1",
          "2012-H1",
          "2012-H1",
          "2012-H1",
          "2012-H1",
          "2012-H1"
         ],
         "x0": " ",
         "xaxis": "x",
         "y": [
          2.67,
          2.51,
          2.17,
          1.95,
          2.43,
          2.46
         ],
         "y0": " ",
         "yaxis": "y"
        },
        {
         "alignmentgroup": "True",
         "boxpoints": "all",
         "hovertemplate": "Half-Year Period=%{x}<br>Price (USD/MMBtu)=%{y}<extra></extra>",
         "legendgroup": "2012-H2",
         "marker": {
          "color": "#EF553B"
         },
         "name": "2012-H2",
         "notched": false,
         "offsetgroup": "2012-H2",
         "orientation": "v",
         "showlegend": true,
         "type": "box",
         "x": [
          "2012-H2",
          "2012-H2",
          "2012-H2",
          "2012-H2",
          "2012-H2",
          "2012-H2"
         ],
         "x0": " ",
         "xaxis": "x",
         "y": [
          2.95,
          2.84,
          2.85,
          3.32,
          3.54,
          3.34
         ],
         "y0": " ",
         "yaxis": "y"
        },
        {
         "alignmentgroup": "True",
         "boxpoints": "all",
         "hovertemplate": "Half-Year Period=%{x}<br>Price (USD/MMBtu)=%{y}<extra></extra>",
         "legendgroup": "2013-H1",
         "marker": {
          "color": "#00cc96"
         },
         "name": "2013-H1",
         "notched": false,
         "offsetgroup": "2013-H1",
         "orientation": "v",
         "showlegend": true,
         "type": "box",
         "x": [
          "2013-H1",
          "2013-H1",
          "2013-H1",
          "2013-H1",
          "2013-H1",
          "2013-H1"
         ],
         "x0": " ",
         "xaxis": "x",
         "y": [
          3.33,
          3.33,
          3.81,
          4.17,
          4.04,
          3.83
         ],
         "y0": " ",
         "yaxis": "y"
        },
        {
         "alignmentgroup": "True",
         "boxpoints": "all",
         "hovertemplate": "Half-Year Period=%{x}<br>Price (USD/MMBtu)=%{y}<extra></extra>",
         "legendgroup": "2013-H2",
         "marker": {
          "color": "#ab63fa"
         },
         "name": "2013-H2",
         "notched": false,
         "offsetgroup": "2013-H2",
         "orientation": "v",
         "showlegend": true,
         "type": "box",
         "x": [
          "2013-H2",
          "2013-H2",
          "2013-H2",
          "2013-H2",
          "2013-H2",
          "2013-H2"
         ],
         "x0": " ",
         "xaxis": "x",
         "y": [
          3.62,
          3.43,
          3.62,
          3.68,
          3.64,
          4.24
         ],
         "y0": " ",
         "yaxis": "y"
        },
        {
         "alignmentgroup": "True",
         "boxpoints": "all",
         "hovertemplate": "Half-Year Period=%{x}<br>Price (USD/MMBtu)=%{y}<extra></extra>",
         "legendgroup": "2014-H1",
         "marker": {
          "color": "#FFA15A"
         },
         "name": "2014-H1",
         "notched": false,
         "offsetgroup": "2014-H1",
         "orientation": "v",
         "showlegend": true,
         "type": "box",
         "x": [
          "2014-H1",
          "2014-H1",
          "2014-H1",
          "2014-H1",
          "2014-H1",
          "2014-H1"
         ],
         "x0": " ",
         "xaxis": "x",
         "y": [
          4.71,
          6,
          4.9,
          4.66,
          4.58,
          4.59
         ],
         "y0": " ",
         "yaxis": "y"
        },
        {
         "alignmentgroup": "True",
         "boxpoints": "all",
         "hovertemplate": "Half-Year Period=%{x}<br>Price (USD/MMBtu)=%{y}<extra></extra>",
         "legendgroup": "2014-H2",
         "marker": {
          "color": "#19d3f3"
         },
         "name": "2014-H2",
         "notched": false,
         "offsetgroup": "2014-H2",
         "orientation": "v",
         "showlegend": true,
         "type": "box",
         "x": [
          "2014-H2",
          "2014-H2",
          "2014-H2",
          "2014-H2",
          "2014-H2",
          "2014-H2"
         ],
         "x0": " ",
         "xaxis": "x",
         "y": [
          4.05,
          3.91,
          3.92,
          3.78,
          4.12,
          3.48
         ],
         "y0": " ",
         "yaxis": "y"
        },
        {
         "alignmentgroup": "True",
         "boxpoints": "all",
         "hovertemplate": "Half-Year Period=%{x}<br>Price (USD/MMBtu)=%{y}<extra></extra>",
         "legendgroup": "2015-H1",
         "marker": {
          "color": "#FF6692"
         },
         "name": "2015-H1",
         "notched": false,
         "offsetgroup": "2015-H1",
         "orientation": "v",
         "showlegend": true,
         "type": "box",
         "x": [
          "2015-H1",
          "2015-H1",
          "2015-H1",
          "2015-H1",
          "2015-H1",
          "2015-H1"
         ],
         "x0": " ",
         "xaxis": "x",
         "y": [
          2.99,
          2.87,
          2.83,
          2.61,
          2.85,
          2.78
         ],
         "y0": " ",
         "yaxis": "y"
        },
        {
         "alignmentgroup": "True",
         "boxpoints": "all",
         "hovertemplate": "Half-Year Period=%{x}<br>Price (USD/MMBtu)=%{y}<extra></extra>",
         "legendgroup": "2015-H2",
         "marker": {
          "color": "#B6E880"
         },
         "name": "2015-H2",
         "notched": false,
         "offsetgroup": "2015-H2",
         "orientation": "v",
         "showlegend": true,
         "type": "box",
         "x": [
          "2015-H2",
          "2015-H2",
          "2015-H2",
          "2015-H2",
          "2015-H2",
          "2015-H2"
         ],
         "x0": " ",
         "xaxis": "x",
         "y": [
          2.84,
          2.77,
          2.66,
          2.34,
          2.09,
          1.93
         ],
         "y0": " ",
         "yaxis": "y"
        },
        {
         "alignmentgroup": "True",
         "boxpoints": "all",
         "hovertemplate": "Half-Year Period=%{x}<br>Price (USD/MMBtu)=%{y}<extra></extra>",
         "legendgroup": "2016-H1",
         "marker": {
          "color": "#FF97FF"
         },
         "name": "2016-H1",
         "notched": false,
         "offsetgroup": "2016-H1",
         "orientation": "v",
         "showlegend": true,
         "type": "box",
         "x": [
          "2016-H1",
          "2016-H1",
          "2016-H1",
          "2016-H1",
          "2016-H1",
          "2016-H1"
         ],
         "x0": " ",
         "xaxis": "x",
         "y": [
          2.28,
          1.99,
          1.73,
          1.92,
          1.92,
          2.59
         ],
         "y0": " ",
         "yaxis": "y"
        },
        {
         "alignmentgroup": "True",
         "boxpoints": "all",
         "hovertemplate": "Half-Year Period=%{x}<br>Price (USD/MMBtu)=%{y}<extra></extra>",
         "legendgroup": "2016-H2",
         "marker": {
          "color": "#FECB52"
         },
         "name": "2016-H2",
         "notched": false,
         "offsetgroup": "2016-H2",
         "orientation": "v",
         "showlegend": true,
         "type": "box",
         "x": [
          "2016-H2",
          "2016-H2",
          "2016-H2",
          "2016-H2",
          "2016-H2",
          "2016-H2"
         ],
         "x0": " ",
         "xaxis": "x",
         "y": [
          2.82,
          2.82,
          2.99,
          2.98,
          2.55,
          3.59
         ],
         "y0": " ",
         "yaxis": "y"
        },
        {
         "alignmentgroup": "True",
         "boxpoints": "all",
         "hovertemplate": "Half-Year Period=%{x}<br>Price (USD/MMBtu)=%{y}<extra></extra>",
         "legendgroup": "2017-H1",
         "marker": {
          "color": "#636efa"
         },
         "name": "2017-H1",
         "notched": false,
         "offsetgroup": "2017-H1",
         "orientation": "v",
         "showlegend": true,
         "type": "box",
         "x": [
          "2017-H1",
          "2017-H1",
          "2017-H1",
          "2017-H1",
          "2017-H1",
          "2017-H1"
         ],
         "x0": " ",
         "xaxis": "x",
         "y": [
          3.3,
          2.85,
          2.88,
          3.1,
          3.15,
          2.98
         ],
         "y0": " ",
         "yaxis": "y"
        },
        {
         "alignmentgroup": "True",
         "boxpoints": "all",
         "hovertemplate": "Half-Year Period=%{x}<br>Price (USD/MMBtu)=%{y}<extra></extra>",
         "legendgroup": "2017-H2",
         "marker": {
          "color": "#EF553B"
         },
         "name": "2017-H2",
         "notched": false,
         "offsetgroup": "2017-H2",
         "orientation": "v",
         "showlegend": true,
         "type": "box",
         "x": [
          "2017-H2",
          "2017-H2",
          "2017-H2",
          "2017-H2",
          "2017-H2",
          "2017-H2"
         ],
         "x0": " ",
         "xaxis": "x",
         "y": [
          2.98,
          2.9,
          2.98,
          2.88,
          3.01,
          2.82
         ],
         "y0": " ",
         "yaxis": "y"
        },
        {
         "alignmentgroup": "True",
         "boxpoints": "all",
         "hovertemplate": "Half-Year Period=%{x}<br>Price (USD/MMBtu)=%{y}<extra></extra>",
         "legendgroup": "2018-H1",
         "marker": {
          "color": "#00cc96"
         },
         "name": "2018-H1",
         "notched": false,
         "offsetgroup": "2018-H1",
         "orientation": "v",
         "showlegend": true,
         "type": "box",
         "x": [
          "2018-H1",
          "2018-H1",
          "2018-H1",
          "2018-H1",
          "2018-H1",
          "2018-H1"
         ],
         "x0": " ",
         "xaxis": "x",
         "y": [
          3.87,
          2.67,
          2.69,
          2.8,
          2.8,
          2.97
         ],
         "y0": " ",
         "yaxis": "y"
        },
        {
         "alignmentgroup": "True",
         "boxpoints": "all",
         "hovertemplate": "Half-Year Period=%{x}<br>Price (USD/MMBtu)=%{y}<extra></extra>",
         "legendgroup": "2018-H2",
         "marker": {
          "color": "#ab63fa"
         },
         "name": "2018-H2",
         "notched": false,
         "offsetgroup": "2018-H2",
         "orientation": "v",
         "showlegend": true,
         "type": "box",
         "x": [
          "2018-H2",
          "2018-H2",
          "2018-H2",
          "2018-H2",
          "2018-H2",
          "2018-H2"
         ],
         "x0": " ",
         "xaxis": "x",
         "y": [
          2.83,
          2.96,
          3,
          3.28,
          4.09,
          4.04
         ],
         "y0": " ",
         "yaxis": "y"
        },
        {
         "alignmentgroup": "True",
         "boxpoints": "all",
         "hovertemplate": "Half-Year Period=%{x}<br>Price (USD/MMBtu)=%{y}<extra></extra>",
         "legendgroup": "2019-H1",
         "marker": {
          "color": "#FFA15A"
         },
         "name": "2019-H1",
         "notched": false,
         "offsetgroup": "2019-H1",
         "orientation": "v",
         "showlegend": true,
         "type": "box",
         "x": [
          "2019-H1",
          "2019-H1",
          "2019-H1",
          "2019-H1",
          "2019-H1",
          "2019-H1"
         ],
         "x0": " ",
         "xaxis": "x",
         "y": [
          3.11,
          2.69,
          2.95,
          2.65,
          2.64,
          2.4
         ],
         "y0": " ",
         "yaxis": "y"
        },
        {
         "alignmentgroup": "True",
         "boxpoints": "all",
         "hovertemplate": "Half-Year Period=%{x}<br>Price (USD/MMBtu)=%{y}<extra></extra>",
         "legendgroup": "2019-H2",
         "marker": {
          "color": "#19d3f3"
         },
         "name": "2019-H2",
         "notched": false,
         "offsetgroup": "2019-H2",
         "orientation": "v",
         "showlegend": true,
         "type": "box",
         "x": [
          "2019-H2",
          "2019-H2",
          "2019-H2",
          "2019-H2",
          "2019-H2",
          "2019-H2"
         ],
         "x0": " ",
         "xaxis": "x",
         "y": [
          2.37,
          2.22,
          2.56,
          2.33,
          2.65,
          2.22
         ],
         "y0": " ",
         "yaxis": "y"
        },
        {
         "alignmentgroup": "True",
         "boxpoints": "all",
         "hovertemplate": "Half-Year Period=%{x}<br>Price (USD/MMBtu)=%{y}<extra></extra>",
         "legendgroup": "2020-H1",
         "marker": {
          "color": "#FF6692"
         },
         "name": "2020-H1",
         "notched": false,
         "offsetgroup": "2020-H1",
         "orientation": "v",
         "showlegend": true,
         "type": "box",
         "x": [
          "2020-H1",
          "2020-H1",
          "2020-H1",
          "2020-H1",
          "2020-H1",
          "2020-H1"
         ],
         "x0": " ",
         "xaxis": "x",
         "y": [
          2.02,
          1.91,
          1.79,
          1.74,
          1.75,
          1.63
         ],
         "y0": " ",
         "yaxis": "y"
        },
        {
         "alignmentgroup": "True",
         "boxpoints": "all",
         "hovertemplate": "Half-Year Period=%{x}<br>Price (USD/MMBtu)=%{y}<extra></extra>",
         "legendgroup": "2020-H2",
         "marker": {
          "color": "#B6E880"
         },
         "name": "2020-H2",
         "notched": false,
         "offsetgroup": "2020-H2",
         "orientation": "v",
         "showlegend": true,
         "type": "box",
         "x": [
          "2020-H2",
          "2020-H2",
          "2020-H2",
          "2020-H2",
          "2020-H2",
          "2020-H2"
         ],
         "x0": " ",
         "xaxis": "x",
         "y": [
          1.76,
          2.3,
          1.92,
          2.39,
          2.61,
          2.58
         ],
         "y0": " ",
         "yaxis": "y"
        },
        {
         "alignmentgroup": "True",
         "boxpoints": "all",
         "hovertemplate": "Half-Year Period=%{x}<br>Price (USD/MMBtu)=%{y}<extra></extra>",
         "legendgroup": "2021-H1",
         "marker": {
          "color": "#FF97FF"
         },
         "name": "2021-H1",
         "notched": false,
         "offsetgroup": "2021-H1",
         "orientation": "v",
         "showlegend": true,
         "type": "box",
         "x": [
          "2021-H1",
          "2021-H1",
          "2021-H1",
          "2021-H1",
          "2021-H1",
          "2021-H1"
         ],
         "x0": " ",
         "xaxis": "x",
         "y": [
          2.71,
          5.35,
          2.62,
          2.66,
          2.91,
          3.26
         ],
         "y0": " ",
         "yaxis": "y"
        },
        {
         "alignmentgroup": "True",
         "boxpoints": "all",
         "hovertemplate": "Half-Year Period=%{x}<br>Price (USD/MMBtu)=%{y}<extra></extra>",
         "legendgroup": "2021-H2",
         "marker": {
          "color": "#FECB52"
         },
         "name": "2021-H2",
         "notched": false,
         "offsetgroup": "2021-H2",
         "orientation": "v",
         "showlegend": true,
         "type": "box",
         "x": [
          "2021-H2",
          "2021-H2",
          "2021-H2",
          "2021-H2",
          "2021-H2",
          "2021-H2"
         ],
         "x0": " ",
         "xaxis": "x",
         "y": [
          3.84,
          4.07,
          5.16,
          5.51,
          5.05,
          3.76
         ],
         "y0": " ",
         "yaxis": "y"
        },
        {
         "alignmentgroup": "True",
         "boxpoints": "all",
         "hovertemplate": "Half-Year Period=%{x}<br>Price (USD/MMBtu)=%{y}<extra></extra>",
         "legendgroup": "2022-H1",
         "marker": {
          "color": "#636efa"
         },
         "name": "2022-H1",
         "notched": false,
         "offsetgroup": "2022-H1",
         "orientation": "v",
         "showlegend": true,
         "type": "box",
         "x": [
          "2022-H1",
          "2022-H1",
          "2022-H1",
          "2022-H1",
          "2022-H1",
          "2022-H1"
         ],
         "x0": " ",
         "xaxis": "x",
         "y": [
          4.38,
          4.69,
          4.9,
          6.6,
          8.14,
          7.7
         ],
         "y0": " ",
         "yaxis": "y"
        },
        {
         "alignmentgroup": "True",
         "boxpoints": "all",
         "hovertemplate": "Half-Year Period=%{x}<br>Price (USD/MMBtu)=%{y}<extra></extra>",
         "legendgroup": "2022-H2",
         "marker": {
          "color": "#EF553B"
         },
         "name": "2022-H2",
         "notched": false,
         "offsetgroup": "2022-H2",
         "orientation": "v",
         "showlegend": true,
         "type": "box",
         "x": [
          "2022-H2",
          "2022-H2",
          "2022-H2",
          "2022-H2",
          "2022-H2",
          "2022-H2"
         ],
         "x0": " ",
         "xaxis": "x",
         "y": [
          7.28,
          8.81,
          7.88,
          5.66,
          5.45,
          5.53
         ],
         "y0": " ",
         "yaxis": "y"
        },
        {
         "alignmentgroup": "True",
         "boxpoints": "all",
         "hovertemplate": "Half-Year Period=%{x}<br>Price (USD/MMBtu)=%{y}<extra></extra>",
         "legendgroup": "2023-H1",
         "marker": {
          "color": "#00cc96"
         },
         "name": "2023-H1",
         "notched": false,
         "offsetgroup": "2023-H1",
         "orientation": "v",
         "showlegend": true,
         "type": "box",
         "x": [
          "2023-H1",
          "2023-H1",
          "2023-H1",
          "2023-H1",
          "2023-H1",
          "2023-H1"
         ],
         "x0": " ",
         "xaxis": "x",
         "y": [
          3.27,
          2.38,
          2.31,
          2.16,
          2.15,
          2.18
         ],
         "y0": " ",
         "yaxis": "y"
        },
        {
         "alignmentgroup": "True",
         "boxpoints": "all",
         "hovertemplate": "Half-Year Period=%{x}<br>Price (USD/MMBtu)=%{y}<extra></extra>",
         "legendgroup": "2023-H2",
         "marker": {
          "color": "#ab63fa"
         },
         "name": "2023-H2",
         "notched": false,
         "offsetgroup": "2023-H2",
         "orientation": "v",
         "showlegend": true,
         "type": "box",
         "x": [
          "2023-H2",
          "2023-H2",
          "2023-H2",
          "2023-H2",
          "2023-H2",
          "2023-H2"
         ],
         "x0": " ",
         "xaxis": "x",
         "y": [
          2.55,
          2.58,
          2.64,
          2.98,
          2.71,
          2.52
         ],
         "y0": " ",
         "yaxis": "y"
        },
        {
         "alignmentgroup": "True",
         "boxpoints": "all",
         "hovertemplate": "Half-Year Period=%{x}<br>Price (USD/MMBtu)=%{y}<extra></extra>",
         "legendgroup": "2024-H1",
         "marker": {
          "color": "#FFA15A"
         },
         "name": "2024-H1",
         "notched": false,
         "offsetgroup": "2024-H1",
         "orientation": "v",
         "showlegend": true,
         "type": "box",
         "x": [
          "2024-H1",
          "2024-H1",
          "2024-H1",
          "2024-H1",
          "2024-H1",
          "2024-H1"
         ],
         "x0": " ",
         "xaxis": "x",
         "y": [
          3.18,
          1.72,
          1.49,
          1.6,
          2.12,
          2.54
         ],
         "y0": " ",
         "yaxis": "y"
        },
        {
         "alignmentgroup": "True",
         "boxpoints": "all",
         "hovertemplate": "Half-Year Period=%{x}<br>Price (USD/MMBtu)=%{y}<extra></extra>",
         "legendgroup": "2024-H2",
         "marker": {
          "color": "#19d3f3"
         },
         "name": "2024-H2",
         "notched": false,
         "offsetgroup": "2024-H2",
         "orientation": "v",
         "showlegend": true,
         "type": "box",
         "x": [
          "2024-H2",
          "2024-H2",
          "2024-H2",
          "2024-H2",
          "2024-H2",
          "2024-H2"
         ],
         "x0": " ",
         "xaxis": "x",
         "y": [
          2.07,
          1.99,
          2.28,
          2.2,
          2.12,
          3.01
         ],
         "y0": " ",
         "yaxis": "y"
        },
        {
         "alignmentgroup": "True",
         "boxpoints": "all",
         "hovertemplate": "Half-Year Period=%{x}<br>Price (USD/MMBtu)=%{y}<extra></extra>",
         "legendgroup": "2025-H1",
         "marker": {
          "color": "#FF6692"
         },
         "name": "2025-H1",
         "notched": false,
         "offsetgroup": "2025-H1",
         "orientation": "v",
         "showlegend": true,
         "type": "box",
         "x": [
          "2025-H1",
          "2025-H1"
         ],
         "x0": " ",
         "xaxis": "x",
         "y": [
          4.13,
          4.19
         ],
         "y0": " ",
         "yaxis": "y"
        }
       ],
       "layout": {
        "boxmode": "overlay",
        "legend": {
         "title": {
          "text": "Half-Year Period"
         },
         "tracegroupgap": 0
        },
        "showlegend": false,
        "template": {
         "data": {
          "bar": [
           {
            "error_x": {
             "color": "#2a3f5f"
            },
            "error_y": {
             "color": "#2a3f5f"
            },
            "marker": {
             "line": {
              "color": "#E5ECF6",
              "width": 0.5
             },
             "pattern": {
              "fillmode": "overlay",
              "size": 10,
              "solidity": 0.2
             }
            },
            "type": "bar"
           }
          ],
          "barpolar": [
           {
            "marker": {
             "line": {
              "color": "#E5ECF6",
              "width": 0.5
             },
             "pattern": {
              "fillmode": "overlay",
              "size": 10,
              "solidity": 0.2
             }
            },
            "type": "barpolar"
           }
          ],
          "carpet": [
           {
            "aaxis": {
             "endlinecolor": "#2a3f5f",
             "gridcolor": "white",
             "linecolor": "white",
             "minorgridcolor": "white",
             "startlinecolor": "#2a3f5f"
            },
            "baxis": {
             "endlinecolor": "#2a3f5f",
             "gridcolor": "white",
             "linecolor": "white",
             "minorgridcolor": "white",
             "startlinecolor": "#2a3f5f"
            },
            "type": "carpet"
           }
          ],
          "choropleth": [
           {
            "colorbar": {
             "outlinewidth": 0,
             "ticks": ""
            },
            "type": "choropleth"
           }
          ],
          "contour": [
           {
            "colorbar": {
             "outlinewidth": 0,
             "ticks": ""
            },
            "colorscale": [
             [
              0,
              "#0d0887"
             ],
             [
              0.1111111111111111,
              "#46039f"
             ],
             [
              0.2222222222222222,
              "#7201a8"
             ],
             [
              0.3333333333333333,
              "#9c179e"
             ],
             [
              0.4444444444444444,
              "#bd3786"
             ],
             [
              0.5555555555555556,
              "#d8576b"
             ],
             [
              0.6666666666666666,
              "#ed7953"
             ],
             [
              0.7777777777777778,
              "#fb9f3a"
             ],
             [
              0.8888888888888888,
              "#fdca26"
             ],
             [
              1,
              "#f0f921"
             ]
            ],
            "type": "contour"
           }
          ],
          "contourcarpet": [
           {
            "colorbar": {
             "outlinewidth": 0,
             "ticks": ""
            },
            "type": "contourcarpet"
           }
          ],
          "heatmap": [
           {
            "colorbar": {
             "outlinewidth": 0,
             "ticks": ""
            },
            "colorscale": [
             [
              0,
              "#0d0887"
             ],
             [
              0.1111111111111111,
              "#46039f"
             ],
             [
              0.2222222222222222,
              "#7201a8"
             ],
             [
              0.3333333333333333,
              "#9c179e"
             ],
             [
              0.4444444444444444,
              "#bd3786"
             ],
             [
              0.5555555555555556,
              "#d8576b"
             ],
             [
              0.6666666666666666,
              "#ed7953"
             ],
             [
              0.7777777777777778,
              "#fb9f3a"
             ],
             [
              0.8888888888888888,
              "#fdca26"
             ],
             [
              1,
              "#f0f921"
             ]
            ],
            "type": "heatmap"
           }
          ],
          "heatmapgl": [
           {
            "colorbar": {
             "outlinewidth": 0,
             "ticks": ""
            },
            "colorscale": [
             [
              0,
              "#0d0887"
             ],
             [
              0.1111111111111111,
              "#46039f"
             ],
             [
              0.2222222222222222,
              "#7201a8"
             ],
             [
              0.3333333333333333,
              "#9c179e"
             ],
             [
              0.4444444444444444,
              "#bd3786"
             ],
             [
              0.5555555555555556,
              "#d8576b"
             ],
             [
              0.6666666666666666,
              "#ed7953"
             ],
             [
              0.7777777777777778,
              "#fb9f3a"
             ],
             [
              0.8888888888888888,
              "#fdca26"
             ],
             [
              1,
              "#f0f921"
             ]
            ],
            "type": "heatmapgl"
           }
          ],
          "histogram": [
           {
            "marker": {
             "pattern": {
              "fillmode": "overlay",
              "size": 10,
              "solidity": 0.2
             }
            },
            "type": "histogram"
           }
          ],
          "histogram2d": [
           {
            "colorbar": {
             "outlinewidth": 0,
             "ticks": ""
            },
            "colorscale": [
             [
              0,
              "#0d0887"
             ],
             [
              0.1111111111111111,
              "#46039f"
             ],
             [
              0.2222222222222222,
              "#7201a8"
             ],
             [
              0.3333333333333333,
              "#9c179e"
             ],
             [
              0.4444444444444444,
              "#bd3786"
             ],
             [
              0.5555555555555556,
              "#d8576b"
             ],
             [
              0.6666666666666666,
              "#ed7953"
             ],
             [
              0.7777777777777778,
              "#fb9f3a"
             ],
             [
              0.8888888888888888,
              "#fdca26"
             ],
             [
              1,
              "#f0f921"
             ]
            ],
            "type": "histogram2d"
           }
          ],
          "histogram2dcontour": [
           {
            "colorbar": {
             "outlinewidth": 0,
             "ticks": ""
            },
            "colorscale": [
             [
              0,
              "#0d0887"
             ],
             [
              0.1111111111111111,
              "#46039f"
             ],
             [
              0.2222222222222222,
              "#7201a8"
             ],
             [
              0.3333333333333333,
              "#9c179e"
             ],
             [
              0.4444444444444444,
              "#bd3786"
             ],
             [
              0.5555555555555556,
              "#d8576b"
             ],
             [
              0.6666666666666666,
              "#ed7953"
             ],
             [
              0.7777777777777778,
              "#fb9f3a"
             ],
             [
              0.8888888888888888,
              "#fdca26"
             ],
             [
              1,
              "#f0f921"
             ]
            ],
            "type": "histogram2dcontour"
           }
          ],
          "mesh3d": [
           {
            "colorbar": {
             "outlinewidth": 0,
             "ticks": ""
            },
            "type": "mesh3d"
           }
          ],
          "parcoords": [
           {
            "line": {
             "colorbar": {
              "outlinewidth": 0,
              "ticks": ""
             }
            },
            "type": "parcoords"
           }
          ],
          "pie": [
           {
            "automargin": true,
            "type": "pie"
           }
          ],
          "scatter": [
           {
            "fillpattern": {
             "fillmode": "overlay",
             "size": 10,
             "solidity": 0.2
            },
            "type": "scatter"
           }
          ],
          "scatter3d": [
           {
            "line": {
             "colorbar": {
              "outlinewidth": 0,
              "ticks": ""
             }
            },
            "marker": {
             "colorbar": {
              "outlinewidth": 0,
              "ticks": ""
             }
            },
            "type": "scatter3d"
           }
          ],
          "scattercarpet": [
           {
            "marker": {
             "colorbar": {
              "outlinewidth": 0,
              "ticks": ""
             }
            },
            "type": "scattercarpet"
           }
          ],
          "scattergeo": [
           {
            "marker": {
             "colorbar": {
              "outlinewidth": 0,
              "ticks": ""
             }
            },
            "type": "scattergeo"
           }
          ],
          "scattergl": [
           {
            "marker": {
             "colorbar": {
              "outlinewidth": 0,
              "ticks": ""
             }
            },
            "type": "scattergl"
           }
          ],
          "scattermapbox": [
           {
            "marker": {
             "colorbar": {
              "outlinewidth": 0,
              "ticks": ""
             }
            },
            "type": "scattermapbox"
           }
          ],
          "scatterpolar": [
           {
            "marker": {
             "colorbar": {
              "outlinewidth": 0,
              "ticks": ""
             }
            },
            "type": "scatterpolar"
           }
          ],
          "scatterpolargl": [
           {
            "marker": {
             "colorbar": {
              "outlinewidth": 0,
              "ticks": ""
             }
            },
            "type": "scatterpolargl"
           }
          ],
          "scatterternary": [
           {
            "marker": {
             "colorbar": {
              "outlinewidth": 0,
              "ticks": ""
             }
            },
            "type": "scatterternary"
           }
          ],
          "surface": [
           {
            "colorbar": {
             "outlinewidth": 0,
             "ticks": ""
            },
            "colorscale": [
             [
              0,
              "#0d0887"
             ],
             [
              0.1111111111111111,
              "#46039f"
             ],
             [
              0.2222222222222222,
              "#7201a8"
             ],
             [
              0.3333333333333333,
              "#9c179e"
             ],
             [
              0.4444444444444444,
              "#bd3786"
             ],
             [
              0.5555555555555556,
              "#d8576b"
             ],
             [
              0.6666666666666666,
              "#ed7953"
             ],
             [
              0.7777777777777778,
              "#fb9f3a"
             ],
             [
              0.8888888888888888,
              "#fdca26"
             ],
             [
              1,
              "#f0f921"
             ]
            ],
            "type": "surface"
           }
          ],
          "table": [
           {
            "cells": {
             "fill": {
              "color": "#EBF0F8"
             },
             "line": {
              "color": "white"
             }
            },
            "header": {
             "fill": {
              "color": "#C8D4E3"
             },
             "line": {
              "color": "white"
             }
            },
            "type": "table"
           }
          ]
         },
         "layout": {
          "annotationdefaults": {
           "arrowcolor": "#2a3f5f",
           "arrowhead": 0,
           "arrowwidth": 1
          },
          "autotypenumbers": "strict",
          "coloraxis": {
           "colorbar": {
            "outlinewidth": 0,
            "ticks": ""
           }
          },
          "colorscale": {
           "diverging": [
            [
             0,
             "#8e0152"
            ],
            [
             0.1,
             "#c51b7d"
            ],
            [
             0.2,
             "#de77ae"
            ],
            [
             0.3,
             "#f1b6da"
            ],
            [
             0.4,
             "#fde0ef"
            ],
            [
             0.5,
             "#f7f7f7"
            ],
            [
             0.6,
             "#e6f5d0"
            ],
            [
             0.7,
             "#b8e186"
            ],
            [
             0.8,
             "#7fbc41"
            ],
            [
             0.9,
             "#4d9221"
            ],
            [
             1,
             "#276419"
            ]
           ],
           "sequential": [
            [
             0,
             "#0d0887"
            ],
            [
             0.1111111111111111,
             "#46039f"
            ],
            [
             0.2222222222222222,
             "#7201a8"
            ],
            [
             0.3333333333333333,
             "#9c179e"
            ],
            [
             0.4444444444444444,
             "#bd3786"
            ],
            [
             0.5555555555555556,
             "#d8576b"
            ],
            [
             0.6666666666666666,
             "#ed7953"
            ],
            [
             0.7777777777777778,
             "#fb9f3a"
            ],
            [
             0.8888888888888888,
             "#fdca26"
            ],
            [
             1,
             "#f0f921"
            ]
           ],
           "sequentialminus": [
            [
             0,
             "#0d0887"
            ],
            [
             0.1111111111111111,
             "#46039f"
            ],
            [
             0.2222222222222222,
             "#7201a8"
            ],
            [
             0.3333333333333333,
             "#9c179e"
            ],
            [
             0.4444444444444444,
             "#bd3786"
            ],
            [
             0.5555555555555556,
             "#d8576b"
            ],
            [
             0.6666666666666666,
             "#ed7953"
            ],
            [
             0.7777777777777778,
             "#fb9f3a"
            ],
            [
             0.8888888888888888,
             "#fdca26"
            ],
            [
             1,
             "#f0f921"
            ]
           ]
          },
          "colorway": [
           "#636efa",
           "#EF553B",
           "#00cc96",
           "#ab63fa",
           "#FFA15A",
           "#19d3f3",
           "#FF6692",
           "#B6E880",
           "#FF97FF",
           "#FECB52"
          ],
          "font": {
           "color": "#2a3f5f"
          },
          "geo": {
           "bgcolor": "white",
           "lakecolor": "white",
           "landcolor": "#E5ECF6",
           "showlakes": true,
           "showland": true,
           "subunitcolor": "white"
          },
          "hoverlabel": {
           "align": "left"
          },
          "hovermode": "closest",
          "mapbox": {
           "style": "light"
          },
          "paper_bgcolor": "white",
          "plot_bgcolor": "#E5ECF6",
          "polar": {
           "angularaxis": {
            "gridcolor": "white",
            "linecolor": "white",
            "ticks": ""
           },
           "bgcolor": "#E5ECF6",
           "radialaxis": {
            "gridcolor": "white",
            "linecolor": "white",
            "ticks": ""
           }
          },
          "scene": {
           "xaxis": {
            "backgroundcolor": "#E5ECF6",
            "gridcolor": "white",
            "gridwidth": 2,
            "linecolor": "white",
            "showbackground": true,
            "ticks": "",
            "zerolinecolor": "white"
           },
           "yaxis": {
            "backgroundcolor": "#E5ECF6",
            "gridcolor": "white",
            "gridwidth": 2,
            "linecolor": "white",
            "showbackground": true,
            "ticks": "",
            "zerolinecolor": "white"
           },
           "zaxis": {
            "backgroundcolor": "#E5ECF6",
            "gridcolor": "white",
            "gridwidth": 2,
            "linecolor": "white",
            "showbackground": true,
            "ticks": "",
            "zerolinecolor": "white"
           }
          },
          "shapedefaults": {
           "line": {
            "color": "#2a3f5f"
           }
          },
          "ternary": {
           "aaxis": {
            "gridcolor": "white",
            "linecolor": "white",
            "ticks": ""
           },
           "baxis": {
            "gridcolor": "white",
            "linecolor": "white",
            "ticks": ""
           },
           "bgcolor": "#E5ECF6",
           "caxis": {
            "gridcolor": "white",
            "linecolor": "white",
            "ticks": ""
           }
          },
          "title": {
           "x": 0.05
          },
          "xaxis": {
           "automargin": true,
           "gridcolor": "white",
           "linecolor": "white",
           "ticks": "",
           "title": {
            "standoff": 15
           },
           "zerolinecolor": "white",
           "zerolinewidth": 2
          },
          "yaxis": {
           "automargin": true,
           "gridcolor": "white",
           "linecolor": "white",
           "ticks": "",
           "title": {
            "standoff": 15
           },
           "zerolinecolor": "white",
           "zerolinewidth": 2
          }
         }
        },
        "title": {
         "text": "Henry Hub Natural Gas Prices by Half-Year Intervals (2007 onwards)"
        },
        "xaxis": {
         "anchor": "y",
         "categoryarray": [
          "2007-H1",
          "2007-H2",
          "2008-H1",
          "2008-H2",
          "2009-H1",
          "2009-H2",
          "2010-H1",
          "2010-H2",
          "2011-H1",
          "2011-H2",
          "2012-H1",
          "2012-H2",
          "2013-H1",
          "2013-H2",
          "2014-H1",
          "2014-H2",
          "2015-H1",
          "2015-H2",
          "2016-H1",
          "2016-H2",
          "2017-H1",
          "2017-H2",
          "2018-H1",
          "2018-H2",
          "2019-H1",
          "2019-H2",
          "2020-H1",
          "2020-H2",
          "2021-H1",
          "2021-H2",
          "2022-H1",
          "2022-H2",
          "2023-H1",
          "2023-H2",
          "2024-H1",
          "2024-H2",
          "2025-H1"
         ],
         "categoryorder": "array",
         "domain": [
          0,
          1
         ],
         "tickangle": 45,
         "title": {
          "text": "Half-Year Period"
         }
        },
        "yaxis": {
         "anchor": "x",
         "domain": [
          0,
          1
         ],
         "title": {
          "text": "Price (USD/MMBtu)"
         }
        }
       }
      }
     },
     "metadata": {},
     "output_type": "display_data"
    }
   ],
   "source": [
    "import plotly.express as px\n",
    "\n",
    "# 1. 네 데이터프레임 (가정: gas_prices라는 이름)\n",
    "# 네 실제 데이터프레임 이름으로 대체\n",
    "df = df.copy()\n",
    "\n",
    "# 2. 열 이름 간소화\n",
    "df = df.rename(columns={'Henry Hub Natural Gas Spot Price (Dollars per Million Btu)': 'Price'})\n",
    "\n",
    "# 3. 날짜를 datetime으로 변환\n",
    "df['Date'] = pd.to_datetime(df['Date'])\n",
    "\n",
    "# 4. 2007년 이후 데이터 필터링\n",
    "df = df[df['Date'] >= '2007-01-01']\n",
    "\n",
    "# 5. 날짜를 반년 단위로 그룹화\n",
    "df['Year'] = df['Date'].dt.year\n",
    "df['Month'] = df['Date'].dt.month\n",
    "df['Half_Year'] = df['Year'].astype(str) + '-H' + ((df['Month'] - 1) // 6 + 1).astype(str)\n",
    "\n",
    "# 6. 박스 그래프 생성\n",
    "fig = px.box(\n",
    "    df,\n",
    "    x='Half_Year',\n",
    "    y='Price',\n",
    "    title='Henry Hub Natural Gas Prices by Half-Year Intervals (2007 onwards)',\n",
    "    labels={'Half_Year': 'Half-Year Period', 'Price': 'Price (USD/MMBtu)'},\n",
    "    color='Half_Year',  # 반년별 색상 구분\n",
    "    points='all'  # 개별 데이터 포인트 표시\n",
    ")\n",
    "\n",
    "# 7. 레이아웃 조정\n",
    "fig.update_layout(\n",
    "    xaxis_title='Half-Year Period',\n",
    "    yaxis_title='Price (USD/MMBtu)',\n",
    "    showlegend=False,  # 범례 제거\n",
    "    xaxis={'tickangle': 45}  # x축 레이블 45도 회전\n",
    ")\n",
    "\n",
    "fig.show()"
   ]
  },
  {
   "cell_type": "code",
   "execution_count": null,
   "metadata": {},
   "outputs": [
    {
     "data": {
      "application/vnd.plotly.v1+json": {
       "config": {
        "plotlyServerURL": "https://plot.ly"
       },
       "data": [
        {
         "alignmentgroup": "True",
         "boxpoints": "all",
         "hovertemplate": "Year=%{x}<br>Price (USD/MMBtu)=%{y}<extra></extra>",
         "legendgroup": "2007",
         "marker": {
          "color": "#636efa"
         },
         "name": "2007",
         "notched": false,
         "offsetgroup": "2007",
         "orientation": "v",
         "showlegend": true,
         "type": "box",
         "x": [
          2007,
          2007,
          2007,
          2007,
          2007,
          2007,
          2007,
          2007,
          2007,
          2007,
          2007,
          2007
         ],
         "x0": " ",
         "xaxis": "x",
         "y": [
          6.55,
          8,
          7.11,
          7.6,
          7.64,
          7.35,
          6.22,
          6.22,
          6.08,
          6.74,
          7.1,
          7.11
         ],
         "y0": " ",
         "yaxis": "y"
        },
        {
         "alignmentgroup": "True",
         "boxpoints": "all",
         "hovertemplate": "Year=%{x}<br>Price (USD/MMBtu)=%{y}<extra></extra>",
         "legendgroup": "2008",
         "marker": {
          "color": "#EF553B"
         },
         "name": "2008",
         "notched": false,
         "offsetgroup": "2008",
         "orientation": "v",
         "showlegend": true,
         "type": "box",
         "x": [
          2008,
          2008,
          2008,
          2008,
          2008,
          2008,
          2008,
          2008,
          2008,
          2008,
          2008,
          2008
         ],
         "x0": " ",
         "xaxis": "x",
         "y": [
          7.99,
          8.54,
          9.41,
          10.18,
          11.27,
          12.69,
          11.09,
          8.26,
          7.67,
          6.74,
          6.68,
          5.82
         ],
         "y0": " ",
         "yaxis": "y"
        },
        {
         "alignmentgroup": "True",
         "boxpoints": "all",
         "hovertemplate": "Year=%{x}<br>Price (USD/MMBtu)=%{y}<extra></extra>",
         "legendgroup": "2009",
         "marker": {
          "color": "#00cc96"
         },
         "name": "2009",
         "notched": false,
         "offsetgroup": "2009",
         "orientation": "v",
         "showlegend": true,
         "type": "box",
         "x": [
          2009,
          2009,
          2009,
          2009,
          2009,
          2009,
          2009,
          2009,
          2009,
          2009,
          2009,
          2009
         ],
         "x0": " ",
         "xaxis": "x",
         "y": [
          5.24,
          4.52,
          3.96,
          3.5,
          3.83,
          3.8,
          3.38,
          3.14,
          2.99,
          4.01,
          3.66,
          5.35
         ],
         "y0": " ",
         "yaxis": "y"
        },
        {
         "alignmentgroup": "True",
         "boxpoints": "all",
         "hovertemplate": "Year=%{x}<br>Price (USD/MMBtu)=%{y}<extra></extra>",
         "legendgroup": "2010",
         "marker": {
          "color": "#ab63fa"
         },
         "name": "2010",
         "notched": false,
         "offsetgroup": "2010",
         "orientation": "v",
         "showlegend": true,
         "type": "box",
         "x": [
          2010,
          2010,
          2010,
          2010,
          2010,
          2010,
          2010,
          2010,
          2010,
          2010,
          2010,
          2010
         ],
         "x0": " ",
         "xaxis": "x",
         "y": [
          5.83,
          5.32,
          4.29,
          4.03,
          4.14,
          4.8,
          4.63,
          4.32,
          3.89,
          3.43,
          3.71,
          4.25
         ],
         "y0": " ",
         "yaxis": "y"
        },
        {
         "alignmentgroup": "True",
         "boxpoints": "all",
         "hovertemplate": "Year=%{x}<br>Price (USD/MMBtu)=%{y}<extra></extra>",
         "legendgroup": "2011",
         "marker": {
          "color": "#FFA15A"
         },
         "name": "2011",
         "notched": false,
         "offsetgroup": "2011",
         "orientation": "v",
         "showlegend": true,
         "type": "box",
         "x": [
          2011,
          2011,
          2011,
          2011,
          2011,
          2011,
          2011,
          2011,
          2011,
          2011,
          2011,
          2011
         ],
         "x0": " ",
         "xaxis": "x",
         "y": [
          4.49,
          4.09,
          3.97,
          4.24,
          4.31,
          4.54,
          4.42,
          4.06,
          3.9,
          3.57,
          3.24,
          3.17
         ],
         "y0": " ",
         "yaxis": "y"
        },
        {
         "alignmentgroup": "True",
         "boxpoints": "all",
         "hovertemplate": "Year=%{x}<br>Price (USD/MMBtu)=%{y}<extra></extra>",
         "legendgroup": "2012",
         "marker": {
          "color": "#19d3f3"
         },
         "name": "2012",
         "notched": false,
         "offsetgroup": "2012",
         "orientation": "v",
         "showlegend": true,
         "type": "box",
         "x": [
          2012,
          2012,
          2012,
          2012,
          2012,
          2012,
          2012,
          2012,
          2012,
          2012,
          2012,
          2012
         ],
         "x0": " ",
         "xaxis": "x",
         "y": [
          2.67,
          2.51,
          2.17,
          1.95,
          2.43,
          2.46,
          2.95,
          2.84,
          2.85,
          3.32,
          3.54,
          3.34
         ],
         "y0": " ",
         "yaxis": "y"
        },
        {
         "alignmentgroup": "True",
         "boxpoints": "all",
         "hovertemplate": "Year=%{x}<br>Price (USD/MMBtu)=%{y}<extra></extra>",
         "legendgroup": "2013",
         "marker": {
          "color": "#FF6692"
         },
         "name": "2013",
         "notched": false,
         "offsetgroup": "2013",
         "orientation": "v",
         "showlegend": true,
         "type": "box",
         "x": [
          2013,
          2013,
          2013,
          2013,
          2013,
          2013,
          2013,
          2013,
          2013,
          2013,
          2013,
          2013
         ],
         "x0": " ",
         "xaxis": "x",
         "y": [
          3.33,
          3.33,
          3.81,
          4.17,
          4.04,
          3.83,
          3.62,
          3.43,
          3.62,
          3.68,
          3.64,
          4.24
         ],
         "y0": " ",
         "yaxis": "y"
        },
        {
         "alignmentgroup": "True",
         "boxpoints": "all",
         "hovertemplate": "Year=%{x}<br>Price (USD/MMBtu)=%{y}<extra></extra>",
         "legendgroup": "2014",
         "marker": {
          "color": "#B6E880"
         },
         "name": "2014",
         "notched": false,
         "offsetgroup": "2014",
         "orientation": "v",
         "showlegend": true,
         "type": "box",
         "x": [
          2014,
          2014,
          2014,
          2014,
          2014,
          2014,
          2014,
          2014,
          2014,
          2014,
          2014,
          2014
         ],
         "x0": " ",
         "xaxis": "x",
         "y": [
          4.71,
          6,
          4.9,
          4.66,
          4.58,
          4.59,
          4.05,
          3.91,
          3.92,
          3.78,
          4.12,
          3.48
         ],
         "y0": " ",
         "yaxis": "y"
        },
        {
         "alignmentgroup": "True",
         "boxpoints": "all",
         "hovertemplate": "Year=%{x}<br>Price (USD/MMBtu)=%{y}<extra></extra>",
         "legendgroup": "2015",
         "marker": {
          "color": "#FF97FF"
         },
         "name": "2015",
         "notched": false,
         "offsetgroup": "2015",
         "orientation": "v",
         "showlegend": true,
         "type": "box",
         "x": [
          2015,
          2015,
          2015,
          2015,
          2015,
          2015,
          2015,
          2015,
          2015,
          2015,
          2015,
          2015
         ],
         "x0": " ",
         "xaxis": "x",
         "y": [
          2.99,
          2.87,
          2.83,
          2.61,
          2.85,
          2.78,
          2.84,
          2.77,
          2.66,
          2.34,
          2.09,
          1.93
         ],
         "y0": " ",
         "yaxis": "y"
        },
        {
         "alignmentgroup": "True",
         "boxpoints": "all",
         "hovertemplate": "Year=%{x}<br>Price (USD/MMBtu)=%{y}<extra></extra>",
         "legendgroup": "2016",
         "marker": {
          "color": "#FECB52"
         },
         "name": "2016",
         "notched": false,
         "offsetgroup": "2016",
         "orientation": "v",
         "showlegend": true,
         "type": "box",
         "x": [
          2016,
          2016,
          2016,
          2016,
          2016,
          2016,
          2016,
          2016,
          2016,
          2016,
          2016,
          2016
         ],
         "x0": " ",
         "xaxis": "x",
         "y": [
          2.28,
          1.99,
          1.73,
          1.92,
          1.92,
          2.59,
          2.82,
          2.82,
          2.99,
          2.98,
          2.55,
          3.59
         ],
         "y0": " ",
         "yaxis": "y"
        },
        {
         "alignmentgroup": "True",
         "boxpoints": "all",
         "hovertemplate": "Year=%{x}<br>Price (USD/MMBtu)=%{y}<extra></extra>",
         "legendgroup": "2017",
         "marker": {
          "color": "#636efa"
         },
         "name": "2017",
         "notched": false,
         "offsetgroup": "2017",
         "orientation": "v",
         "showlegend": true,
         "type": "box",
         "x": [
          2017,
          2017,
          2017,
          2017,
          2017,
          2017,
          2017,
          2017,
          2017,
          2017,
          2017,
          2017
         ],
         "x0": " ",
         "xaxis": "x",
         "y": [
          3.3,
          2.85,
          2.88,
          3.1,
          3.15,
          2.98,
          2.98,
          2.9,
          2.98,
          2.88,
          3.01,
          2.82
         ],
         "y0": " ",
         "yaxis": "y"
        },
        {
         "alignmentgroup": "True",
         "boxpoints": "all",
         "hovertemplate": "Year=%{x}<br>Price (USD/MMBtu)=%{y}<extra></extra>",
         "legendgroup": "2018",
         "marker": {
          "color": "#EF553B"
         },
         "name": "2018",
         "notched": false,
         "offsetgroup": "2018",
         "orientation": "v",
         "showlegend": true,
         "type": "box",
         "x": [
          2018,
          2018,
          2018,
          2018,
          2018,
          2018,
          2018,
          2018,
          2018,
          2018,
          2018,
          2018
         ],
         "x0": " ",
         "xaxis": "x",
         "y": [
          3.87,
          2.67,
          2.69,
          2.8,
          2.8,
          2.97,
          2.83,
          2.96,
          3,
          3.28,
          4.09,
          4.04
         ],
         "y0": " ",
         "yaxis": "y"
        },
        {
         "alignmentgroup": "True",
         "boxpoints": "all",
         "hovertemplate": "Year=%{x}<br>Price (USD/MMBtu)=%{y}<extra></extra>",
         "legendgroup": "2019",
         "marker": {
          "color": "#00cc96"
         },
         "name": "2019",
         "notched": false,
         "offsetgroup": "2019",
         "orientation": "v",
         "showlegend": true,
         "type": "box",
         "x": [
          2019,
          2019,
          2019,
          2019,
          2019,
          2019,
          2019,
          2019,
          2019,
          2019,
          2019,
          2019
         ],
         "x0": " ",
         "xaxis": "x",
         "y": [
          3.11,
          2.69,
          2.95,
          2.65,
          2.64,
          2.4,
          2.37,
          2.22,
          2.56,
          2.33,
          2.65,
          2.22
         ],
         "y0": " ",
         "yaxis": "y"
        },
        {
         "alignmentgroup": "True",
         "boxpoints": "all",
         "hovertemplate": "Year=%{x}<br>Price (USD/MMBtu)=%{y}<extra></extra>",
         "legendgroup": "2020",
         "marker": {
          "color": "#ab63fa"
         },
         "name": "2020",
         "notched": false,
         "offsetgroup": "2020",
         "orientation": "v",
         "showlegend": true,
         "type": "box",
         "x": [
          2020,
          2020,
          2020,
          2020,
          2020,
          2020,
          2020,
          2020,
          2020,
          2020,
          2020,
          2020
         ],
         "x0": " ",
         "xaxis": "x",
         "y": [
          2.02,
          1.91,
          1.79,
          1.74,
          1.75,
          1.63,
          1.76,
          2.3,
          1.92,
          2.39,
          2.61,
          2.58
         ],
         "y0": " ",
         "yaxis": "y"
        },
        {
         "alignmentgroup": "True",
         "boxpoints": "all",
         "hovertemplate": "Year=%{x}<br>Price (USD/MMBtu)=%{y}<extra></extra>",
         "legendgroup": "2021",
         "marker": {
          "color": "#FFA15A"
         },
         "name": "2021",
         "notched": false,
         "offsetgroup": "2021",
         "orientation": "v",
         "showlegend": true,
         "type": "box",
         "x": [
          2021,
          2021,
          2021,
          2021,
          2021,
          2021,
          2021,
          2021,
          2021,
          2021,
          2021,
          2021
         ],
         "x0": " ",
         "xaxis": "x",
         "y": [
          2.71,
          5.35,
          2.62,
          2.66,
          2.91,
          3.26,
          3.84,
          4.07,
          5.16,
          5.51,
          5.05,
          3.76
         ],
         "y0": " ",
         "yaxis": "y"
        },
        {
         "alignmentgroup": "True",
         "boxpoints": "all",
         "hovertemplate": "Year=%{x}<br>Price (USD/MMBtu)=%{y}<extra></extra>",
         "legendgroup": "2022",
         "marker": {
          "color": "#19d3f3"
         },
         "name": "2022",
         "notched": false,
         "offsetgroup": "2022",
         "orientation": "v",
         "showlegend": true,
         "type": "box",
         "x": [
          2022,
          2022,
          2022,
          2022,
          2022,
          2022,
          2022,
          2022,
          2022,
          2022,
          2022,
          2022
         ],
         "x0": " ",
         "xaxis": "x",
         "y": [
          4.38,
          4.69,
          4.9,
          6.6,
          8.14,
          7.7,
          7.28,
          8.81,
          7.88,
          5.66,
          5.45,
          5.53
         ],
         "y0": " ",
         "yaxis": "y"
        },
        {
         "alignmentgroup": "True",
         "boxpoints": "all",
         "hovertemplate": "Year=%{x}<br>Price (USD/MMBtu)=%{y}<extra></extra>",
         "legendgroup": "2023",
         "marker": {
          "color": "#FF6692"
         },
         "name": "2023",
         "notched": false,
         "offsetgroup": "2023",
         "orientation": "v",
         "showlegend": true,
         "type": "box",
         "x": [
          2023,
          2023,
          2023,
          2023,
          2023,
          2023,
          2023,
          2023,
          2023,
          2023,
          2023,
          2023
         ],
         "x0": " ",
         "xaxis": "x",
         "y": [
          3.27,
          2.38,
          2.31,
          2.16,
          2.15,
          2.18,
          2.55,
          2.58,
          2.64,
          2.98,
          2.71,
          2.52
         ],
         "y0": " ",
         "yaxis": "y"
        },
        {
         "alignmentgroup": "True",
         "boxpoints": "all",
         "hovertemplate": "Year=%{x}<br>Price (USD/MMBtu)=%{y}<extra></extra>",
         "legendgroup": "2024",
         "marker": {
          "color": "#B6E880"
         },
         "name": "2024",
         "notched": false,
         "offsetgroup": "2024",
         "orientation": "v",
         "showlegend": true,
         "type": "box",
         "x": [
          2024,
          2024,
          2024,
          2024,
          2024,
          2024,
          2024,
          2024,
          2024,
          2024,
          2024,
          2024
         ],
         "x0": " ",
         "xaxis": "x",
         "y": [
          3.18,
          1.72,
          1.49,
          1.6,
          2.12,
          2.54,
          2.07,
          1.99,
          2.28,
          2.2,
          2.12,
          3.01
         ],
         "y0": " ",
         "yaxis": "y"
        },
        {
         "alignmentgroup": "True",
         "boxpoints": "all",
         "hovertemplate": "Year=%{x}<br>Price (USD/MMBtu)=%{y}<extra></extra>",
         "legendgroup": "2025",
         "marker": {
          "color": "#FF97FF"
         },
         "name": "2025",
         "notched": false,
         "offsetgroup": "2025",
         "orientation": "v",
         "showlegend": true,
         "type": "box",
         "x": [
          2025,
          2025
         ],
         "x0": " ",
         "xaxis": "x",
         "y": [
          4.13,
          4.19
         ],
         "y0": " ",
         "yaxis": "y"
        }
       ],
       "layout": {
        "boxmode": "overlay",
        "legend": {
         "title": {
          "text": "Year"
         },
         "tracegroupgap": 0
        },
        "showlegend": false,
        "template": {
         "data": {
          "bar": [
           {
            "error_x": {
             "color": "#2a3f5f"
            },
            "error_y": {
             "color": "#2a3f5f"
            },
            "marker": {
             "line": {
              "color": "#E5ECF6",
              "width": 0.5
             },
             "pattern": {
              "fillmode": "overlay",
              "size": 10,
              "solidity": 0.2
             }
            },
            "type": "bar"
           }
          ],
          "barpolar": [
           {
            "marker": {
             "line": {
              "color": "#E5ECF6",
              "width": 0.5
             },
             "pattern": {
              "fillmode": "overlay",
              "size": 10,
              "solidity": 0.2
             }
            },
            "type": "barpolar"
           }
          ],
          "carpet": [
           {
            "aaxis": {
             "endlinecolor": "#2a3f5f",
             "gridcolor": "white",
             "linecolor": "white",
             "minorgridcolor": "white",
             "startlinecolor": "#2a3f5f"
            },
            "baxis": {
             "endlinecolor": "#2a3f5f",
             "gridcolor": "white",
             "linecolor": "white",
             "minorgridcolor": "white",
             "startlinecolor": "#2a3f5f"
            },
            "type": "carpet"
           }
          ],
          "choropleth": [
           {
            "colorbar": {
             "outlinewidth": 0,
             "ticks": ""
            },
            "type": "choropleth"
           }
          ],
          "contour": [
           {
            "colorbar": {
             "outlinewidth": 0,
             "ticks": ""
            },
            "colorscale": [
             [
              0,
              "#0d0887"
             ],
             [
              0.1111111111111111,
              "#46039f"
             ],
             [
              0.2222222222222222,
              "#7201a8"
             ],
             [
              0.3333333333333333,
              "#9c179e"
             ],
             [
              0.4444444444444444,
              "#bd3786"
             ],
             [
              0.5555555555555556,
              "#d8576b"
             ],
             [
              0.6666666666666666,
              "#ed7953"
             ],
             [
              0.7777777777777778,
              "#fb9f3a"
             ],
             [
              0.8888888888888888,
              "#fdca26"
             ],
             [
              1,
              "#f0f921"
             ]
            ],
            "type": "contour"
           }
          ],
          "contourcarpet": [
           {
            "colorbar": {
             "outlinewidth": 0,
             "ticks": ""
            },
            "type": "contourcarpet"
           }
          ],
          "heatmap": [
           {
            "colorbar": {
             "outlinewidth": 0,
             "ticks": ""
            },
            "colorscale": [
             [
              0,
              "#0d0887"
             ],
             [
              0.1111111111111111,
              "#46039f"
             ],
             [
              0.2222222222222222,
              "#7201a8"
             ],
             [
              0.3333333333333333,
              "#9c179e"
             ],
             [
              0.4444444444444444,
              "#bd3786"
             ],
             [
              0.5555555555555556,
              "#d8576b"
             ],
             [
              0.6666666666666666,
              "#ed7953"
             ],
             [
              0.7777777777777778,
              "#fb9f3a"
             ],
             [
              0.8888888888888888,
              "#fdca26"
             ],
             [
              1,
              "#f0f921"
             ]
            ],
            "type": "heatmap"
           }
          ],
          "heatmapgl": [
           {
            "colorbar": {
             "outlinewidth": 0,
             "ticks": ""
            },
            "colorscale": [
             [
              0,
              "#0d0887"
             ],
             [
              0.1111111111111111,
              "#46039f"
             ],
             [
              0.2222222222222222,
              "#7201a8"
             ],
             [
              0.3333333333333333,
              "#9c179e"
             ],
             [
              0.4444444444444444,
              "#bd3786"
             ],
             [
              0.5555555555555556,
              "#d8576b"
             ],
             [
              0.6666666666666666,
              "#ed7953"
             ],
             [
              0.7777777777777778,
              "#fb9f3a"
             ],
             [
              0.8888888888888888,
              "#fdca26"
             ],
             [
              1,
              "#f0f921"
             ]
            ],
            "type": "heatmapgl"
           }
          ],
          "histogram": [
           {
            "marker": {
             "pattern": {
              "fillmode": "overlay",
              "size": 10,
              "solidity": 0.2
             }
            },
            "type": "histogram"
           }
          ],
          "histogram2d": [
           {
            "colorbar": {
             "outlinewidth": 0,
             "ticks": ""
            },
            "colorscale": [
             [
              0,
              "#0d0887"
             ],
             [
              0.1111111111111111,
              "#46039f"
             ],
             [
              0.2222222222222222,
              "#7201a8"
             ],
             [
              0.3333333333333333,
              "#9c179e"
             ],
             [
              0.4444444444444444,
              "#bd3786"
             ],
             [
              0.5555555555555556,
              "#d8576b"
             ],
             [
              0.6666666666666666,
              "#ed7953"
             ],
             [
              0.7777777777777778,
              "#fb9f3a"
             ],
             [
              0.8888888888888888,
              "#fdca26"
             ],
             [
              1,
              "#f0f921"
             ]
            ],
            "type": "histogram2d"
           }
          ],
          "histogram2dcontour": [
           {
            "colorbar": {
             "outlinewidth": 0,
             "ticks": ""
            },
            "colorscale": [
             [
              0,
              "#0d0887"
             ],
             [
              0.1111111111111111,
              "#46039f"
             ],
             [
              0.2222222222222222,
              "#7201a8"
             ],
             [
              0.3333333333333333,
              "#9c179e"
             ],
             [
              0.4444444444444444,
              "#bd3786"
             ],
             [
              0.5555555555555556,
              "#d8576b"
             ],
             [
              0.6666666666666666,
              "#ed7953"
             ],
             [
              0.7777777777777778,
              "#fb9f3a"
             ],
             [
              0.8888888888888888,
              "#fdca26"
             ],
             [
              1,
              "#f0f921"
             ]
            ],
            "type": "histogram2dcontour"
           }
          ],
          "mesh3d": [
           {
            "colorbar": {
             "outlinewidth": 0,
             "ticks": ""
            },
            "type": "mesh3d"
           }
          ],
          "parcoords": [
           {
            "line": {
             "colorbar": {
              "outlinewidth": 0,
              "ticks": ""
             }
            },
            "type": "parcoords"
           }
          ],
          "pie": [
           {
            "automargin": true,
            "type": "pie"
           }
          ],
          "scatter": [
           {
            "fillpattern": {
             "fillmode": "overlay",
             "size": 10,
             "solidity": 0.2
            },
            "type": "scatter"
           }
          ],
          "scatter3d": [
           {
            "line": {
             "colorbar": {
              "outlinewidth": 0,
              "ticks": ""
             }
            },
            "marker": {
             "colorbar": {
              "outlinewidth": 0,
              "ticks": ""
             }
            },
            "type": "scatter3d"
           }
          ],
          "scattercarpet": [
           {
            "marker": {
             "colorbar": {
              "outlinewidth": 0,
              "ticks": ""
             }
            },
            "type": "scattercarpet"
           }
          ],
          "scattergeo": [
           {
            "marker": {
             "colorbar": {
              "outlinewidth": 0,
              "ticks": ""
             }
            },
            "type": "scattergeo"
           }
          ],
          "scattergl": [
           {
            "marker": {
             "colorbar": {
              "outlinewidth": 0,
              "ticks": ""
             }
            },
            "type": "scattergl"
           }
          ],
          "scattermapbox": [
           {
            "marker": {
             "colorbar": {
              "outlinewidth": 0,
              "ticks": ""
             }
            },
            "type": "scattermapbox"
           }
          ],
          "scatterpolar": [
           {
            "marker": {
             "colorbar": {
              "outlinewidth": 0,
              "ticks": ""
             }
            },
            "type": "scatterpolar"
           }
          ],
          "scatterpolargl": [
           {
            "marker": {
             "colorbar": {
              "outlinewidth": 0,
              "ticks": ""
             }
            },
            "type": "scatterpolargl"
           }
          ],
          "scatterternary": [
           {
            "marker": {
             "colorbar": {
              "outlinewidth": 0,
              "ticks": ""
             }
            },
            "type": "scatterternary"
           }
          ],
          "surface": [
           {
            "colorbar": {
             "outlinewidth": 0,
             "ticks": ""
            },
            "colorscale": [
             [
              0,
              "#0d0887"
             ],
             [
              0.1111111111111111,
              "#46039f"
             ],
             [
              0.2222222222222222,
              "#7201a8"
             ],
             [
              0.3333333333333333,
              "#9c179e"
             ],
             [
              0.4444444444444444,
              "#bd3786"
             ],
             [
              0.5555555555555556,
              "#d8576b"
             ],
             [
              0.6666666666666666,
              "#ed7953"
             ],
             [
              0.7777777777777778,
              "#fb9f3a"
             ],
             [
              0.8888888888888888,
              "#fdca26"
             ],
             [
              1,
              "#f0f921"
             ]
            ],
            "type": "surface"
           }
          ],
          "table": [
           {
            "cells": {
             "fill": {
              "color": "#EBF0F8"
             },
             "line": {
              "color": "white"
             }
            },
            "header": {
             "fill": {
              "color": "#C8D4E3"
             },
             "line": {
              "color": "white"
             }
            },
            "type": "table"
           }
          ]
         },
         "layout": {
          "annotationdefaults": {
           "arrowcolor": "#2a3f5f",
           "arrowhead": 0,
           "arrowwidth": 1
          },
          "autotypenumbers": "strict",
          "coloraxis": {
           "colorbar": {
            "outlinewidth": 0,
            "ticks": ""
           }
          },
          "colorscale": {
           "diverging": [
            [
             0,
             "#8e0152"
            ],
            [
             0.1,
             "#c51b7d"
            ],
            [
             0.2,
             "#de77ae"
            ],
            [
             0.3,
             "#f1b6da"
            ],
            [
             0.4,
             "#fde0ef"
            ],
            [
             0.5,
             "#f7f7f7"
            ],
            [
             0.6,
             "#e6f5d0"
            ],
            [
             0.7,
             "#b8e186"
            ],
            [
             0.8,
             "#7fbc41"
            ],
            [
             0.9,
             "#4d9221"
            ],
            [
             1,
             "#276419"
            ]
           ],
           "sequential": [
            [
             0,
             "#0d0887"
            ],
            [
             0.1111111111111111,
             "#46039f"
            ],
            [
             0.2222222222222222,
             "#7201a8"
            ],
            [
             0.3333333333333333,
             "#9c179e"
            ],
            [
             0.4444444444444444,
             "#bd3786"
            ],
            [
             0.5555555555555556,
             "#d8576b"
            ],
            [
             0.6666666666666666,
             "#ed7953"
            ],
            [
             0.7777777777777778,
             "#fb9f3a"
            ],
            [
             0.8888888888888888,
             "#fdca26"
            ],
            [
             1,
             "#f0f921"
            ]
           ],
           "sequentialminus": [
            [
             0,
             "#0d0887"
            ],
            [
             0.1111111111111111,
             "#46039f"
            ],
            [
             0.2222222222222222,
             "#7201a8"
            ],
            [
             0.3333333333333333,
             "#9c179e"
            ],
            [
             0.4444444444444444,
             "#bd3786"
            ],
            [
             0.5555555555555556,
             "#d8576b"
            ],
            [
             0.6666666666666666,
             "#ed7953"
            ],
            [
             0.7777777777777778,
             "#fb9f3a"
            ],
            [
             0.8888888888888888,
             "#fdca26"
            ],
            [
             1,
             "#f0f921"
            ]
           ]
          },
          "colorway": [
           "#636efa",
           "#EF553B",
           "#00cc96",
           "#ab63fa",
           "#FFA15A",
           "#19d3f3",
           "#FF6692",
           "#B6E880",
           "#FF97FF",
           "#FECB52"
          ],
          "font": {
           "color": "#2a3f5f"
          },
          "geo": {
           "bgcolor": "white",
           "lakecolor": "white",
           "landcolor": "#E5ECF6",
           "showlakes": true,
           "showland": true,
           "subunitcolor": "white"
          },
          "hoverlabel": {
           "align": "left"
          },
          "hovermode": "closest",
          "mapbox": {
           "style": "light"
          },
          "paper_bgcolor": "white",
          "plot_bgcolor": "#E5ECF6",
          "polar": {
           "angularaxis": {
            "gridcolor": "white",
            "linecolor": "white",
            "ticks": ""
           },
           "bgcolor": "#E5ECF6",
           "radialaxis": {
            "gridcolor": "white",
            "linecolor": "white",
            "ticks": ""
           }
          },
          "scene": {
           "xaxis": {
            "backgroundcolor": "#E5ECF6",
            "gridcolor": "white",
            "gridwidth": 2,
            "linecolor": "white",
            "showbackground": true,
            "ticks": "",
            "zerolinecolor": "white"
           },
           "yaxis": {
            "backgroundcolor": "#E5ECF6",
            "gridcolor": "white",
            "gridwidth": 2,
            "linecolor": "white",
            "showbackground": true,
            "ticks": "",
            "zerolinecolor": "white"
           },
           "zaxis": {
            "backgroundcolor": "#E5ECF6",
            "gridcolor": "white",
            "gridwidth": 2,
            "linecolor": "white",
            "showbackground": true,
            "ticks": "",
            "zerolinecolor": "white"
           }
          },
          "shapedefaults": {
           "line": {
            "color": "#2a3f5f"
           }
          },
          "ternary": {
           "aaxis": {
            "gridcolor": "white",
            "linecolor": "white",
            "ticks": ""
           },
           "baxis": {
            "gridcolor": "white",
            "linecolor": "white",
            "ticks": ""
           },
           "bgcolor": "#E5ECF6",
           "caxis": {
            "gridcolor": "white",
            "linecolor": "white",
            "ticks": ""
           }
          },
          "title": {
           "x": 0.05
          },
          "xaxis": {
           "automargin": true,
           "gridcolor": "white",
           "linecolor": "white",
           "ticks": "",
           "title": {
            "standoff": 15
           },
           "zerolinecolor": "white",
           "zerolinewidth": 2
          },
          "yaxis": {
           "automargin": true,
           "gridcolor": "white",
           "linecolor": "white",
           "ticks": "",
           "title": {
            "standoff": 15
           },
           "zerolinecolor": "white",
           "zerolinewidth": 2
          }
         }
        },
        "title": {
         "text": "Henry Hub Natural Gas Prices by Year (2007 onwards)"
        },
        "xaxis": {
         "anchor": "y",
         "categoryarray": [
          2007,
          2008,
          2009,
          2010,
          2011,
          2012,
          2013,
          2014,
          2015,
          2016,
          2017,
          2018,
          2019,
          2020,
          2021,
          2022,
          2023,
          2024,
          2025
         ],
         "categoryorder": "array",
         "domain": [
          0,
          1
         ],
         "tickangle": 45,
         "title": {
          "text": "Year"
         }
        },
        "yaxis": {
         "anchor": "x",
         "domain": [
          0,
          1
         ],
         "title": {
          "text": "Price (USD/MMBtu)"
         }
        }
       }
      }
     },
     "metadata": {},
     "output_type": "display_data"
    }
   ],
   "source": [
    "\n",
    "import pandas as pd\n",
    "import plotly.express as px\n",
    "\n",
    "df = pd.read_excel('RNGWHHDm.xls', sheet_name= 'Data 1', header = 2)\n",
    "\n",
    "print(df.columns)\n",
    "time_column = 'Date'\n",
    "df[time_column] = pd.to_datetime(df[time_column])  # 시간 열을 datetime 형식으로 변환\n",
    "df_date = df.set_index(time_column) \n",
    "\n",
    "# 1. 네 데이터프레임 (가정: gas_prices라는 이름)\n",
    "# 네 실제 데이터프레임 이름으로 대체\n",
    "df = df.copy()\n",
    "\n",
    "# 2. 열 이름 간소화\n",
    "df = df.rename(columns={'Henry Hub Natural Gas Spot Price (Dollars per Million Btu)': 'Price'})\n",
    "\n",
    "# 3. 날짜를 datetime으로 변환\n",
    "df['Date'] = pd.to_datetime(df['Date'])\n",
    "\n",
    "# 4. 2007년 이후 데이터 필터링\n",
    "df = df[df['Date'] >= '2007-01-01']\n",
    "\n",
    "# 5. 날짜를 연도 단위로 그룹화\n",
    "df['Year'] = df['Date'].dt.year\n",
    "\n",
    "# 6. 박스 그래프 생성\n",
    "fig = px.box(\n",
    "    df,\n",
    "    x='Year',\n",
    "    y='Price',\n",
    "    title='Henry Hub Natural Gas Prices by Year (2007 onwards)',\n",
    "    labels={'Year': 'Year', 'Price': 'Price (USD/MMBtu)'},\n",
    "    color='Year',  # 연도별 색상 구분\n",
    "    points='all'  # 개별 데이터 포인트 표시\n",
    ")\n",
    "\n",
    "# 7. 레이아웃 조정\n",
    "fig.update_layout(\n",
    "    xaxis_title='Year',\n",
    "    yaxis_title='Price (USD/MMBtu)',\n",
    "    showlegend=False,  # 범례 제거\n",
    "    xaxis={'tickangle': 45}  # x축 레이블 45도 회전\n",
    ")\n",
    "\n",
    "fig.show()"
   ]
  },
  {
   "cell_type": "code",
   "execution_count": null,
   "metadata": {},
   "outputs": [],
   "source": [
    "df = pd.read_excel('NG_PROD_SUM_A_EPG0_FPD_MMCF_A.xls', sheet_name= 'Data 1', header = 2)\n",
    "\n",
    "print(df.columns)\n",
    "time_column = 'Date'\n",
    "df[time_column] = pd.to_datetime(df[time_column])  # 시간 열을 datetime 형식으로 변환\n",
    "df_date = df.set_index(time_column)  # 여기서 에러가 발생하지 않도록 문자열로 전달\n",
    "\n",
    "# 딕셔너리로 변환\n",
    "df = pd.DataFrame(list(df_date.items()), columns=[\"State\", \"Storage Capacity\"])\n",
    "\n",
    "# 'State' 컬럼에서 주 이름만 추출 (첫 번째 항목만 특별 처리)\n",
    "df['State'] = df['State'].apply(lambda x: \"U.S. Total\" if \"U.S. Total\" in x else x.split()[0])\n"
   ]
  }
 ],
 "metadata": {
  "kernelspec": {
   "display_name": "base",
   "language": "python",
   "name": "python3"
  },
  "language_info": {
   "codemirror_mode": {
    "name": "ipython",
    "version": 3
   },
   "file_extension": ".py",
   "mimetype": "text/x-python",
   "name": "python",
   "nbconvert_exporter": "python",
   "pygments_lexer": "ipython3",
   "version": "3.12.7"
  }
 },
 "nbformat": 4,
 "nbformat_minor": 2
}
